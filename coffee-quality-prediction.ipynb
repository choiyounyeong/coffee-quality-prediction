{
 "cells": [
  {
   "cell_type": "markdown",
   "metadata": {},
   "source": [
    "#### CSCA 5632 Unsupervised Algorithms in Machine Learning\n",
    "\n",
    "# Final project: Coffee Quality Prediction\n",
    "***\n",
    "\n",
    "### Project Summary\n",
    "This project aims to build a predictive model for estimating the total cup points, a comprehensive metric of coffee quality, based on influencing factors. This is the final assignment for the CSCA 5632 course.\n",
    "\n",
    "We will conduct data cleaning and Exploratory Data Analysis (EDA) to inspect, visualize, and cleanse the data. The project will employ an unsupervised approach(K means clustering) to discover structures or patterns within the data without relying on predefined labels, thereby understanding the underlying segmentation. Lastly, we will use a supervised approach to predict the 'Total Cup Points' for the dataset.\n",
    "\n",
    "### Data Source\n",
    "\n",
    "The data is sourced from the [Coffee Quality Data (CQI May-2023)](https://www.kaggle.com/datasets/fatihb/coffee-quality-data-cqi?select=df_arabica_clean.csv)\n",
    "\n",
    "It includes one CSV file (df_arabica_clean), which is publicly accessible. The file size is 115 KB and contains 41 columns and 208 rows in total."
   ]
  },
  {
   "cell_type": "markdown",
   "metadata": {},
   "source": [
    "## Data Cleaning"
   ]
  },
  {
   "cell_type": "code",
   "execution_count": 1,
   "metadata": {},
   "outputs": [],
   "source": [
    "import pandas as pd\n",
    "from dateutil import parser\n",
    "from plotly.subplots import make_subplots\n",
    "import plotly.graph_objects as go\n",
    "import plotly.express as px\n",
    "import seaborn as sns\n",
    "import matplotlib.pyplot as plt\n",
    "import numpy as np\n",
    "\n",
    "from sklearn.preprocessing import StandardScaler, LabelEncoder, MinMaxScaler, OneHotEncoder\n",
    "from sklearn.manifold import TSNE\n",
    "from sklearn.cluster import KMeans\n",
    "from sklearn.model_selection import train_test_split, GridSearchCV, cross_val_score\n",
    "from sklearn.ensemble import RandomForestRegressor\n",
    "from sklearn.metrics import mean_squared_error\n",
    "from sklearn.compose import ColumnTransformer\n",
    "from sklearn.pipeline import Pipeline"
   ]
  },
  {
   "cell_type": "code",
   "execution_count": 2,
   "metadata": {},
   "outputs": [],
   "source": [
    "df = pd.read_csv(\"data/df_arabica_clean.csv\")"
   ]
  },
  {
   "cell_type": "code",
   "execution_count": 3,
   "metadata": {},
   "outputs": [
    {
     "data": {
      "text/html": [
       "<div>\n",
       "<style scoped>\n",
       "    .dataframe tbody tr th:only-of-type {\n",
       "        vertical-align: middle;\n",
       "    }\n",
       "\n",
       "    .dataframe tbody tr th {\n",
       "        vertical-align: top;\n",
       "    }\n",
       "\n",
       "    .dataframe thead th {\n",
       "        text-align: right;\n",
       "    }\n",
       "</style>\n",
       "<table border=\"1\" class=\"dataframe\">\n",
       "  <thead>\n",
       "    <tr style=\"text-align: right;\">\n",
       "      <th></th>\n",
       "      <th>Unnamed: 0</th>\n",
       "      <th>ID</th>\n",
       "      <th>Country of Origin</th>\n",
       "      <th>Farm Name</th>\n",
       "      <th>Lot Number</th>\n",
       "      <th>Mill</th>\n",
       "      <th>ICO Number</th>\n",
       "      <th>Company</th>\n",
       "      <th>Altitude</th>\n",
       "      <th>Region</th>\n",
       "      <th>...</th>\n",
       "      <th>Total Cup Points</th>\n",
       "      <th>Moisture Percentage</th>\n",
       "      <th>Category One Defects</th>\n",
       "      <th>Quakers</th>\n",
       "      <th>Color</th>\n",
       "      <th>Category Two Defects</th>\n",
       "      <th>Expiration</th>\n",
       "      <th>Certification Body</th>\n",
       "      <th>Certification Address</th>\n",
       "      <th>Certification Contact</th>\n",
       "    </tr>\n",
       "  </thead>\n",
       "  <tbody>\n",
       "    <tr>\n",
       "      <th>0</th>\n",
       "      <td>0</td>\n",
       "      <td>0</td>\n",
       "      <td>Colombia</td>\n",
       "      <td>Finca El Paraiso</td>\n",
       "      <td>CQU2022015</td>\n",
       "      <td>Finca El Paraiso</td>\n",
       "      <td>NaN</td>\n",
       "      <td>Coffee Quality Union</td>\n",
       "      <td>1700-1930</td>\n",
       "      <td>Piendamo,Cauca</td>\n",
       "      <td>...</td>\n",
       "      <td>89.33</td>\n",
       "      <td>11.8</td>\n",
       "      <td>0</td>\n",
       "      <td>0</td>\n",
       "      <td>green</td>\n",
       "      <td>3</td>\n",
       "      <td>September 21st, 2023</td>\n",
       "      <td>Japan Coffee Exchange</td>\n",
       "      <td>〒413-0002 静岡県熱海市伊豆山１１７３−５８ 1173-58 Izusan, Ata...</td>\n",
       "      <td>松澤　宏樹　Koju Matsuzawa - +81(0)9085642901</td>\n",
       "    </tr>\n",
       "    <tr>\n",
       "      <th>1</th>\n",
       "      <td>1</td>\n",
       "      <td>1</td>\n",
       "      <td>Taiwan</td>\n",
       "      <td>Royal Bean Geisha Estate</td>\n",
       "      <td>The 2022 Pacific Rim Coffee Summit,T037</td>\n",
       "      <td>Royal Bean Geisha Estate</td>\n",
       "      <td>NaN</td>\n",
       "      <td>Taiwan Coffee Laboratory</td>\n",
       "      <td>1200</td>\n",
       "      <td>Chiayi</td>\n",
       "      <td>...</td>\n",
       "      <td>87.58</td>\n",
       "      <td>10.5</td>\n",
       "      <td>0</td>\n",
       "      <td>0</td>\n",
       "      <td>blue-green</td>\n",
       "      <td>0</td>\n",
       "      <td>November 15th, 2023</td>\n",
       "      <td>Taiwan Coffee Laboratory 台灣咖啡研究室</td>\n",
       "      <td>QAHWAH CO., LTD 4F, No. 225, Sec. 3, Beixin Rd...</td>\n",
       "      <td>Lin, Jen-An Neil 林仁安 - 886-289116612</td>\n",
       "    </tr>\n",
       "    <tr>\n",
       "      <th>2</th>\n",
       "      <td>2</td>\n",
       "      <td>2</td>\n",
       "      <td>Laos</td>\n",
       "      <td>OKLAO coffee farms</td>\n",
       "      <td>The 2022 Pacific Rim Coffee Summit,LA01</td>\n",
       "      <td>oklao coffee processing plant</td>\n",
       "      <td>NaN</td>\n",
       "      <td>Taiwan Coffee Laboratory</td>\n",
       "      <td>1300</td>\n",
       "      <td>Laos Borofen Plateau</td>\n",
       "      <td>...</td>\n",
       "      <td>87.42</td>\n",
       "      <td>10.4</td>\n",
       "      <td>0</td>\n",
       "      <td>0</td>\n",
       "      <td>yellowish</td>\n",
       "      <td>2</td>\n",
       "      <td>November 15th, 2023</td>\n",
       "      <td>Taiwan Coffee Laboratory 台灣咖啡研究室</td>\n",
       "      <td>QAHWAH CO., LTD 4F, No. 225, Sec. 3, Beixin Rd...</td>\n",
       "      <td>Lin, Jen-An Neil 林仁安 - 886-289116612</td>\n",
       "    </tr>\n",
       "    <tr>\n",
       "      <th>3</th>\n",
       "      <td>3</td>\n",
       "      <td>3</td>\n",
       "      <td>Costa Rica</td>\n",
       "      <td>La Cumbre</td>\n",
       "      <td>CQU2022017</td>\n",
       "      <td>La Montana Tarrazu MIll</td>\n",
       "      <td>NaN</td>\n",
       "      <td>Coffee Quality Union</td>\n",
       "      <td>1900</td>\n",
       "      <td>Los Santos,Tarrazu</td>\n",
       "      <td>...</td>\n",
       "      <td>87.17</td>\n",
       "      <td>11.8</td>\n",
       "      <td>0</td>\n",
       "      <td>0</td>\n",
       "      <td>green</td>\n",
       "      <td>0</td>\n",
       "      <td>September 21st, 2023</td>\n",
       "      <td>Japan Coffee Exchange</td>\n",
       "      <td>〒413-0002 静岡県熱海市伊豆山１１７３−５８ 1173-58 Izusan, Ata...</td>\n",
       "      <td>松澤　宏樹　Koju Matsuzawa - +81(0)9085642901</td>\n",
       "    </tr>\n",
       "    <tr>\n",
       "      <th>4</th>\n",
       "      <td>4</td>\n",
       "      <td>4</td>\n",
       "      <td>Colombia</td>\n",
       "      <td>Finca Santuario</td>\n",
       "      <td>CQU2023002</td>\n",
       "      <td>Finca Santuario</td>\n",
       "      <td>NaN</td>\n",
       "      <td>Coffee Quality Union</td>\n",
       "      <td>1850-2100</td>\n",
       "      <td>Popayan,Cauca</td>\n",
       "      <td>...</td>\n",
       "      <td>87.08</td>\n",
       "      <td>11.6</td>\n",
       "      <td>0</td>\n",
       "      <td>2</td>\n",
       "      <td>yellow-green</td>\n",
       "      <td>2</td>\n",
       "      <td>March 5th, 2024</td>\n",
       "      <td>Japan Coffee Exchange</td>\n",
       "      <td>〒413-0002 静岡県熱海市伊豆山１１７３−５８ 1173-58 Izusan, Ata...</td>\n",
       "      <td>松澤　宏樹　Koju Matsuzawa - +81(0)9085642901</td>\n",
       "    </tr>\n",
       "  </tbody>\n",
       "</table>\n",
       "<p>5 rows × 41 columns</p>\n",
       "</div>"
      ],
      "text/plain": [
       "   Unnamed: 0  ID Country of Origin                 Farm Name  \\\n",
       "0           0   0          Colombia          Finca El Paraiso   \n",
       "1           1   1            Taiwan  Royal Bean Geisha Estate   \n",
       "2           2   2              Laos        OKLAO coffee farms   \n",
       "3           3   3        Costa Rica                 La Cumbre   \n",
       "4           4   4          Colombia           Finca Santuario   \n",
       "\n",
       "                                Lot Number                           Mill  \\\n",
       "0                               CQU2022015               Finca El Paraiso   \n",
       "1  The 2022 Pacific Rim Coffee Summit,T037       Royal Bean Geisha Estate   \n",
       "2  The 2022 Pacific Rim Coffee Summit,LA01  oklao coffee processing plant   \n",
       "3                               CQU2022017        La Montana Tarrazu MIll   \n",
       "4                               CQU2023002                Finca Santuario   \n",
       "\n",
       "  ICO Number                   Company   Altitude                Region  ...  \\\n",
       "0        NaN      Coffee Quality Union  1700-1930        Piendamo,Cauca  ...   \n",
       "1        NaN  Taiwan Coffee Laboratory       1200                Chiayi  ...   \n",
       "2        NaN  Taiwan Coffee Laboratory       1300  Laos Borofen Plateau  ...   \n",
       "3        NaN      Coffee Quality Union       1900    Los Santos,Tarrazu  ...   \n",
       "4        NaN      Coffee Quality Union  1850-2100         Popayan,Cauca  ...   \n",
       "\n",
       "  Total Cup Points  Moisture Percentage Category One Defects Quakers  \\\n",
       "0            89.33                 11.8                    0       0   \n",
       "1            87.58                 10.5                    0       0   \n",
       "2            87.42                 10.4                    0       0   \n",
       "3            87.17                 11.8                    0       0   \n",
       "4            87.08                 11.6                    0       2   \n",
       "\n",
       "          Color Category Two Defects            Expiration  \\\n",
       "0         green                    3  September 21st, 2023   \n",
       "1    blue-green                    0   November 15th, 2023   \n",
       "2     yellowish                    2   November 15th, 2023   \n",
       "3         green                    0  September 21st, 2023   \n",
       "4  yellow-green                    2       March 5th, 2024   \n",
       "\n",
       "                 Certification Body  \\\n",
       "0             Japan Coffee Exchange   \n",
       "1  Taiwan Coffee Laboratory 台灣咖啡研究室   \n",
       "2  Taiwan Coffee Laboratory 台灣咖啡研究室   \n",
       "3             Japan Coffee Exchange   \n",
       "4             Japan Coffee Exchange   \n",
       "\n",
       "                               Certification Address  \\\n",
       "0  〒413-0002 静岡県熱海市伊豆山１１７３−５８ 1173-58 Izusan, Ata...   \n",
       "1  QAHWAH CO., LTD 4F, No. 225, Sec. 3, Beixin Rd...   \n",
       "2  QAHWAH CO., LTD 4F, No. 225, Sec. 3, Beixin Rd...   \n",
       "3  〒413-0002 静岡県熱海市伊豆山１１７３−５８ 1173-58 Izusan, Ata...   \n",
       "4  〒413-0002 静岡県熱海市伊豆山１１７３−５８ 1173-58 Izusan, Ata...   \n",
       "\n",
       "                     Certification Contact  \n",
       "0  松澤　宏樹　Koju Matsuzawa - +81(0)9085642901  \n",
       "1     Lin, Jen-An Neil 林仁安 - 886-289116612  \n",
       "2     Lin, Jen-An Neil 林仁安 - 886-289116612  \n",
       "3  松澤　宏樹　Koju Matsuzawa - +81(0)9085642901  \n",
       "4  松澤　宏樹　Koju Matsuzawa - +81(0)9085642901  \n",
       "\n",
       "[5 rows x 41 columns]"
      ]
     },
     "execution_count": 3,
     "metadata": {},
     "output_type": "execute_result"
    }
   ],
   "source": [
    "df.head()"
   ]
  },
  {
   "cell_type": "code",
   "execution_count": 4,
   "metadata": {},
   "outputs": [
    {
     "name": "stdout",
     "output_type": "stream",
     "text": [
      "<class 'pandas.core.frame.DataFrame'>\n",
      "RangeIndex: 207 entries, 0 to 206\n",
      "Data columns (total 41 columns):\n",
      " #   Column                 Non-Null Count  Dtype  \n",
      "---  ------                 --------------  -----  \n",
      " 0   Unnamed: 0             207 non-null    int64  \n",
      " 1   ID                     207 non-null    int64  \n",
      " 2   Country of Origin      207 non-null    object \n",
      " 3   Farm Name              205 non-null    object \n",
      " 4   Lot Number             206 non-null    object \n",
      " 5   Mill                   204 non-null    object \n",
      " 6   ICO Number             75 non-null     object \n",
      " 7   Company                207 non-null    object \n",
      " 8   Altitude               206 non-null    object \n",
      " 9   Region                 205 non-null    object \n",
      " 10  Producer               206 non-null    object \n",
      " 11  Number of Bags         207 non-null    int64  \n",
      " 12  Bag Weight             207 non-null    object \n",
      " 13  In-Country Partner     207 non-null    object \n",
      " 14  Harvest Year           207 non-null    object \n",
      " 15  Grading Date           207 non-null    object \n",
      " 16  Owner                  207 non-null    object \n",
      " 17  Variety                201 non-null    object \n",
      " 18  Status                 207 non-null    object \n",
      " 19  Processing Method      202 non-null    object \n",
      " 20  Aroma                  207 non-null    float64\n",
      " 21  Flavor                 207 non-null    float64\n",
      " 22  Aftertaste             207 non-null    float64\n",
      " 23  Acidity                207 non-null    float64\n",
      " 24  Body                   207 non-null    float64\n",
      " 25  Balance                207 non-null    float64\n",
      " 26  Uniformity             207 non-null    float64\n",
      " 27  Clean Cup              207 non-null    float64\n",
      " 28  Sweetness              207 non-null    float64\n",
      " 29  Overall                207 non-null    float64\n",
      " 30  Defects                207 non-null    float64\n",
      " 31  Total Cup Points       207 non-null    float64\n",
      " 32  Moisture Percentage    207 non-null    float64\n",
      " 33  Category One Defects   207 non-null    int64  \n",
      " 34  Quakers                207 non-null    int64  \n",
      " 35  Color                  207 non-null    object \n",
      " 36  Category Two Defects   207 non-null    int64  \n",
      " 37  Expiration             207 non-null    object \n",
      " 38  Certification Body     207 non-null    object \n",
      " 39  Certification Address  207 non-null    object \n",
      " 40  Certification Contact  207 non-null    object \n",
      "dtypes: float64(13), int64(6), object(22)\n",
      "memory usage: 66.4+ KB\n"
     ]
    }
   ],
   "source": [
    "df.info()"
   ]
  },
  {
   "cell_type": "markdown",
   "metadata": {},
   "source": [
    "After reviewing the basic characteristics of the dataset, let's begin by checking for duplicate rows."
   ]
  },
  {
   "cell_type": "code",
   "execution_count": 5,
   "metadata": {},
   "outputs": [
    {
     "name": "stdout",
     "output_type": "stream",
     "text": [
      "Number of duplicated rows:  0\n"
     ]
    }
   ],
   "source": [
    "# Check and handle duplicates\n",
    "duplicated = df[df.duplicated()]\n",
    "print(\"Number of duplicated rows: \", duplicated.shape[0])"
   ]
  },
  {
   "cell_type": "markdown",
   "metadata": {},
   "source": [
    "We confirmed that there are no duplicate rows; next, we will check the missing ratio in the data. Since we plan to drop some unrelated columns soon, we will not remove null values at this point."
   ]
  },
  {
   "cell_type": "code",
   "execution_count": 6,
   "metadata": {},
   "outputs": [
    {
     "data": {
      "text/html": [
       "<div>\n",
       "<style scoped>\n",
       "    .dataframe tbody tr th:only-of-type {\n",
       "        vertical-align: middle;\n",
       "    }\n",
       "\n",
       "    .dataframe tbody tr th {\n",
       "        vertical-align: top;\n",
       "    }\n",
       "\n",
       "    .dataframe thead th {\n",
       "        text-align: right;\n",
       "    }\n",
       "</style>\n",
       "<table border=\"1\" class=\"dataframe\">\n",
       "  <thead>\n",
       "    <tr style=\"text-align: right;\">\n",
       "      <th></th>\n",
       "      <th>Missing Ratio</th>\n",
       "    </tr>\n",
       "  </thead>\n",
       "  <tbody>\n",
       "    <tr>\n",
       "      <th>ICO Number</th>\n",
       "      <td>63.768116</td>\n",
       "    </tr>\n",
       "    <tr>\n",
       "      <th>Variety</th>\n",
       "      <td>2.898551</td>\n",
       "    </tr>\n",
       "    <tr>\n",
       "      <th>Processing Method</th>\n",
       "      <td>2.415459</td>\n",
       "    </tr>\n",
       "    <tr>\n",
       "      <th>Mill</th>\n",
       "      <td>1.449275</td>\n",
       "    </tr>\n",
       "    <tr>\n",
       "      <th>Farm Name</th>\n",
       "      <td>0.966184</td>\n",
       "    </tr>\n",
       "    <tr>\n",
       "      <th>Region</th>\n",
       "      <td>0.966184</td>\n",
       "    </tr>\n",
       "    <tr>\n",
       "      <th>Lot Number</th>\n",
       "      <td>0.483092</td>\n",
       "    </tr>\n",
       "    <tr>\n",
       "      <th>Altitude</th>\n",
       "      <td>0.483092</td>\n",
       "    </tr>\n",
       "    <tr>\n",
       "      <th>Producer</th>\n",
       "      <td>0.483092</td>\n",
       "    </tr>\n",
       "  </tbody>\n",
       "</table>\n",
       "</div>"
      ],
      "text/plain": [
       "                   Missing Ratio\n",
       "ICO Number             63.768116\n",
       "Variety                 2.898551\n",
       "Processing Method       2.415459\n",
       "Mill                    1.449275\n",
       "Farm Name               0.966184\n",
       "Region                  0.966184\n",
       "Lot Number              0.483092\n",
       "Altitude                0.483092\n",
       "Producer                0.483092"
      ]
     },
     "execution_count": 6,
     "metadata": {},
     "output_type": "execute_result"
    }
   ],
   "source": [
    "# Calculate the percentage of missing values for each column\n",
    "data_na = (df.isnull().sum() / len(df)) * 100\n",
    "\n",
    "# Remove columns with no missing values and sort the rest\n",
    "data_na = data_na.drop(data_na[data_na == 0].index).sort_values(ascending=False)[:10]\n",
    "\n",
    "# Create a DataFrame to display the missing data information\n",
    "missing_data = pd.DataFrame({'Missing Ratio' :data_na})\n",
    "missing_data.head(10)"
   ]
  },
  {
   "cell_type": "markdown",
   "metadata": {},
   "source": [
    "Tthe most concerning missing data is the `ICO Number`, due to its high missing ratio, which could impact any analyses or modeling that relies on this particular attribute. For other attributes with lower missing ratios, the impact on general data analysis and modeling is likely to be less significant."
   ]
  },
  {
   "cell_type": "markdown",
   "metadata": {},
   "source": [
    "Although the missing data for the `Processing Method` is not extensive, we have observed inconsistencies in the strings. Therefore, we are going to create a mapping for processing methods to reduce the complexity and variability in the dataset by consolidating similar processing methods under a common name."
   ]
  },
  {
   "cell_type": "code",
   "execution_count": 7,
   "metadata": {},
   "outputs": [
    {
     "data": {
      "text/plain": [
       "array(['Double Anaerobic Washed', 'Washed / Wet', 'Semi Washed',\n",
       "       'Honey,Mossto', 'Natural / Dry', 'Pulped natural / honey', nan,\n",
       "       'Double Carbonic Maceration / Natural', 'Wet Hulling',\n",
       "       'Anaerobico 1000h', 'SEMI-LAVADO'], dtype=object)"
      ]
     },
     "execution_count": 7,
     "metadata": {},
     "output_type": "execute_result"
    }
   ],
   "source": [
    "df['Processing Method'].unique()"
   ]
  },
  {
   "cell_type": "code",
   "execution_count": 8,
   "metadata": {},
   "outputs": [],
   "source": [
    "# Mapping values\n",
    "processing_mapping = {\n",
    "    \"Double Anaerobic Washed\": \"Washed / Wet\",\n",
    "    \"Semi Washed\": \"Washed / Wet\",\n",
    "    \"Honey,Mossto\": \"Pulped natural / honey\",\n",
    "    \"Double Carbonic Maceration / Natural\": \"Natural / Dry\",\n",
    "    \"Wet Hulling\": \"Washed / Wet\",\n",
    "    \"Anaerobico 1000h\": \"Washed / Wet\",\n",
    "    \"SEMI-LAVADO\": \"Natural / Dry\"\n",
    "}\n",
    "\n",
    "# Applying it to Processing Method column and fill null with \"Washed / Wet\"\n",
    "df['Processing Method'] = df['Processing Method'].map(processing_mapping)\n",
    "df['Processing Method'].fillna(\"Washed / Wet\", inplace=True)"
   ]
  },
  {
   "cell_type": "markdown",
   "metadata": {},
   "source": [
    "In the `Altitude` column, we will intentionally modify some of the values to align the format. This step ensures that important values are not missing from these specific records."
   ]
  },
  {
   "cell_type": "code",
   "execution_count": 9,
   "metadata": {},
   "outputs": [],
   "source": [
    "# Manuall modify undesirable values in Altitude column\n",
    "df.loc[df['ID'] == 99, 'Altitude'] = 5273\n",
    "df.loc[df['ID'] == 105, 'Altitude'] = 1800\n",
    "df.loc[df['ID'] == 180, 'Altitude'] = 1400\n",
    "\n",
    "def modify_altitude_range(value):\n",
    "    if isinstance(value, str):\n",
    "        value = value.replace(\" \", \"\")\n",
    "        if '-' in value:\n",
    "            parts = value.split('-')\n",
    "            if len(parts) == 2:\n",
    "                try:\n",
    "                    start, end = map(int, parts)\n",
    "                    return (start + end) / 2\n",
    "                except ValueError:\n",
    "                    return np.nan\n",
    "        else:\n",
    "            try:\n",
    "                return int(value)\n",
    "            except ValueError:\n",
    "                return np.nan\n",
    "    return value\n",
    "\n",
    "# Clean and calculate the mean for each altitude\n",
    "df['Altitude'] = df['Altitude'].apply(modify_altitude_range)"
   ]
  },
  {
   "cell_type": "markdown",
   "metadata": {},
   "source": [
    "We're going to calculate out `Coffee Age` from `Harvest Year` and `Expiration` date. "
   ]
  },
  {
   "cell_type": "code",
   "execution_count": 10,
   "metadata": {},
   "outputs": [],
   "source": [
    "# Convert Harvest Year and Expiration columns to datetime objects\n",
    "df['Harvest Year'] = df['Harvest Year'].str.split('/').str[0].str.strip()\n",
    "df['Harvest Year'] = pd.to_datetime(df['Harvest Year'], format='%Y')\n",
    "df['Expiration'] = df['Expiration'].apply(parser.parse)\n",
    "\n",
    "# Calculate out coffee age from harvest year and expiration\n",
    "df['Coffee Age'] = (df['Expiration'] - df['Harvest Year']).dt.days"
   ]
  },
  {
   "cell_type": "markdown",
   "metadata": {},
   "source": [
    "Now, we are going to drop irrelavant columns for the analysis."
   ]
  },
  {
   "cell_type": "code",
   "execution_count": 11,
   "metadata": {},
   "outputs": [],
   "source": [
    "columns_to_drop = ['ID','ICO Number','Owner','Region','Certification Contact','Certification Address','Farm Name',\"Lot Number\",\"Mill\",\"ICO Number\",\"Producer\",'Company','Expiration', 'Harvest Year',\n",
    "                   \"Unnamed: 0\",'Number of Bags','Bag Weight','In-Country Partner','Grading Date','Variety','Status','Defects','Uniformity','Clean Cup','Sweetness','Certification Body']\n",
    "df.drop(columns_to_drop, axis=1, inplace=True)"
   ]
  },
  {
   "cell_type": "markdown",
   "metadata": {},
   "source": [
    "## Exploratory Data Analysis (EDA)\n",
    "\n",
    "With the current data, let's explore it further using various visualizations to uncover hidden insights."
   ]
  },
  {
   "cell_type": "code",
   "execution_count": 12,
   "metadata": {},
   "outputs": [
    {
     "data": {
      "text/html": [
       "<div>\n",
       "<style scoped>\n",
       "    .dataframe tbody tr th:only-of-type {\n",
       "        vertical-align: middle;\n",
       "    }\n",
       "\n",
       "    .dataframe tbody tr th {\n",
       "        vertical-align: top;\n",
       "    }\n",
       "\n",
       "    .dataframe thead th {\n",
       "        text-align: right;\n",
       "    }\n",
       "</style>\n",
       "<table border=\"1\" class=\"dataframe\">\n",
       "  <thead>\n",
       "    <tr style=\"text-align: right;\">\n",
       "      <th></th>\n",
       "      <th>Country of Origin</th>\n",
       "      <th>Altitude</th>\n",
       "      <th>Processing Method</th>\n",
       "      <th>Aroma</th>\n",
       "      <th>Flavor</th>\n",
       "      <th>Aftertaste</th>\n",
       "      <th>Acidity</th>\n",
       "      <th>Body</th>\n",
       "      <th>Balance</th>\n",
       "      <th>Overall</th>\n",
       "      <th>Total Cup Points</th>\n",
       "      <th>Moisture Percentage</th>\n",
       "      <th>Category One Defects</th>\n",
       "      <th>Quakers</th>\n",
       "      <th>Color</th>\n",
       "      <th>Category Two Defects</th>\n",
       "      <th>Coffee Age</th>\n",
       "    </tr>\n",
       "  </thead>\n",
       "  <tbody>\n",
       "    <tr>\n",
       "      <th>0</th>\n",
       "      <td>Colombia</td>\n",
       "      <td>1815.0</td>\n",
       "      <td>Washed / Wet</td>\n",
       "      <td>8.58</td>\n",
       "      <td>8.50</td>\n",
       "      <td>8.42</td>\n",
       "      <td>8.58</td>\n",
       "      <td>8.25</td>\n",
       "      <td>8.42</td>\n",
       "      <td>8.58</td>\n",
       "      <td>89.33</td>\n",
       "      <td>11.8</td>\n",
       "      <td>0</td>\n",
       "      <td>0</td>\n",
       "      <td>green</td>\n",
       "      <td>3</td>\n",
       "      <td>993</td>\n",
       "    </tr>\n",
       "    <tr>\n",
       "      <th>1</th>\n",
       "      <td>Taiwan</td>\n",
       "      <td>1200.0</td>\n",
       "      <td>Washed / Wet</td>\n",
       "      <td>8.50</td>\n",
       "      <td>8.50</td>\n",
       "      <td>7.92</td>\n",
       "      <td>8.00</td>\n",
       "      <td>7.92</td>\n",
       "      <td>8.25</td>\n",
       "      <td>8.50</td>\n",
       "      <td>87.58</td>\n",
       "      <td>10.5</td>\n",
       "      <td>0</td>\n",
       "      <td>0</td>\n",
       "      <td>blue-green</td>\n",
       "      <td>0</td>\n",
       "      <td>1048</td>\n",
       "    </tr>\n",
       "    <tr>\n",
       "      <th>2</th>\n",
       "      <td>Laos</td>\n",
       "      <td>1300.0</td>\n",
       "      <td>Washed / Wet</td>\n",
       "      <td>8.33</td>\n",
       "      <td>8.42</td>\n",
       "      <td>8.08</td>\n",
       "      <td>8.17</td>\n",
       "      <td>7.92</td>\n",
       "      <td>8.17</td>\n",
       "      <td>8.33</td>\n",
       "      <td>87.42</td>\n",
       "      <td>10.4</td>\n",
       "      <td>0</td>\n",
       "      <td>0</td>\n",
       "      <td>yellowish</td>\n",
       "      <td>2</td>\n",
       "      <td>1048</td>\n",
       "    </tr>\n",
       "    <tr>\n",
       "      <th>3</th>\n",
       "      <td>Costa Rica</td>\n",
       "      <td>1900.0</td>\n",
       "      <td>Washed / Wet</td>\n",
       "      <td>8.08</td>\n",
       "      <td>8.17</td>\n",
       "      <td>8.17</td>\n",
       "      <td>8.25</td>\n",
       "      <td>8.17</td>\n",
       "      <td>8.08</td>\n",
       "      <td>8.25</td>\n",
       "      <td>87.17</td>\n",
       "      <td>11.8</td>\n",
       "      <td>0</td>\n",
       "      <td>0</td>\n",
       "      <td>green</td>\n",
       "      <td>0</td>\n",
       "      <td>628</td>\n",
       "    </tr>\n",
       "    <tr>\n",
       "      <th>4</th>\n",
       "      <td>Colombia</td>\n",
       "      <td>1975.0</td>\n",
       "      <td>Pulped natural / honey</td>\n",
       "      <td>8.33</td>\n",
       "      <td>8.33</td>\n",
       "      <td>8.08</td>\n",
       "      <td>8.25</td>\n",
       "      <td>7.92</td>\n",
       "      <td>7.92</td>\n",
       "      <td>8.25</td>\n",
       "      <td>87.08</td>\n",
       "      <td>11.6</td>\n",
       "      <td>0</td>\n",
       "      <td>2</td>\n",
       "      <td>yellow-green</td>\n",
       "      <td>2</td>\n",
       "      <td>794</td>\n",
       "    </tr>\n",
       "  </tbody>\n",
       "</table>\n",
       "</div>"
      ],
      "text/plain": [
       "  Country of Origin  Altitude       Processing Method  Aroma  Flavor  \\\n",
       "0          Colombia    1815.0            Washed / Wet   8.58    8.50   \n",
       "1            Taiwan    1200.0            Washed / Wet   8.50    8.50   \n",
       "2              Laos    1300.0            Washed / Wet   8.33    8.42   \n",
       "3        Costa Rica    1900.0            Washed / Wet   8.08    8.17   \n",
       "4          Colombia    1975.0  Pulped natural / honey   8.33    8.33   \n",
       "\n",
       "   Aftertaste  Acidity  Body  Balance  Overall  Total Cup Points  \\\n",
       "0        8.42     8.58  8.25     8.42     8.58             89.33   \n",
       "1        7.92     8.00  7.92     8.25     8.50             87.58   \n",
       "2        8.08     8.17  7.92     8.17     8.33             87.42   \n",
       "3        8.17     8.25  8.17     8.08     8.25             87.17   \n",
       "4        8.08     8.25  7.92     7.92     8.25             87.08   \n",
       "\n",
       "   Moisture Percentage  Category One Defects  Quakers         Color  \\\n",
       "0                 11.8                     0        0         green   \n",
       "1                 10.5                     0        0    blue-green   \n",
       "2                 10.4                     0        0     yellowish   \n",
       "3                 11.8                     0        0         green   \n",
       "4                 11.6                     0        2  yellow-green   \n",
       "\n",
       "   Category Two Defects  Coffee Age  \n",
       "0                     3         993  \n",
       "1                     0        1048  \n",
       "2                     2        1048  \n",
       "3                     0         628  \n",
       "4                     2         794  "
      ]
     },
     "execution_count": 12,
     "metadata": {},
     "output_type": "execute_result"
    }
   ],
   "source": [
    "df.head()"
   ]
  },
  {
   "cell_type": "markdown",
   "metadata": {},
   "source": [
    "We first create histograms to observe the distribution of values for each coffee quality scores(such as Aroma, Flavor, Aftertaste, Acidity, Body, and Balance) across the dataset. Each histogram visually represents the frequency of different value ranges for these attributes."
   ]
  },
  {
   "cell_type": "code",
   "execution_count": 56,
   "metadata": {
    "scrolled": true
   },
   "outputs": [
    {
     "data": {
      "application/vnd.plotly.v1+json": {
       "config": {
        "plotlyServerURL": "https://plot.ly"
       },
       "data": [
        {
         "boxpoints": "all",
         "name": "Aroma",
         "type": "box",
         "xaxis": "x",
         "y": [
          1,
          0.9615384615384608,
          0.8798076923076916,
          0.7596153846153842,
          0.8798076923076916,
          0.8798076923076916,
          0.8798076923076916,
          0.8413461538461534,
          0.7596153846153842,
          0.7596153846153842,
          0.7596153846153842,
          0.7596153846153842,
          0.7596153846153842,
          0.5624999999999998,
          0.7596153846153842,
          0.8028846153846151,
          0.8028846153846151,
          0.7211538461538459,
          0.7596153846153842,
          0.8028846153846151,
          0.7211538461538459,
          0.7596153846153842,
          0.5624999999999998,
          0.7596153846153842,
          0.6394230769230768,
          0.6394230769230768,
          0.6826923076923076,
          0.8028846153846151,
          0.7211538461538459,
          0.7211538461538459,
          0.7211538461538459,
          0.6826923076923076,
          0.7596153846153842,
          0.5624999999999998,
          0.7211538461538459,
          0.6826923076923076,
          0.7211538461538459,
          0.8413461538461534,
          0.8028846153846151,
          0.6009615384615385,
          0.7211538461538459,
          0.7211538461538459,
          0.7211538461538459,
          0.7211538461538459,
          0.6826923076923076,
          0.8028846153846151,
          0.5624999999999998,
          0.5624999999999998,
          0.6394230769230768,
          0.6826923076923076,
          0.7211538461538459,
          0.6394230769230768,
          0.7211538461538459,
          0.6826923076923076,
          0.6394230769230768,
          0.5624999999999998,
          0.6394230769230768,
          0.6394230769230768,
          0.6826923076923076,
          0.5624999999999998,
          0.6394230769230768,
          0.5192307692307694,
          0.6394230769230768,
          0.8028846153846151,
          0.6826923076923076,
          0.7596153846153842,
          0.6394230769230768,
          0.7211538461538459,
          0.6009615384615385,
          0.6009615384615385,
          0.6394230769230768,
          0.6826923076923076,
          0.7596153846153842,
          0.6394230769230768,
          0.5624999999999998,
          0.6826923076923076,
          0.6394230769230768,
          0.6394230769230768,
          0.6009615384615385,
          0.5624999999999998,
          0.5192307692307694,
          0.6826923076923076,
          0.6009615384615385,
          0.5192307692307694,
          0.6394230769230768,
          0.6826923076923076,
          0.5624999999999998,
          0.5624999999999998,
          0.6009615384615385,
          0.5192307692307694,
          0.7211538461538459,
          0.6009615384615385,
          0.5624999999999998,
          0.5624999999999998,
          0.6394230769230768,
          0.5192307692307694,
          0.6009615384615385,
          0.5624999999999998,
          0.5192307692307694,
          0.5192307692307694,
          0.6394230769230768,
          0.6826923076923076,
          0.5624999999999998,
          0.5624999999999998,
          0.5624999999999998,
          0.6394230769230768,
          0.5624999999999998,
          0.6394230769230768,
          0.5192307692307694,
          0.5624999999999998,
          0.5192307692307694,
          0.5192307692307694,
          0.5192307692307694,
          0.6009615384615385,
          0.6009615384615385,
          0.4423076923076923,
          0.4423076923076923,
          0.5624999999999998,
          0.6009615384615385,
          0.6009615384615385,
          0.6009615384615385,
          0.5192307692307694,
          0.4807692307692306,
          0.5192307692307694,
          0.5624999999999998,
          0.5192307692307694,
          0.6009615384615385,
          0.6826923076923076,
          0.6826923076923076,
          0.5192307692307694,
          0.6009615384615385,
          0.5624999999999998,
          0.5624999999999998,
          0.6009615384615385,
          0.6009615384615385,
          0.5624999999999998,
          0.5624999999999998,
          0.5624999999999998,
          0.6009615384615385,
          0.7211538461538459,
          0.4807692307692306,
          0.6009615384615385,
          0.5192307692307694,
          0.5624999999999998,
          0.5624999999999998,
          0.3221153846153844,
          0.5192307692307694,
          0.3990384615384615,
          0.3990384615384615,
          0.5192307692307694,
          0.3990384615384615,
          0.4807692307692306,
          0.5624999999999998,
          0.5624999999999998,
          0.5624999999999998,
          0.4807692307692306,
          0.5624999999999998,
          0.6009615384615385,
          0.4807692307692306,
          0.3990384615384615,
          0.5624999999999998,
          0.5192307692307694,
          0.4423076923076923,
          0.5192307692307694,
          0.4807692307692306,
          0.4807692307692306,
          0.3990384615384615,
          0.5624999999999998,
          0.5624999999999998,
          0.6009615384615385,
          0.4807692307692306,
          0.5624999999999998,
          0.4807692307692306,
          0.3990384615384615,
          0.4807692307692306,
          0.3221153846153844,
          0.4423076923076923,
          0.4423076923076923,
          0.5624999999999998,
          0.4807692307692306,
          0.3990384615384615,
          0.3605769230769232,
          0.4807692307692306,
          0.4807692307692306,
          0.4423076923076923,
          0.3990384615384615,
          0.5192307692307694,
          0.3990384615384615,
          0.4423076923076923,
          0.3990384615384615,
          0.3990384615384615,
          0.4423076923076923,
          0.3605769230769232,
          0.4423076923076923,
          0.4423076923076923,
          0.4423076923076923,
          0.3605769230769232,
          0.4423076923076923,
          0.3605769230769232,
          0.4807692307692306,
          0.2788461538461541,
          0.3605769230769232,
          0.3221153846153844,
          0.3990384615384615,
          0.3605769230769232,
          0,
          0.3605769230769232
         ],
         "yaxis": "y"
        },
        {
         "boxpoints": "all",
         "name": "Flavor",
         "type": "box",
         "xaxis": "x2",
         "y": [
          1,
          1,
          0.9542857142857146,
          0.8114285714285714,
          0.902857142857143,
          0.902857142857143,
          0.8114285714285714,
          0.8571428571428577,
          0.7599999999999998,
          0.8114285714285714,
          0.8571428571428577,
          0.7142857142857144,
          0.7142857142857144,
          0.8114285714285714,
          0.7142857142857144,
          0.7599999999999998,
          0.7599999999999998,
          0.8114285714285714,
          0.8114285714285714,
          0.7142857142857144,
          0.668571428571429,
          0.7142857142857144,
          0.7142857142857144,
          0.7142857142857144,
          0.7142857142857144,
          0.7599999999999998,
          0.668571428571429,
          0.7599999999999998,
          0.7142857142857144,
          0.668571428571429,
          0.7142857142857144,
          0.7142857142857144,
          0.8114285714285714,
          0.6171428571428574,
          0.7599999999999998,
          0.5714285714285712,
          0.668571428571429,
          0.7599999999999998,
          0.5714285714285712,
          0.668571428571429,
          0.668571428571429,
          0.7599999999999998,
          0.668571428571429,
          0.668571428571429,
          0.7142857142857144,
          0.7599999999999998,
          0.7599999999999998,
          0.7142857142857144,
          0.668571428571429,
          0.668571428571429,
          0.7142857142857144,
          0.668571428571429,
          0.7142857142857144,
          0.5714285714285712,
          0.6171428571428574,
          0.668571428571429,
          0.668571428571429,
          0.6171428571428574,
          0.7599999999999998,
          0.7142857142857144,
          0.7142857142857144,
          0.6171428571428574,
          0.6171428571428574,
          0.6171428571428574,
          0.5714285714285712,
          0.6171428571428574,
          0.7142857142857144,
          0.6171428571428574,
          0.6171428571428574,
          0.668571428571429,
          0.668571428571429,
          0.6171428571428574,
          0.668571428571429,
          0.7142857142857144,
          0.6171428571428574,
          0.6171428571428574,
          0.5714285714285712,
          0.6171428571428574,
          0.5714285714285712,
          0.5257142857142858,
          0.668571428571429,
          0.668571428571429,
          0.5714285714285712,
          0.668571428571429,
          0.668571428571429,
          0.5714285714285712,
          0.6171428571428574,
          0.668571428571429,
          0.5714285714285712,
          0.5257142857142858,
          0.5714285714285712,
          0.4742857142857142,
          0.6171428571428574,
          0.668571428571429,
          0.6171428571428574,
          0.6171428571428574,
          0.5257142857142858,
          0.5714285714285712,
          0.6171428571428574,
          0.668571428571429,
          0.5257142857142858,
          0.5714285714285712,
          0.668571428571429,
          0.668571428571429,
          0.5257142857142858,
          0.5714285714285712,
          0.5257142857142858,
          0.6171428571428574,
          0.5714285714285712,
          0.5257142857142858,
          0.5257142857142858,
          0.5714285714285712,
          0.6171428571428574,
          0.5257142857142858,
          0.5714285714285712,
          0.6171428571428574,
          0.38285714285714256,
          0.5257142857142858,
          0.5714285714285712,
          0.668571428571429,
          0.5257142857142858,
          0.5257142857142858,
          0.5714285714285712,
          0.5257142857142858,
          0.5257142857142858,
          0.5714285714285712,
          0.6171428571428574,
          0.668571428571429,
          0.5257142857142858,
          0.4285714285714288,
          0.5714285714285712,
          0.5257142857142858,
          0.5714285714285712,
          0.4742857142857142,
          0.5714285714285712,
          0.5257142857142858,
          0.5714285714285712,
          0.5257142857142858,
          0.4742857142857142,
          0.5257142857142858,
          0.5257142857142858,
          0.4285714285714288,
          0.4285714285714288,
          0.4285714285714288,
          0.4742857142857142,
          0.668571428571429,
          0.38285714285714256,
          0.4742857142857142,
          0.4285714285714288,
          0.5257142857142858,
          0.4742857142857142,
          0.4742857142857142,
          0.4742857142857142,
          0.5257142857142858,
          0.4742857142857142,
          0.4742857142857142,
          0.33142857142857185,
          0.5257142857142858,
          0.4742857142857142,
          0.4742857142857142,
          0.38285714285714256,
          0.4742857142857142,
          0.38285714285714256,
          0.4742857142857142,
          0.4285714285714288,
          0.4285714285714288,
          0.5257142857142858,
          0.4742857142857142,
          0.4285714285714288,
          0.38285714285714256,
          0.4285714285714288,
          0.4285714285714288,
          0.5257142857142858,
          0.38285714285714256,
          0.4742857142857142,
          0.4285714285714288,
          0.38285714285714256,
          0.38285714285714256,
          0.33142857142857185,
          0.4285714285714288,
          0.38285714285714256,
          0.38285714285714256,
          0.4285714285714288,
          0.4285714285714288,
          0.4285714285714288,
          0.4285714285714288,
          0.38285714285714256,
          0.38285714285714256,
          0.4285714285714288,
          0.4285714285714288,
          0.38285714285714256,
          0.2857142857142856,
          0.2857142857142856,
          0.2857142857142856,
          0.38285714285714256,
          0.33142857142857185,
          0.2857142857142856,
          0.2400000000000002,
          0.2857142857142856,
          0.2857142857142856,
          0.2857142857142856,
          0.2400000000000002,
          0.2400000000000002,
          0.1885714285714286,
          0.2400000000000002,
          0,
          0.1885714285714286
         ],
         "yaxis": "y2"
        },
        {
         "boxpoints": "all",
         "name": "Aftertaste",
         "type": "box",
         "xaxis": "x3",
         "y": [
          1,
          0.7142857142857144,
          0.8057142857142852,
          0.8571428571428568,
          0.8057142857142852,
          0.902857142857143,
          0.8057142857142852,
          0.8571428571428568,
          0.902857142857143,
          0.8057142857142852,
          0.7599999999999998,
          0.7599999999999998,
          0.8057142857142852,
          0.7599999999999998,
          0.8057142857142852,
          0.7599999999999998,
          0.7142857142857144,
          0.7599999999999998,
          0.6171428571428565,
          0.7142857142857144,
          0.8057142857142852,
          0.7142857142857144,
          0.6628571428571428,
          0.6628571428571428,
          0.7142857142857144,
          0.6628571428571428,
          0.7599999999999998,
          0.7142857142857144,
          0.7599999999999998,
          0.7599999999999998,
          0.6628571428571428,
          0.6628571428571428,
          0.5714285714285712,
          0.6628571428571428,
          0.7599999999999998,
          0.6628571428571428,
          0.6628571428571428,
          0.6628571428571428,
          0.6628571428571428,
          0.6171428571428565,
          0.6628571428571428,
          0.5714285714285712,
          0.5714285714285712,
          0.6171428571428565,
          0.7142857142857144,
          0.6628571428571428,
          0.5714285714285712,
          0.6171428571428565,
          0.6171428571428565,
          0.6628571428571428,
          0.6171428571428565,
          0.6171428571428565,
          0.6628571428571428,
          0.6171428571428565,
          0.5714285714285712,
          0.7142857142857144,
          0.6171428571428565,
          0.6171428571428565,
          0.5714285714285712,
          0.5714285714285712,
          0.5714285714285712,
          0.4742857142857142,
          0.6171428571428565,
          0.5714285714285712,
          0.5714285714285712,
          0.5714285714285712,
          0.5714285714285712,
          0.6171428571428565,
          0.5714285714285712,
          0.6628571428571428,
          0.6171428571428565,
          0.6171428571428565,
          0.6171428571428565,
          0.4742857142857142,
          0.6171428571428565,
          0.6171428571428565,
          0.5199999999999996,
          0.6628571428571428,
          0.6171428571428565,
          0.6628571428571428,
          0.5714285714285712,
          0.5199999999999996,
          0.5199999999999996,
          0.5199999999999996,
          0.6628571428571428,
          0.5714285714285712,
          0.5714285714285712,
          0.5714285714285712,
          0.6171428571428565,
          0.6171428571428565,
          0.4742857142857142,
          0.5199999999999996,
          0.5199999999999996,
          0.5199999999999996,
          0.5199999999999996,
          0.5199999999999996,
          0.5199999999999996,
          0.5714285714285712,
          0.5714285714285712,
          0.4742857142857142,
          0.4742857142857142,
          0.42857142857142794,
          0.5199999999999996,
          0.5714285714285712,
          0.5199999999999996,
          0.4742857142857142,
          0.6171428571428565,
          0.5714285714285712,
          0.5714285714285712,
          0.5199999999999996,
          0.4742857142857142,
          0.5199999999999996,
          0.5199999999999996,
          0.5199999999999996,
          0.4742857142857142,
          0.5199999999999996,
          0.42857142857142794,
          0.4742857142857142,
          0.4742857142857142,
          0.5714285714285712,
          0.5199999999999996,
          0.4742857142857142,
          0.5199999999999996,
          0.5199999999999996,
          0.42857142857142794,
          0.42857142857142794,
          0.5199999999999996,
          0.6171428571428565,
          0.42857142857142794,
          0.4742857142857142,
          0.5199999999999996,
          0.5199999999999996,
          0.5714285714285712,
          0.5199999999999996,
          0.4742857142857142,
          0.4742857142857142,
          0.3771428571428572,
          0.4742857142857142,
          0.5199999999999996,
          0.42857142857142794,
          0.5199999999999996,
          0.42857142857142794,
          0.4742857142857142,
          0.42857142857142794,
          0.4742857142857142,
          0.5199999999999996,
          0.5199999999999996,
          0.33142857142857096,
          0.33142857142857096,
          0.5199999999999996,
          0.5199999999999996,
          0.4742857142857142,
          0.3771428571428572,
          0.42857142857142794,
          0.42857142857142794,
          0.42857142857142794,
          0.2857142857142856,
          0.2857142857142856,
          0.4742857142857142,
          0.4742857142857142,
          0.4742857142857142,
          0.3771428571428572,
          0.5199999999999996,
          0.42857142857142794,
          0.3771428571428572,
          0.42857142857142794,
          0.33142857142857096,
          0.42857142857142794,
          0.3771428571428572,
          0.3771428571428572,
          0.42857142857142794,
          0.33142857142857096,
          0.3771428571428572,
          0.42857142857142794,
          0.42857142857142794,
          0.42857142857142794,
          0.42857142857142794,
          0.42857142857142794,
          0.33142857142857096,
          0.3771428571428572,
          0.3771428571428572,
          0.42857142857142794,
          0.33142857142857096,
          0.42857142857142794,
          0.5199999999999996,
          0.3771428571428572,
          0.33142857142857096,
          0.33142857142857096,
          0.3771428571428572,
          0.42857142857142794,
          0.33142857142857096,
          0.3771428571428572,
          0.42857142857142794,
          0.33142857142857096,
          0.33142857142857096,
          0.3771428571428572,
          0.2857142857142856,
          0.1885714285714286,
          0.2857142857142856,
          0.2857142857142856,
          0.234285714285714,
          0.2857142857142856,
          0.1428571428571428,
          0.045714285714285374,
          0.234285714285714,
          0.045714285714285374,
          0
         ],
         "yaxis": "y3"
        },
        {
         "boxpoints": "all",
         "name": "Acidity",
         "type": "box",
         "xaxis": "x4",
         "y": [
          1,
          0.6685714285714283,
          0.7657142857142852,
          0.8114285714285715,
          0.8114285714285715,
          0.5714285714285714,
          0.6685714285714283,
          0.6685714285714283,
          0.7142857142857136,
          0.7657142857142852,
          0.7142857142857136,
          0.5257142857142851,
          0.7142857142857136,
          0.8571428571428569,
          0.622857142857143,
          0.622857142857143,
          0.7657142857142852,
          0.622857142857143,
          0.622857142857143,
          0.622857142857143,
          0.622857142857143,
          0.622857142857143,
          0.6685714285714283,
          0.7657142857142852,
          0.6685714285714283,
          0.622857142857143,
          0.622857142857143,
          0.6685714285714283,
          0.622857142857143,
          0.5714285714285714,
          0.5714285714285714,
          0.622857142857143,
          0.5714285714285714,
          0.6685714285714283,
          0.6685714285714283,
          0.7657142857142852,
          0.622857142857143,
          0.5257142857142851,
          0.4285714285714282,
          0.6685714285714283,
          0.622857142857143,
          0.5257142857142851,
          0.6685714285714283,
          0.5257142857142851,
          0.6685714285714283,
          0.47999999999999976,
          0.6685714285714283,
          0.622857142857143,
          0.6685714285714283,
          0.5714285714285714,
          0.5257142857142851,
          0.5714285714285714,
          0.5714285714285714,
          0.622857142857143,
          0.47999999999999976,
          0.5714285714285714,
          0.622857142857143,
          0.622857142857143,
          0.622857142857143,
          0.5714285714285714,
          0.5714285714285714,
          0.47999999999999976,
          0.5257142857142851,
          0.5714285714285714,
          0.47999999999999976,
          0.47999999999999976,
          0.5257142857142851,
          0.47999999999999976,
          0.5714285714285714,
          0.5257142857142851,
          0.5257142857142851,
          0.622857142857143,
          0.5714285714285714,
          0.5257142857142851,
          0.5257142857142851,
          0.622857142857143,
          0.622857142857143,
          0.5714285714285714,
          0.5257142857142851,
          0.5714285714285714,
          0.5257142857142851,
          0.5257142857142851,
          0.5714285714285714,
          0.5714285714285714,
          0.4285714285714282,
          0.5257142857142851,
          0.5714285714285714,
          0.5257142857142851,
          0.47999999999999976,
          0.5257142857142851,
          0.47999999999999976,
          0.622857142857143,
          0.622857142857143,
          0.5257142857142851,
          0.47999999999999976,
          0.5257142857142851,
          0.5257142857142851,
          0.5257142857142851,
          0.47999999999999976,
          0.47999999999999976,
          0.622857142857143,
          0.4285714285714282,
          0.4285714285714282,
          0.4285714285714282,
          0.47999999999999976,
          0.4285714285714282,
          0.5257142857142851,
          0.4285714285714282,
          0.5714285714285714,
          0.5257142857142851,
          0.5257142857142851,
          0.5257142857142851,
          0.47999999999999976,
          0.4285714285714282,
          0.4285714285714282,
          0.47999999999999976,
          0.6685714285714283,
          0.47999999999999976,
          0.38285714285714284,
          0.622857142857143,
          0.38285714285714284,
          0.5257142857142851,
          0.5257142857142851,
          0.5257142857142851,
          0.5257142857142851,
          0.47999999999999976,
          0.4285714285714282,
          0.2857142857142859,
          0.38285714285714284,
          0.5714285714285714,
          0.47999999999999976,
          0.47999999999999976,
          0.4285714285714282,
          0.4285714285714282,
          0.5257142857142851,
          0.4285714285714282,
          0.47999999999999976,
          0.4285714285714282,
          0.4285714285714282,
          0.4285714285714282,
          0.4285714285714282,
          0.47999999999999976,
          0.47999999999999976,
          0.5257142857142851,
          0.38285714285714284,
          0.38285714285714284,
          0.38285714285714284,
          0.2857142857142859,
          0.622857142857143,
          0.38285714285714284,
          0.38285714285714284,
          0.3371428571428566,
          0.38285714285714284,
          0.3371428571428566,
          0.3371428571428566,
          0.4285714285714282,
          0.47999999999999976,
          0.47999999999999976,
          0.38285714285714284,
          0.38285714285714284,
          0.38285714285714284,
          0.38285714285714284,
          0.3371428571428566,
          0.3371428571428566,
          0.38285714285714284,
          0.3371428571428566,
          0.47999999999999976,
          0.38285714285714284,
          0.4285714285714282,
          0.38285714285714284,
          0.38285714285714284,
          0.38285714285714284,
          0.38285714285714284,
          0.38285714285714284,
          0.3371428571428566,
          0.3371428571428566,
          0.2857142857142859,
          0.2857142857142859,
          0.47999999999999976,
          0.38285714285714284,
          0.3371428571428566,
          0.38285714285714284,
          0.3371428571428566,
          0.2857142857142859,
          0.2857142857142859,
          0.3371428571428566,
          0.23999999999999966,
          0.3371428571428566,
          0.2857142857142859,
          0.2857142857142859,
          0.2857142857142859,
          0.3371428571428566,
          0.23999999999999966,
          0.3371428571428566,
          0.23999999999999966,
          0.38285714285714284,
          0.2857142857142859,
          0.14285714285714274,
          0.2857142857142859,
          0.1942857142857143,
          0.3371428571428566,
          0.14285714285714274,
          0.1942857142857143,
          0.1942857142857143,
          0.09714285714285738,
          0.1942857142857143,
          0
         ],
         "yaxis": "y4"
        },
        {
         "boxpoints": "all",
         "name": "Body",
         "type": "box",
         "xaxis": "x5",
         "y": [
          1,
          0.767605633802817,
          0.767605633802817,
          0.943661971830986,
          0.767605633802817,
          0.704225352112676,
          0.704225352112676,
          0.767605633802817,
          0.767605633802817,
          0.823943661971831,
          0.767605633802817,
          1,
          0.823943661971831,
          0.823943661971831,
          0.880281690140845,
          0.823943661971831,
          0.647887323943662,
          0.767605633802817,
          0.704225352112676,
          0.943661971830986,
          0.647887323943662,
          0.823943661971831,
          0.880281690140845,
          0.647887323943662,
          0.823943661971831,
          0.823943661971831,
          0.704225352112676,
          0.528169014084507,
          0.647887323943662,
          0.591549295774648,
          0.647887323943662,
          0.704225352112676,
          0.591549295774648,
          0.823943661971831,
          0.591549295774648,
          0.823943661971831,
          0.704225352112676,
          0.591549295774648,
          0.767605633802817,
          0.704225352112676,
          0.647887323943662,
          0.767605633802817,
          0.647887323943662,
          0.647887323943662,
          0.528169014084507,
          0.591549295774648,
          0.767605633802817,
          0.823943661971831,
          0.647887323943662,
          0.647887323943662,
          0.591549295774648,
          0.704225352112676,
          0.528169014084507,
          0.704225352112676,
          0.704225352112676,
          0.647887323943662,
          0.591549295774648,
          0.704225352112676,
          0.591549295774648,
          0.767605633802817,
          0.647887323943662,
          0.704225352112676,
          0.647887323943662,
          0.591549295774648,
          0.704225352112676,
          0.591549295774648,
          0.591549295774648,
          0.528169014084507,
          0.647887323943662,
          0.647887323943662,
          0.647887323943662,
          0.528169014084507,
          0.471830985915493,
          0.647887323943662,
          0.704225352112676,
          0.471830985915493,
          0.823943661971831,
          0.591549295774648,
          0.704225352112676,
          0.591549295774648,
          0.704225352112676,
          0.528169014084507,
          0.647887323943662,
          0.647887323943662,
          0.528169014084507,
          0.647887323943662,
          0.647887323943662,
          0.591549295774648,
          0.647887323943662,
          0.647887323943662,
          0.591549295774648,
          0.591549295774648,
          0.591549295774648,
          0.591549295774648,
          0.591549295774648,
          0.591549295774648,
          0.647887323943662,
          0.591549295774648,
          0.591549295774648,
          0.647887323943662,
          0.471830985915493,
          0.767605633802817,
          0.528169014084507,
          0.591549295774648,
          0.704225352112676,
          0.591549295774648,
          0.471830985915493,
          0.528169014084507,
          0.471830985915493,
          0.591549295774648,
          0.647887323943662,
          0.528169014084507,
          0.528169014084507,
          0.528169014084507,
          0.704225352112676,
          0.591549295774648,
          0.767605633802817,
          0.528169014084507,
          0.528169014084507,
          0.647887323943662,
          0.591549295774648,
          0.471830985915493,
          0.591549295774648,
          0.415492957746479,
          0.471830985915493,
          0.471830985915493,
          0.528169014084507,
          0.528169014084507,
          0.591549295774648,
          0.591549295774648,
          0.415492957746479,
          0.528169014084507,
          0.471830985915493,
          0.471830985915493,
          0.471830985915493,
          0.528169014084507,
          0.528169014084507,
          0.528169014084507,
          0.528169014084507,
          0.528169014084507,
          0.471830985915493,
          0.528169014084507,
          0.528169014084507,
          0.415492957746479,
          0.528169014084507,
          0.528169014084507,
          0.591549295774648,
          0.647887323943662,
          0.647887323943662,
          0.352112676056338,
          0.591549295774648,
          0.471830985915493,
          0.528169014084507,
          0.415492957746479,
          0.471830985915493,
          0.471830985915493,
          0.704225352112676,
          0.415492957746479,
          0.591549295774648,
          0.471830985915493,
          0.591549295774648,
          0.528169014084507,
          0.528169014084507,
          0.471830985915493,
          0.471830985915493,
          0.415492957746479,
          0.704225352112676,
          0.352112676056338,
          0.352112676056338,
          0.352112676056338,
          0.295774647887324,
          0.471830985915493,
          0.295774647887324,
          0.415492957746479,
          0.295774647887324,
          0.528169014084507,
          0.528169014084507,
          0.471830985915493,
          0.415492957746479,
          0.352112676056338,
          0.528169014084507,
          0.415492957746479,
          0.415492957746479,
          0.352112676056338,
          0.352112676056338,
          0.415492957746479,
          0.471830985915493,
          0.415492957746479,
          0.352112676056338,
          0.352112676056338,
          0.471830985915493,
          0.352112676056338,
          0.415492957746479,
          0.23943661971830998,
          0.23943661971830998,
          0.176056338028169,
          0.176056338028169,
          0.415492957746479,
          0.11971830985915499,
          0.23943661971830998,
          0.415492957746479,
          0.23943661971830998,
          0.415492957746479,
          0.415492957746479,
          0.176056338028169,
          0.176056338028169,
          0
         ],
         "yaxis": "y5"
        },
        {
         "boxpoints": "all",
         "name": "Balance",
         "type": "box",
         "xaxis": "x6",
         "y": [
          1,
          0.902857142857143,
          0.8571428571428568,
          0.8057142857142852,
          0.7142857142857144,
          0.8571428571428568,
          0.902857142857143,
          0.8057142857142852,
          0.7599999999999998,
          0.7599999999999998,
          0.7142857142857144,
          0.8571428571428568,
          0.7599999999999998,
          0.7599999999999998,
          0.7599999999999998,
          0.7142857142857144,
          0.7142857142857144,
          0.7142857142857144,
          0.7599999999999998,
          0.6171428571428565,
          0.7599999999999998,
          0.6628571428571428,
          0.7599999999999998,
          0.6628571428571428,
          0.7142857142857144,
          0.6628571428571428,
          0.7142857142857144,
          0.6628571428571428,
          0.7142857142857144,
          0.7599999999999998,
          0.7142857142857144,
          0.6628571428571428,
          0.7142857142857144,
          0.7599999999999998,
          0.6171428571428565,
          0.6171428571428565,
          0.6628571428571428,
          0.6171428571428565,
          0.7599999999999998,
          0.7142857142857144,
          0.6171428571428565,
          0.6628571428571428,
          0.6628571428571428,
          0.7142857142857144,
          0.6171428571428565,
          0.6171428571428565,
          0.6628571428571428,
          0.6628571428571428,
          0.6171428571428565,
          0.6628571428571428,
          0.6171428571428565,
          0.6628571428571428,
          0.6628571428571428,
          0.6628571428571428,
          0.7599999999999998,
          0.6628571428571428,
          0.6628571428571428,
          0.6171428571428565,
          0.6171428571428565,
          0.5714285714285712,
          0.6171428571428565,
          0.5714285714285712,
          0.6171428571428565,
          0.5714285714285712,
          0.6171428571428565,
          0.6171428571428565,
          0.6171428571428565,
          0.6628571428571428,
          0.6171428571428565,
          0.6171428571428565,
          0.6171428571428565,
          0.5714285714285712,
          0.5199999999999996,
          0.6171428571428565,
          0.6171428571428565,
          0.5714285714285712,
          0.4742857142857142,
          0.5714285714285712,
          0.5714285714285712,
          0.6171428571428565,
          0.6171428571428565,
          0.5714285714285712,
          0.6171428571428565,
          0.5714285714285712,
          0.5714285714285712,
          0.7599999999999998,
          0.5714285714285712,
          0.5199999999999996,
          0.5714285714285712,
          0.6171428571428565,
          0.5714285714285712,
          0.6171428571428565,
          0.5714285714285712,
          0.5199999999999996,
          0.5199999999999996,
          0.6171428571428565,
          0.5714285714285712,
          0.5714285714285712,
          0.5714285714285712,
          0.5714285714285712,
          0.5714285714285712,
          0.5714285714285712,
          0.6171428571428565,
          0.5714285714285712,
          0.5199999999999996,
          0.5714285714285712,
          0.5714285714285712,
          0.5199999999999996,
          0.5714285714285712,
          0.5714285714285712,
          0.5714285714285712,
          0.5714285714285712,
          0.5199999999999996,
          0.5714285714285712,
          0.4742857142857142,
          0.6171428571428565,
          0.5714285714285712,
          0.5714285714285712,
          0.5199999999999996,
          0.6628571428571428,
          0.4742857142857142,
          0.5199999999999996,
          0.5199999999999996,
          0.5199999999999996,
          0.6171428571428565,
          0.6171428571428565,
          0.4742857142857142,
          0.4742857142857142,
          0.5199999999999996,
          0.4742857142857142,
          0.4742857142857142,
          0.5199999999999996,
          0.5199999999999996,
          0.5199999999999996,
          0.42857142857142794,
          0.4742857142857142,
          0.4742857142857142,
          0.4742857142857142,
          0.4742857142857142,
          0.42857142857142794,
          0.4742857142857142,
          0.4742857142857142,
          0.4742857142857142,
          0.5199999999999996,
          0.4742857142857142,
          0.5714285714285712,
          0.6171428571428565,
          0.8571428571428568,
          0.5199999999999996,
          0.4742857142857142,
          0.5714285714285712,
          0.5199999999999996,
          0.4742857142857142,
          0.4742857142857142,
          0.4742857142857142,
          0.5199999999999996,
          0.4742857142857142,
          0.42857142857142794,
          0.42857142857142794,
          0.5199999999999996,
          0.42857142857142794,
          0.42857142857142794,
          0.4742857142857142,
          0.4742857142857142,
          0.42857142857142794,
          0.5714285714285712,
          0.42857142857142794,
          0.42857142857142794,
          0.42857142857142794,
          0.4742857142857142,
          0.4742857142857142,
          0.3771428571428572,
          0.3771428571428572,
          0.4742857142857142,
          0.42857142857142794,
          0.4742857142857142,
          0.3771428571428572,
          0.42857142857142794,
          0.33142857142857096,
          0.3771428571428572,
          0.42857142857142794,
          0.42857142857142794,
          0.42857142857142794,
          0.3771428571428572,
          0.33142857142857096,
          0.42857142857142794,
          0.3771428571428572,
          0.3771428571428572,
          0.3771428571428572,
          0.33142857142857096,
          0.42857142857142794,
          0.3771428571428572,
          0.42857142857142794,
          0.3771428571428572,
          0.33142857142857096,
          0.1885714285714286,
          0.33142857142857096,
          0.2857142857142856,
          0.2857142857142856,
          0.234285714285714,
          0.234285714285714,
          0.2857142857142856,
          0.2857142857142856,
          0.2857142857142856,
          0.234285714285714,
          0.1885714285714286,
          0
         ],
         "yaxis": "y6"
        }
       ],
       "layout": {
        "height": 1200,
        "template": {
         "data": {
          "bar": [
           {
            "error_x": {
             "color": "#2a3f5f"
            },
            "error_y": {
             "color": "#2a3f5f"
            },
            "marker": {
             "line": {
              "color": "#E5ECF6",
              "width": 0.5
             },
             "pattern": {
              "fillmode": "overlay",
              "size": 10,
              "solidity": 0.2
             }
            },
            "type": "bar"
           }
          ],
          "barpolar": [
           {
            "marker": {
             "line": {
              "color": "#E5ECF6",
              "width": 0.5
             },
             "pattern": {
              "fillmode": "overlay",
              "size": 10,
              "solidity": 0.2
             }
            },
            "type": "barpolar"
           }
          ],
          "carpet": [
           {
            "aaxis": {
             "endlinecolor": "#2a3f5f",
             "gridcolor": "white",
             "linecolor": "white",
             "minorgridcolor": "white",
             "startlinecolor": "#2a3f5f"
            },
            "baxis": {
             "endlinecolor": "#2a3f5f",
             "gridcolor": "white",
             "linecolor": "white",
             "minorgridcolor": "white",
             "startlinecolor": "#2a3f5f"
            },
            "type": "carpet"
           }
          ],
          "choropleth": [
           {
            "colorbar": {
             "outlinewidth": 0,
             "ticks": ""
            },
            "type": "choropleth"
           }
          ],
          "contour": [
           {
            "colorbar": {
             "outlinewidth": 0,
             "ticks": ""
            },
            "colorscale": [
             [
              0,
              "#0d0887"
             ],
             [
              0.1111111111111111,
              "#46039f"
             ],
             [
              0.2222222222222222,
              "#7201a8"
             ],
             [
              0.3333333333333333,
              "#9c179e"
             ],
             [
              0.4444444444444444,
              "#bd3786"
             ],
             [
              0.5555555555555556,
              "#d8576b"
             ],
             [
              0.6666666666666666,
              "#ed7953"
             ],
             [
              0.7777777777777778,
              "#fb9f3a"
             ],
             [
              0.8888888888888888,
              "#fdca26"
             ],
             [
              1,
              "#f0f921"
             ]
            ],
            "type": "contour"
           }
          ],
          "contourcarpet": [
           {
            "colorbar": {
             "outlinewidth": 0,
             "ticks": ""
            },
            "type": "contourcarpet"
           }
          ],
          "heatmap": [
           {
            "colorbar": {
             "outlinewidth": 0,
             "ticks": ""
            },
            "colorscale": [
             [
              0,
              "#0d0887"
             ],
             [
              0.1111111111111111,
              "#46039f"
             ],
             [
              0.2222222222222222,
              "#7201a8"
             ],
             [
              0.3333333333333333,
              "#9c179e"
             ],
             [
              0.4444444444444444,
              "#bd3786"
             ],
             [
              0.5555555555555556,
              "#d8576b"
             ],
             [
              0.6666666666666666,
              "#ed7953"
             ],
             [
              0.7777777777777778,
              "#fb9f3a"
             ],
             [
              0.8888888888888888,
              "#fdca26"
             ],
             [
              1,
              "#f0f921"
             ]
            ],
            "type": "heatmap"
           }
          ],
          "heatmapgl": [
           {
            "colorbar": {
             "outlinewidth": 0,
             "ticks": ""
            },
            "colorscale": [
             [
              0,
              "#0d0887"
             ],
             [
              0.1111111111111111,
              "#46039f"
             ],
             [
              0.2222222222222222,
              "#7201a8"
             ],
             [
              0.3333333333333333,
              "#9c179e"
             ],
             [
              0.4444444444444444,
              "#bd3786"
             ],
             [
              0.5555555555555556,
              "#d8576b"
             ],
             [
              0.6666666666666666,
              "#ed7953"
             ],
             [
              0.7777777777777778,
              "#fb9f3a"
             ],
             [
              0.8888888888888888,
              "#fdca26"
             ],
             [
              1,
              "#f0f921"
             ]
            ],
            "type": "heatmapgl"
           }
          ],
          "histogram": [
           {
            "marker": {
             "pattern": {
              "fillmode": "overlay",
              "size": 10,
              "solidity": 0.2
             }
            },
            "type": "histogram"
           }
          ],
          "histogram2d": [
           {
            "colorbar": {
             "outlinewidth": 0,
             "ticks": ""
            },
            "colorscale": [
             [
              0,
              "#0d0887"
             ],
             [
              0.1111111111111111,
              "#46039f"
             ],
             [
              0.2222222222222222,
              "#7201a8"
             ],
             [
              0.3333333333333333,
              "#9c179e"
             ],
             [
              0.4444444444444444,
              "#bd3786"
             ],
             [
              0.5555555555555556,
              "#d8576b"
             ],
             [
              0.6666666666666666,
              "#ed7953"
             ],
             [
              0.7777777777777778,
              "#fb9f3a"
             ],
             [
              0.8888888888888888,
              "#fdca26"
             ],
             [
              1,
              "#f0f921"
             ]
            ],
            "type": "histogram2d"
           }
          ],
          "histogram2dcontour": [
           {
            "colorbar": {
             "outlinewidth": 0,
             "ticks": ""
            },
            "colorscale": [
             [
              0,
              "#0d0887"
             ],
             [
              0.1111111111111111,
              "#46039f"
             ],
             [
              0.2222222222222222,
              "#7201a8"
             ],
             [
              0.3333333333333333,
              "#9c179e"
             ],
             [
              0.4444444444444444,
              "#bd3786"
             ],
             [
              0.5555555555555556,
              "#d8576b"
             ],
             [
              0.6666666666666666,
              "#ed7953"
             ],
             [
              0.7777777777777778,
              "#fb9f3a"
             ],
             [
              0.8888888888888888,
              "#fdca26"
             ],
             [
              1,
              "#f0f921"
             ]
            ],
            "type": "histogram2dcontour"
           }
          ],
          "mesh3d": [
           {
            "colorbar": {
             "outlinewidth": 0,
             "ticks": ""
            },
            "type": "mesh3d"
           }
          ],
          "parcoords": [
           {
            "line": {
             "colorbar": {
              "outlinewidth": 0,
              "ticks": ""
             }
            },
            "type": "parcoords"
           }
          ],
          "pie": [
           {
            "automargin": true,
            "type": "pie"
           }
          ],
          "scatter": [
           {
            "fillpattern": {
             "fillmode": "overlay",
             "size": 10,
             "solidity": 0.2
            },
            "type": "scatter"
           }
          ],
          "scatter3d": [
           {
            "line": {
             "colorbar": {
              "outlinewidth": 0,
              "ticks": ""
             }
            },
            "marker": {
             "colorbar": {
              "outlinewidth": 0,
              "ticks": ""
             }
            },
            "type": "scatter3d"
           }
          ],
          "scattercarpet": [
           {
            "marker": {
             "colorbar": {
              "outlinewidth": 0,
              "ticks": ""
             }
            },
            "type": "scattercarpet"
           }
          ],
          "scattergeo": [
           {
            "marker": {
             "colorbar": {
              "outlinewidth": 0,
              "ticks": ""
             }
            },
            "type": "scattergeo"
           }
          ],
          "scattergl": [
           {
            "marker": {
             "colorbar": {
              "outlinewidth": 0,
              "ticks": ""
             }
            },
            "type": "scattergl"
           }
          ],
          "scattermapbox": [
           {
            "marker": {
             "colorbar": {
              "outlinewidth": 0,
              "ticks": ""
             }
            },
            "type": "scattermapbox"
           }
          ],
          "scatterpolar": [
           {
            "marker": {
             "colorbar": {
              "outlinewidth": 0,
              "ticks": ""
             }
            },
            "type": "scatterpolar"
           }
          ],
          "scatterpolargl": [
           {
            "marker": {
             "colorbar": {
              "outlinewidth": 0,
              "ticks": ""
             }
            },
            "type": "scatterpolargl"
           }
          ],
          "scatterternary": [
           {
            "marker": {
             "colorbar": {
              "outlinewidth": 0,
              "ticks": ""
             }
            },
            "type": "scatterternary"
           }
          ],
          "surface": [
           {
            "colorbar": {
             "outlinewidth": 0,
             "ticks": ""
            },
            "colorscale": [
             [
              0,
              "#0d0887"
             ],
             [
              0.1111111111111111,
              "#46039f"
             ],
             [
              0.2222222222222222,
              "#7201a8"
             ],
             [
              0.3333333333333333,
              "#9c179e"
             ],
             [
              0.4444444444444444,
              "#bd3786"
             ],
             [
              0.5555555555555556,
              "#d8576b"
             ],
             [
              0.6666666666666666,
              "#ed7953"
             ],
             [
              0.7777777777777778,
              "#fb9f3a"
             ],
             [
              0.8888888888888888,
              "#fdca26"
             ],
             [
              1,
              "#f0f921"
             ]
            ],
            "type": "surface"
           }
          ],
          "table": [
           {
            "cells": {
             "fill": {
              "color": "#EBF0F8"
             },
             "line": {
              "color": "white"
             }
            },
            "header": {
             "fill": {
              "color": "#C8D4E3"
             },
             "line": {
              "color": "white"
             }
            },
            "type": "table"
           }
          ]
         },
         "layout": {
          "annotationdefaults": {
           "arrowcolor": "#2a3f5f",
           "arrowhead": 0,
           "arrowwidth": 1
          },
          "autotypenumbers": "strict",
          "coloraxis": {
           "colorbar": {
            "outlinewidth": 0,
            "ticks": ""
           }
          },
          "colorscale": {
           "diverging": [
            [
             0,
             "#8e0152"
            ],
            [
             0.1,
             "#c51b7d"
            ],
            [
             0.2,
             "#de77ae"
            ],
            [
             0.3,
             "#f1b6da"
            ],
            [
             0.4,
             "#fde0ef"
            ],
            [
             0.5,
             "#f7f7f7"
            ],
            [
             0.6,
             "#e6f5d0"
            ],
            [
             0.7,
             "#b8e186"
            ],
            [
             0.8,
             "#7fbc41"
            ],
            [
             0.9,
             "#4d9221"
            ],
            [
             1,
             "#276419"
            ]
           ],
           "sequential": [
            [
             0,
             "#0d0887"
            ],
            [
             0.1111111111111111,
             "#46039f"
            ],
            [
             0.2222222222222222,
             "#7201a8"
            ],
            [
             0.3333333333333333,
             "#9c179e"
            ],
            [
             0.4444444444444444,
             "#bd3786"
            ],
            [
             0.5555555555555556,
             "#d8576b"
            ],
            [
             0.6666666666666666,
             "#ed7953"
            ],
            [
             0.7777777777777778,
             "#fb9f3a"
            ],
            [
             0.8888888888888888,
             "#fdca26"
            ],
            [
             1,
             "#f0f921"
            ]
           ],
           "sequentialminus": [
            [
             0,
             "#0d0887"
            ],
            [
             0.1111111111111111,
             "#46039f"
            ],
            [
             0.2222222222222222,
             "#7201a8"
            ],
            [
             0.3333333333333333,
             "#9c179e"
            ],
            [
             0.4444444444444444,
             "#bd3786"
            ],
            [
             0.5555555555555556,
             "#d8576b"
            ],
            [
             0.6666666666666666,
             "#ed7953"
            ],
            [
             0.7777777777777778,
             "#fb9f3a"
            ],
            [
             0.8888888888888888,
             "#fdca26"
            ],
            [
             1,
             "#f0f921"
            ]
           ]
          },
          "colorway": [
           "#636efa",
           "#EF553B",
           "#00cc96",
           "#ab63fa",
           "#FFA15A",
           "#19d3f3",
           "#FF6692",
           "#B6E880",
           "#FF97FF",
           "#FECB52"
          ],
          "font": {
           "color": "#2a3f5f"
          },
          "geo": {
           "bgcolor": "white",
           "lakecolor": "white",
           "landcolor": "#E5ECF6",
           "showlakes": true,
           "showland": true,
           "subunitcolor": "white"
          },
          "hoverlabel": {
           "align": "left"
          },
          "hovermode": "closest",
          "mapbox": {
           "style": "light"
          },
          "paper_bgcolor": "white",
          "plot_bgcolor": "#E5ECF6",
          "polar": {
           "angularaxis": {
            "gridcolor": "white",
            "linecolor": "white",
            "ticks": ""
           },
           "bgcolor": "#E5ECF6",
           "radialaxis": {
            "gridcolor": "white",
            "linecolor": "white",
            "ticks": ""
           }
          },
          "scene": {
           "xaxis": {
            "backgroundcolor": "#E5ECF6",
            "gridcolor": "white",
            "gridwidth": 2,
            "linecolor": "white",
            "showbackground": true,
            "ticks": "",
            "zerolinecolor": "white"
           },
           "yaxis": {
            "backgroundcolor": "#E5ECF6",
            "gridcolor": "white",
            "gridwidth": 2,
            "linecolor": "white",
            "showbackground": true,
            "ticks": "",
            "zerolinecolor": "white"
           },
           "zaxis": {
            "backgroundcolor": "#E5ECF6",
            "gridcolor": "white",
            "gridwidth": 2,
            "linecolor": "white",
            "showbackground": true,
            "ticks": "",
            "zerolinecolor": "white"
           }
          },
          "shapedefaults": {
           "line": {
            "color": "#2a3f5f"
           }
          },
          "ternary": {
           "aaxis": {
            "gridcolor": "white",
            "linecolor": "white",
            "ticks": ""
           },
           "baxis": {
            "gridcolor": "white",
            "linecolor": "white",
            "ticks": ""
           },
           "bgcolor": "#E5ECF6",
           "caxis": {
            "gridcolor": "white",
            "linecolor": "white",
            "ticks": ""
           }
          },
          "title": {
           "x": 0.05
          },
          "xaxis": {
           "automargin": true,
           "gridcolor": "white",
           "linecolor": "white",
           "ticks": "",
           "title": {
            "standoff": 15
           },
           "zerolinecolor": "white",
           "zerolinewidth": 2
          },
          "yaxis": {
           "automargin": true,
           "gridcolor": "white",
           "linecolor": "white",
           "ticks": "",
           "title": {
            "standoff": 15
           },
           "zerolinecolor": "white",
           "zerolinewidth": 2
          }
         }
        },
        "title": {
         "text": "Distribution of Coffee Quality Scores"
        },
        "width": 800,
        "xaxis": {
         "anchor": "y",
         "domain": [
          0,
          1
         ]
        },
        "xaxis2": {
         "anchor": "y2",
         "domain": [
          0,
          1
         ]
        },
        "xaxis3": {
         "anchor": "y3",
         "domain": [
          0,
          1
         ]
        },
        "xaxis4": {
         "anchor": "y4",
         "domain": [
          0,
          1
         ]
        },
        "xaxis5": {
         "anchor": "y5",
         "domain": [
          0,
          1
         ]
        },
        "xaxis6": {
         "anchor": "y6",
         "domain": [
          0,
          1
         ]
        },
        "yaxis": {
         "anchor": "x",
         "domain": [
          0.875,
          1
         ]
        },
        "yaxis2": {
         "anchor": "x2",
         "domain": [
          0.7,
          0.825
         ]
        },
        "yaxis3": {
         "anchor": "x3",
         "domain": [
          0.525,
          0.65
         ]
        },
        "yaxis4": {
         "anchor": "x4",
         "domain": [
          0.35,
          0.475
         ]
        },
        "yaxis5": {
         "anchor": "x5",
         "domain": [
          0.175,
          0.3
         ]
        },
        "yaxis6": {
         "anchor": "x6",
         "domain": [
          0,
          0.125
         ]
        }
       }
      },
      "text/html": [
       "<div>                            <div id=\"640a0e1d-e927-49a2-b7f5-8728a3f07d29\" class=\"plotly-graph-div\" style=\"height:1200px; width:800px;\"></div>            <script type=\"text/javascript\">                require([\"plotly\"], function(Plotly) {                    window.PLOTLYENV=window.PLOTLYENV || {};                                    if (document.getElementById(\"640a0e1d-e927-49a2-b7f5-8728a3f07d29\")) {                    Plotly.newPlot(                        \"640a0e1d-e927-49a2-b7f5-8728a3f07d29\",                        [{\"boxpoints\":\"all\",\"name\":\"Aroma\",\"y\":[1.0,0.9615384615384608,0.8798076923076916,0.7596153846153842,0.8798076923076916,0.8798076923076916,0.8798076923076916,0.8413461538461534,0.7596153846153842,0.7596153846153842,0.7596153846153842,0.7596153846153842,0.7596153846153842,0.5624999999999998,0.7596153846153842,0.8028846153846151,0.8028846153846151,0.7211538461538459,0.7596153846153842,0.8028846153846151,0.7211538461538459,0.7596153846153842,0.5624999999999998,0.7596153846153842,0.6394230769230768,0.6394230769230768,0.6826923076923076,0.8028846153846151,0.7211538461538459,0.7211538461538459,0.7211538461538459,0.6826923076923076,0.7596153846153842,0.5624999999999998,0.7211538461538459,0.6826923076923076,0.7211538461538459,0.8413461538461534,0.8028846153846151,0.6009615384615385,0.7211538461538459,0.7211538461538459,0.7211538461538459,0.7211538461538459,0.6826923076923076,0.8028846153846151,0.5624999999999998,0.5624999999999998,0.6394230769230768,0.6826923076923076,0.7211538461538459,0.6394230769230768,0.7211538461538459,0.6826923076923076,0.6394230769230768,0.5624999999999998,0.6394230769230768,0.6394230769230768,0.6826923076923076,0.5624999999999998,0.6394230769230768,0.5192307692307694,0.6394230769230768,0.8028846153846151,0.6826923076923076,0.7596153846153842,0.6394230769230768,0.7211538461538459,0.6009615384615385,0.6009615384615385,0.6394230769230768,0.6826923076923076,0.7596153846153842,0.6394230769230768,0.5624999999999998,0.6826923076923076,0.6394230769230768,0.6394230769230768,0.6009615384615385,0.5624999999999998,0.5192307692307694,0.6826923076923076,0.6009615384615385,0.5192307692307694,0.6394230769230768,0.6826923076923076,0.5624999999999998,0.5624999999999998,0.6009615384615385,0.5192307692307694,0.7211538461538459,0.6009615384615385,0.5624999999999998,0.5624999999999998,0.6394230769230768,0.5192307692307694,0.6009615384615385,0.5624999999999998,0.5192307692307694,0.5192307692307694,0.6394230769230768,0.6826923076923076,0.5624999999999998,0.5624999999999998,0.5624999999999998,0.6394230769230768,0.5624999999999998,0.6394230769230768,0.5192307692307694,0.5624999999999998,0.5192307692307694,0.5192307692307694,0.5192307692307694,0.6009615384615385,0.6009615384615385,0.4423076923076923,0.4423076923076923,0.5624999999999998,0.6009615384615385,0.6009615384615385,0.6009615384615385,0.5192307692307694,0.4807692307692306,0.5192307692307694,0.5624999999999998,0.5192307692307694,0.6009615384615385,0.6826923076923076,0.6826923076923076,0.5192307692307694,0.6009615384615385,0.5624999999999998,0.5624999999999998,0.6009615384615385,0.6009615384615385,0.5624999999999998,0.5624999999999998,0.5624999999999998,0.6009615384615385,0.7211538461538459,0.4807692307692306,0.6009615384615385,0.5192307692307694,0.5624999999999998,0.5624999999999998,0.3221153846153844,0.5192307692307694,0.3990384615384615,0.3990384615384615,0.5192307692307694,0.3990384615384615,0.4807692307692306,0.5624999999999998,0.5624999999999998,0.5624999999999998,0.4807692307692306,0.5624999999999998,0.6009615384615385,0.4807692307692306,0.3990384615384615,0.5624999999999998,0.5192307692307694,0.4423076923076923,0.5192307692307694,0.4807692307692306,0.4807692307692306,0.3990384615384615,0.5624999999999998,0.5624999999999998,0.6009615384615385,0.4807692307692306,0.5624999999999998,0.4807692307692306,0.3990384615384615,0.4807692307692306,0.3221153846153844,0.4423076923076923,0.4423076923076923,0.5624999999999998,0.4807692307692306,0.3990384615384615,0.3605769230769232,0.4807692307692306,0.4807692307692306,0.4423076923076923,0.3990384615384615,0.5192307692307694,0.3990384615384615,0.4423076923076923,0.3990384615384615,0.3990384615384615,0.4423076923076923,0.3605769230769232,0.4423076923076923,0.4423076923076923,0.4423076923076923,0.3605769230769232,0.4423076923076923,0.3605769230769232,0.4807692307692306,0.2788461538461541,0.3605769230769232,0.3221153846153844,0.3990384615384615,0.3605769230769232,0.0,0.3605769230769232],\"type\":\"box\",\"xaxis\":\"x\",\"yaxis\":\"y\"},{\"boxpoints\":\"all\",\"name\":\"Flavor\",\"y\":[1.0,1.0,0.9542857142857146,0.8114285714285714,0.902857142857143,0.902857142857143,0.8114285714285714,0.8571428571428577,0.7599999999999998,0.8114285714285714,0.8571428571428577,0.7142857142857144,0.7142857142857144,0.8114285714285714,0.7142857142857144,0.7599999999999998,0.7599999999999998,0.8114285714285714,0.8114285714285714,0.7142857142857144,0.668571428571429,0.7142857142857144,0.7142857142857144,0.7142857142857144,0.7142857142857144,0.7599999999999998,0.668571428571429,0.7599999999999998,0.7142857142857144,0.668571428571429,0.7142857142857144,0.7142857142857144,0.8114285714285714,0.6171428571428574,0.7599999999999998,0.5714285714285712,0.668571428571429,0.7599999999999998,0.5714285714285712,0.668571428571429,0.668571428571429,0.7599999999999998,0.668571428571429,0.668571428571429,0.7142857142857144,0.7599999999999998,0.7599999999999998,0.7142857142857144,0.668571428571429,0.668571428571429,0.7142857142857144,0.668571428571429,0.7142857142857144,0.5714285714285712,0.6171428571428574,0.668571428571429,0.668571428571429,0.6171428571428574,0.7599999999999998,0.7142857142857144,0.7142857142857144,0.6171428571428574,0.6171428571428574,0.6171428571428574,0.5714285714285712,0.6171428571428574,0.7142857142857144,0.6171428571428574,0.6171428571428574,0.668571428571429,0.668571428571429,0.6171428571428574,0.668571428571429,0.7142857142857144,0.6171428571428574,0.6171428571428574,0.5714285714285712,0.6171428571428574,0.5714285714285712,0.5257142857142858,0.668571428571429,0.668571428571429,0.5714285714285712,0.668571428571429,0.668571428571429,0.5714285714285712,0.6171428571428574,0.668571428571429,0.5714285714285712,0.5257142857142858,0.5714285714285712,0.4742857142857142,0.6171428571428574,0.668571428571429,0.6171428571428574,0.6171428571428574,0.5257142857142858,0.5714285714285712,0.6171428571428574,0.668571428571429,0.5257142857142858,0.5714285714285712,0.668571428571429,0.668571428571429,0.5257142857142858,0.5714285714285712,0.5257142857142858,0.6171428571428574,0.5714285714285712,0.5257142857142858,0.5257142857142858,0.5714285714285712,0.6171428571428574,0.5257142857142858,0.5714285714285712,0.6171428571428574,0.38285714285714256,0.5257142857142858,0.5714285714285712,0.668571428571429,0.5257142857142858,0.5257142857142858,0.5714285714285712,0.5257142857142858,0.5257142857142858,0.5714285714285712,0.6171428571428574,0.668571428571429,0.5257142857142858,0.4285714285714288,0.5714285714285712,0.5257142857142858,0.5714285714285712,0.4742857142857142,0.5714285714285712,0.5257142857142858,0.5714285714285712,0.5257142857142858,0.4742857142857142,0.5257142857142858,0.5257142857142858,0.4285714285714288,0.4285714285714288,0.4285714285714288,0.4742857142857142,0.668571428571429,0.38285714285714256,0.4742857142857142,0.4285714285714288,0.5257142857142858,0.4742857142857142,0.4742857142857142,0.4742857142857142,0.5257142857142858,0.4742857142857142,0.4742857142857142,0.33142857142857185,0.5257142857142858,0.4742857142857142,0.4742857142857142,0.38285714285714256,0.4742857142857142,0.38285714285714256,0.4742857142857142,0.4285714285714288,0.4285714285714288,0.5257142857142858,0.4742857142857142,0.4285714285714288,0.38285714285714256,0.4285714285714288,0.4285714285714288,0.5257142857142858,0.38285714285714256,0.4742857142857142,0.4285714285714288,0.38285714285714256,0.38285714285714256,0.33142857142857185,0.4285714285714288,0.38285714285714256,0.38285714285714256,0.4285714285714288,0.4285714285714288,0.4285714285714288,0.4285714285714288,0.38285714285714256,0.38285714285714256,0.4285714285714288,0.4285714285714288,0.38285714285714256,0.2857142857142856,0.2857142857142856,0.2857142857142856,0.38285714285714256,0.33142857142857185,0.2857142857142856,0.2400000000000002,0.2857142857142856,0.2857142857142856,0.2857142857142856,0.2400000000000002,0.2400000000000002,0.1885714285714286,0.2400000000000002,0.0,0.1885714285714286],\"type\":\"box\",\"xaxis\":\"x2\",\"yaxis\":\"y2\"},{\"boxpoints\":\"all\",\"name\":\"Aftertaste\",\"y\":[1.0,0.7142857142857144,0.8057142857142852,0.8571428571428568,0.8057142857142852,0.902857142857143,0.8057142857142852,0.8571428571428568,0.902857142857143,0.8057142857142852,0.7599999999999998,0.7599999999999998,0.8057142857142852,0.7599999999999998,0.8057142857142852,0.7599999999999998,0.7142857142857144,0.7599999999999998,0.6171428571428565,0.7142857142857144,0.8057142857142852,0.7142857142857144,0.6628571428571428,0.6628571428571428,0.7142857142857144,0.6628571428571428,0.7599999999999998,0.7142857142857144,0.7599999999999998,0.7599999999999998,0.6628571428571428,0.6628571428571428,0.5714285714285712,0.6628571428571428,0.7599999999999998,0.6628571428571428,0.6628571428571428,0.6628571428571428,0.6628571428571428,0.6171428571428565,0.6628571428571428,0.5714285714285712,0.5714285714285712,0.6171428571428565,0.7142857142857144,0.6628571428571428,0.5714285714285712,0.6171428571428565,0.6171428571428565,0.6628571428571428,0.6171428571428565,0.6171428571428565,0.6628571428571428,0.6171428571428565,0.5714285714285712,0.7142857142857144,0.6171428571428565,0.6171428571428565,0.5714285714285712,0.5714285714285712,0.5714285714285712,0.4742857142857142,0.6171428571428565,0.5714285714285712,0.5714285714285712,0.5714285714285712,0.5714285714285712,0.6171428571428565,0.5714285714285712,0.6628571428571428,0.6171428571428565,0.6171428571428565,0.6171428571428565,0.4742857142857142,0.6171428571428565,0.6171428571428565,0.5199999999999996,0.6628571428571428,0.6171428571428565,0.6628571428571428,0.5714285714285712,0.5199999999999996,0.5199999999999996,0.5199999999999996,0.6628571428571428,0.5714285714285712,0.5714285714285712,0.5714285714285712,0.6171428571428565,0.6171428571428565,0.4742857142857142,0.5199999999999996,0.5199999999999996,0.5199999999999996,0.5199999999999996,0.5199999999999996,0.5199999999999996,0.5714285714285712,0.5714285714285712,0.4742857142857142,0.4742857142857142,0.42857142857142794,0.5199999999999996,0.5714285714285712,0.5199999999999996,0.4742857142857142,0.6171428571428565,0.5714285714285712,0.5714285714285712,0.5199999999999996,0.4742857142857142,0.5199999999999996,0.5199999999999996,0.5199999999999996,0.4742857142857142,0.5199999999999996,0.42857142857142794,0.4742857142857142,0.4742857142857142,0.5714285714285712,0.5199999999999996,0.4742857142857142,0.5199999999999996,0.5199999999999996,0.42857142857142794,0.42857142857142794,0.5199999999999996,0.6171428571428565,0.42857142857142794,0.4742857142857142,0.5199999999999996,0.5199999999999996,0.5714285714285712,0.5199999999999996,0.4742857142857142,0.4742857142857142,0.3771428571428572,0.4742857142857142,0.5199999999999996,0.42857142857142794,0.5199999999999996,0.42857142857142794,0.4742857142857142,0.42857142857142794,0.4742857142857142,0.5199999999999996,0.5199999999999996,0.33142857142857096,0.33142857142857096,0.5199999999999996,0.5199999999999996,0.4742857142857142,0.3771428571428572,0.42857142857142794,0.42857142857142794,0.42857142857142794,0.2857142857142856,0.2857142857142856,0.4742857142857142,0.4742857142857142,0.4742857142857142,0.3771428571428572,0.5199999999999996,0.42857142857142794,0.3771428571428572,0.42857142857142794,0.33142857142857096,0.42857142857142794,0.3771428571428572,0.3771428571428572,0.42857142857142794,0.33142857142857096,0.3771428571428572,0.42857142857142794,0.42857142857142794,0.42857142857142794,0.42857142857142794,0.42857142857142794,0.33142857142857096,0.3771428571428572,0.3771428571428572,0.42857142857142794,0.33142857142857096,0.42857142857142794,0.5199999999999996,0.3771428571428572,0.33142857142857096,0.33142857142857096,0.3771428571428572,0.42857142857142794,0.33142857142857096,0.3771428571428572,0.42857142857142794,0.33142857142857096,0.33142857142857096,0.3771428571428572,0.2857142857142856,0.1885714285714286,0.2857142857142856,0.2857142857142856,0.234285714285714,0.2857142857142856,0.1428571428571428,0.045714285714285374,0.234285714285714,0.045714285714285374,0.0],\"type\":\"box\",\"xaxis\":\"x3\",\"yaxis\":\"y3\"},{\"boxpoints\":\"all\",\"name\":\"Acidity\",\"y\":[1.0,0.6685714285714283,0.7657142857142852,0.8114285714285715,0.8114285714285715,0.5714285714285714,0.6685714285714283,0.6685714285714283,0.7142857142857136,0.7657142857142852,0.7142857142857136,0.5257142857142851,0.7142857142857136,0.8571428571428569,0.622857142857143,0.622857142857143,0.7657142857142852,0.622857142857143,0.622857142857143,0.622857142857143,0.622857142857143,0.622857142857143,0.6685714285714283,0.7657142857142852,0.6685714285714283,0.622857142857143,0.622857142857143,0.6685714285714283,0.622857142857143,0.5714285714285714,0.5714285714285714,0.622857142857143,0.5714285714285714,0.6685714285714283,0.6685714285714283,0.7657142857142852,0.622857142857143,0.5257142857142851,0.4285714285714282,0.6685714285714283,0.622857142857143,0.5257142857142851,0.6685714285714283,0.5257142857142851,0.6685714285714283,0.47999999999999976,0.6685714285714283,0.622857142857143,0.6685714285714283,0.5714285714285714,0.5257142857142851,0.5714285714285714,0.5714285714285714,0.622857142857143,0.47999999999999976,0.5714285714285714,0.622857142857143,0.622857142857143,0.622857142857143,0.5714285714285714,0.5714285714285714,0.47999999999999976,0.5257142857142851,0.5714285714285714,0.47999999999999976,0.47999999999999976,0.5257142857142851,0.47999999999999976,0.5714285714285714,0.5257142857142851,0.5257142857142851,0.622857142857143,0.5714285714285714,0.5257142857142851,0.5257142857142851,0.622857142857143,0.622857142857143,0.5714285714285714,0.5257142857142851,0.5714285714285714,0.5257142857142851,0.5257142857142851,0.5714285714285714,0.5714285714285714,0.4285714285714282,0.5257142857142851,0.5714285714285714,0.5257142857142851,0.47999999999999976,0.5257142857142851,0.47999999999999976,0.622857142857143,0.622857142857143,0.5257142857142851,0.47999999999999976,0.5257142857142851,0.5257142857142851,0.5257142857142851,0.47999999999999976,0.47999999999999976,0.622857142857143,0.4285714285714282,0.4285714285714282,0.4285714285714282,0.47999999999999976,0.4285714285714282,0.5257142857142851,0.4285714285714282,0.5714285714285714,0.5257142857142851,0.5257142857142851,0.5257142857142851,0.47999999999999976,0.4285714285714282,0.4285714285714282,0.47999999999999976,0.6685714285714283,0.47999999999999976,0.38285714285714284,0.622857142857143,0.38285714285714284,0.5257142857142851,0.5257142857142851,0.5257142857142851,0.5257142857142851,0.47999999999999976,0.4285714285714282,0.2857142857142859,0.38285714285714284,0.5714285714285714,0.47999999999999976,0.47999999999999976,0.4285714285714282,0.4285714285714282,0.5257142857142851,0.4285714285714282,0.47999999999999976,0.4285714285714282,0.4285714285714282,0.4285714285714282,0.4285714285714282,0.47999999999999976,0.47999999999999976,0.5257142857142851,0.38285714285714284,0.38285714285714284,0.38285714285714284,0.2857142857142859,0.622857142857143,0.38285714285714284,0.38285714285714284,0.3371428571428566,0.38285714285714284,0.3371428571428566,0.3371428571428566,0.4285714285714282,0.47999999999999976,0.47999999999999976,0.38285714285714284,0.38285714285714284,0.38285714285714284,0.38285714285714284,0.3371428571428566,0.3371428571428566,0.38285714285714284,0.3371428571428566,0.47999999999999976,0.38285714285714284,0.4285714285714282,0.38285714285714284,0.38285714285714284,0.38285714285714284,0.38285714285714284,0.38285714285714284,0.3371428571428566,0.3371428571428566,0.2857142857142859,0.2857142857142859,0.47999999999999976,0.38285714285714284,0.3371428571428566,0.38285714285714284,0.3371428571428566,0.2857142857142859,0.2857142857142859,0.3371428571428566,0.23999999999999966,0.3371428571428566,0.2857142857142859,0.2857142857142859,0.2857142857142859,0.3371428571428566,0.23999999999999966,0.3371428571428566,0.23999999999999966,0.38285714285714284,0.2857142857142859,0.14285714285714274,0.2857142857142859,0.1942857142857143,0.3371428571428566,0.14285714285714274,0.1942857142857143,0.1942857142857143,0.09714285714285738,0.1942857142857143,0.0],\"type\":\"box\",\"xaxis\":\"x4\",\"yaxis\":\"y4\"},{\"boxpoints\":\"all\",\"name\":\"Body\",\"y\":[1.0,0.767605633802817,0.767605633802817,0.943661971830986,0.767605633802817,0.704225352112676,0.704225352112676,0.767605633802817,0.767605633802817,0.823943661971831,0.767605633802817,1.0,0.823943661971831,0.823943661971831,0.880281690140845,0.823943661971831,0.647887323943662,0.767605633802817,0.704225352112676,0.943661971830986,0.647887323943662,0.823943661971831,0.880281690140845,0.647887323943662,0.823943661971831,0.823943661971831,0.704225352112676,0.528169014084507,0.647887323943662,0.591549295774648,0.647887323943662,0.704225352112676,0.591549295774648,0.823943661971831,0.591549295774648,0.823943661971831,0.704225352112676,0.591549295774648,0.767605633802817,0.704225352112676,0.647887323943662,0.767605633802817,0.647887323943662,0.647887323943662,0.528169014084507,0.591549295774648,0.767605633802817,0.823943661971831,0.647887323943662,0.647887323943662,0.591549295774648,0.704225352112676,0.528169014084507,0.704225352112676,0.704225352112676,0.647887323943662,0.591549295774648,0.704225352112676,0.591549295774648,0.767605633802817,0.647887323943662,0.704225352112676,0.647887323943662,0.591549295774648,0.704225352112676,0.591549295774648,0.591549295774648,0.528169014084507,0.647887323943662,0.647887323943662,0.647887323943662,0.528169014084507,0.471830985915493,0.647887323943662,0.704225352112676,0.471830985915493,0.823943661971831,0.591549295774648,0.704225352112676,0.591549295774648,0.704225352112676,0.528169014084507,0.647887323943662,0.647887323943662,0.528169014084507,0.647887323943662,0.647887323943662,0.591549295774648,0.647887323943662,0.647887323943662,0.591549295774648,0.591549295774648,0.591549295774648,0.591549295774648,0.591549295774648,0.591549295774648,0.647887323943662,0.591549295774648,0.591549295774648,0.647887323943662,0.471830985915493,0.767605633802817,0.528169014084507,0.591549295774648,0.704225352112676,0.591549295774648,0.471830985915493,0.528169014084507,0.471830985915493,0.591549295774648,0.647887323943662,0.528169014084507,0.528169014084507,0.528169014084507,0.704225352112676,0.591549295774648,0.767605633802817,0.528169014084507,0.528169014084507,0.647887323943662,0.591549295774648,0.471830985915493,0.591549295774648,0.415492957746479,0.471830985915493,0.471830985915493,0.528169014084507,0.528169014084507,0.591549295774648,0.591549295774648,0.415492957746479,0.528169014084507,0.471830985915493,0.471830985915493,0.471830985915493,0.528169014084507,0.528169014084507,0.528169014084507,0.528169014084507,0.528169014084507,0.471830985915493,0.528169014084507,0.528169014084507,0.415492957746479,0.528169014084507,0.528169014084507,0.591549295774648,0.647887323943662,0.647887323943662,0.352112676056338,0.591549295774648,0.471830985915493,0.528169014084507,0.415492957746479,0.471830985915493,0.471830985915493,0.704225352112676,0.415492957746479,0.591549295774648,0.471830985915493,0.591549295774648,0.528169014084507,0.528169014084507,0.471830985915493,0.471830985915493,0.415492957746479,0.704225352112676,0.352112676056338,0.352112676056338,0.352112676056338,0.295774647887324,0.471830985915493,0.295774647887324,0.415492957746479,0.295774647887324,0.528169014084507,0.528169014084507,0.471830985915493,0.415492957746479,0.352112676056338,0.528169014084507,0.415492957746479,0.415492957746479,0.352112676056338,0.352112676056338,0.415492957746479,0.471830985915493,0.415492957746479,0.352112676056338,0.352112676056338,0.471830985915493,0.352112676056338,0.415492957746479,0.23943661971830998,0.23943661971830998,0.176056338028169,0.176056338028169,0.415492957746479,0.11971830985915499,0.23943661971830998,0.415492957746479,0.23943661971830998,0.415492957746479,0.415492957746479,0.176056338028169,0.176056338028169,0.0],\"type\":\"box\",\"xaxis\":\"x5\",\"yaxis\":\"y5\"},{\"boxpoints\":\"all\",\"name\":\"Balance\",\"y\":[1.0,0.902857142857143,0.8571428571428568,0.8057142857142852,0.7142857142857144,0.8571428571428568,0.902857142857143,0.8057142857142852,0.7599999999999998,0.7599999999999998,0.7142857142857144,0.8571428571428568,0.7599999999999998,0.7599999999999998,0.7599999999999998,0.7142857142857144,0.7142857142857144,0.7142857142857144,0.7599999999999998,0.6171428571428565,0.7599999999999998,0.6628571428571428,0.7599999999999998,0.6628571428571428,0.7142857142857144,0.6628571428571428,0.7142857142857144,0.6628571428571428,0.7142857142857144,0.7599999999999998,0.7142857142857144,0.6628571428571428,0.7142857142857144,0.7599999999999998,0.6171428571428565,0.6171428571428565,0.6628571428571428,0.6171428571428565,0.7599999999999998,0.7142857142857144,0.6171428571428565,0.6628571428571428,0.6628571428571428,0.7142857142857144,0.6171428571428565,0.6171428571428565,0.6628571428571428,0.6628571428571428,0.6171428571428565,0.6628571428571428,0.6171428571428565,0.6628571428571428,0.6628571428571428,0.6628571428571428,0.7599999999999998,0.6628571428571428,0.6628571428571428,0.6171428571428565,0.6171428571428565,0.5714285714285712,0.6171428571428565,0.5714285714285712,0.6171428571428565,0.5714285714285712,0.6171428571428565,0.6171428571428565,0.6171428571428565,0.6628571428571428,0.6171428571428565,0.6171428571428565,0.6171428571428565,0.5714285714285712,0.5199999999999996,0.6171428571428565,0.6171428571428565,0.5714285714285712,0.4742857142857142,0.5714285714285712,0.5714285714285712,0.6171428571428565,0.6171428571428565,0.5714285714285712,0.6171428571428565,0.5714285714285712,0.5714285714285712,0.7599999999999998,0.5714285714285712,0.5199999999999996,0.5714285714285712,0.6171428571428565,0.5714285714285712,0.6171428571428565,0.5714285714285712,0.5199999999999996,0.5199999999999996,0.6171428571428565,0.5714285714285712,0.5714285714285712,0.5714285714285712,0.5714285714285712,0.5714285714285712,0.5714285714285712,0.6171428571428565,0.5714285714285712,0.5199999999999996,0.5714285714285712,0.5714285714285712,0.5199999999999996,0.5714285714285712,0.5714285714285712,0.5714285714285712,0.5714285714285712,0.5199999999999996,0.5714285714285712,0.4742857142857142,0.6171428571428565,0.5714285714285712,0.5714285714285712,0.5199999999999996,0.6628571428571428,0.4742857142857142,0.5199999999999996,0.5199999999999996,0.5199999999999996,0.6171428571428565,0.6171428571428565,0.4742857142857142,0.4742857142857142,0.5199999999999996,0.4742857142857142,0.4742857142857142,0.5199999999999996,0.5199999999999996,0.5199999999999996,0.42857142857142794,0.4742857142857142,0.4742857142857142,0.4742857142857142,0.4742857142857142,0.42857142857142794,0.4742857142857142,0.4742857142857142,0.4742857142857142,0.5199999999999996,0.4742857142857142,0.5714285714285712,0.6171428571428565,0.8571428571428568,0.5199999999999996,0.4742857142857142,0.5714285714285712,0.5199999999999996,0.4742857142857142,0.4742857142857142,0.4742857142857142,0.5199999999999996,0.4742857142857142,0.42857142857142794,0.42857142857142794,0.5199999999999996,0.42857142857142794,0.42857142857142794,0.4742857142857142,0.4742857142857142,0.42857142857142794,0.5714285714285712,0.42857142857142794,0.42857142857142794,0.42857142857142794,0.4742857142857142,0.4742857142857142,0.3771428571428572,0.3771428571428572,0.4742857142857142,0.42857142857142794,0.4742857142857142,0.3771428571428572,0.42857142857142794,0.33142857142857096,0.3771428571428572,0.42857142857142794,0.42857142857142794,0.42857142857142794,0.3771428571428572,0.33142857142857096,0.42857142857142794,0.3771428571428572,0.3771428571428572,0.3771428571428572,0.33142857142857096,0.42857142857142794,0.3771428571428572,0.42857142857142794,0.3771428571428572,0.33142857142857096,0.1885714285714286,0.33142857142857096,0.2857142857142856,0.2857142857142856,0.234285714285714,0.234285714285714,0.2857142857142856,0.2857142857142856,0.2857142857142856,0.234285714285714,0.1885714285714286,0.0],\"type\":\"box\",\"xaxis\":\"x6\",\"yaxis\":\"y6\"}],                        {\"template\":{\"data\":{\"histogram2dcontour\":[{\"type\":\"histogram2dcontour\",\"colorbar\":{\"outlinewidth\":0,\"ticks\":\"\"},\"colorscale\":[[0.0,\"#0d0887\"],[0.1111111111111111,\"#46039f\"],[0.2222222222222222,\"#7201a8\"],[0.3333333333333333,\"#9c179e\"],[0.4444444444444444,\"#bd3786\"],[0.5555555555555556,\"#d8576b\"],[0.6666666666666666,\"#ed7953\"],[0.7777777777777778,\"#fb9f3a\"],[0.8888888888888888,\"#fdca26\"],[1.0,\"#f0f921\"]]}],\"choropleth\":[{\"type\":\"choropleth\",\"colorbar\":{\"outlinewidth\":0,\"ticks\":\"\"}}],\"histogram2d\":[{\"type\":\"histogram2d\",\"colorbar\":{\"outlinewidth\":0,\"ticks\":\"\"},\"colorscale\":[[0.0,\"#0d0887\"],[0.1111111111111111,\"#46039f\"],[0.2222222222222222,\"#7201a8\"],[0.3333333333333333,\"#9c179e\"],[0.4444444444444444,\"#bd3786\"],[0.5555555555555556,\"#d8576b\"],[0.6666666666666666,\"#ed7953\"],[0.7777777777777778,\"#fb9f3a\"],[0.8888888888888888,\"#fdca26\"],[1.0,\"#f0f921\"]]}],\"heatmap\":[{\"type\":\"heatmap\",\"colorbar\":{\"outlinewidth\":0,\"ticks\":\"\"},\"colorscale\":[[0.0,\"#0d0887\"],[0.1111111111111111,\"#46039f\"],[0.2222222222222222,\"#7201a8\"],[0.3333333333333333,\"#9c179e\"],[0.4444444444444444,\"#bd3786\"],[0.5555555555555556,\"#d8576b\"],[0.6666666666666666,\"#ed7953\"],[0.7777777777777778,\"#fb9f3a\"],[0.8888888888888888,\"#fdca26\"],[1.0,\"#f0f921\"]]}],\"heatmapgl\":[{\"type\":\"heatmapgl\",\"colorbar\":{\"outlinewidth\":0,\"ticks\":\"\"},\"colorscale\":[[0.0,\"#0d0887\"],[0.1111111111111111,\"#46039f\"],[0.2222222222222222,\"#7201a8\"],[0.3333333333333333,\"#9c179e\"],[0.4444444444444444,\"#bd3786\"],[0.5555555555555556,\"#d8576b\"],[0.6666666666666666,\"#ed7953\"],[0.7777777777777778,\"#fb9f3a\"],[0.8888888888888888,\"#fdca26\"],[1.0,\"#f0f921\"]]}],\"contourcarpet\":[{\"type\":\"contourcarpet\",\"colorbar\":{\"outlinewidth\":0,\"ticks\":\"\"}}],\"contour\":[{\"type\":\"contour\",\"colorbar\":{\"outlinewidth\":0,\"ticks\":\"\"},\"colorscale\":[[0.0,\"#0d0887\"],[0.1111111111111111,\"#46039f\"],[0.2222222222222222,\"#7201a8\"],[0.3333333333333333,\"#9c179e\"],[0.4444444444444444,\"#bd3786\"],[0.5555555555555556,\"#d8576b\"],[0.6666666666666666,\"#ed7953\"],[0.7777777777777778,\"#fb9f3a\"],[0.8888888888888888,\"#fdca26\"],[1.0,\"#f0f921\"]]}],\"surface\":[{\"type\":\"surface\",\"colorbar\":{\"outlinewidth\":0,\"ticks\":\"\"},\"colorscale\":[[0.0,\"#0d0887\"],[0.1111111111111111,\"#46039f\"],[0.2222222222222222,\"#7201a8\"],[0.3333333333333333,\"#9c179e\"],[0.4444444444444444,\"#bd3786\"],[0.5555555555555556,\"#d8576b\"],[0.6666666666666666,\"#ed7953\"],[0.7777777777777778,\"#fb9f3a\"],[0.8888888888888888,\"#fdca26\"],[1.0,\"#f0f921\"]]}],\"mesh3d\":[{\"type\":\"mesh3d\",\"colorbar\":{\"outlinewidth\":0,\"ticks\":\"\"}}],\"scatter\":[{\"fillpattern\":{\"fillmode\":\"overlay\",\"size\":10,\"solidity\":0.2},\"type\":\"scatter\"}],\"parcoords\":[{\"type\":\"parcoords\",\"line\":{\"colorbar\":{\"outlinewidth\":0,\"ticks\":\"\"}}}],\"scatterpolargl\":[{\"type\":\"scatterpolargl\",\"marker\":{\"colorbar\":{\"outlinewidth\":0,\"ticks\":\"\"}}}],\"bar\":[{\"error_x\":{\"color\":\"#2a3f5f\"},\"error_y\":{\"color\":\"#2a3f5f\"},\"marker\":{\"line\":{\"color\":\"#E5ECF6\",\"width\":0.5},\"pattern\":{\"fillmode\":\"overlay\",\"size\":10,\"solidity\":0.2}},\"type\":\"bar\"}],\"scattergeo\":[{\"type\":\"scattergeo\",\"marker\":{\"colorbar\":{\"outlinewidth\":0,\"ticks\":\"\"}}}],\"scatterpolar\":[{\"type\":\"scatterpolar\",\"marker\":{\"colorbar\":{\"outlinewidth\":0,\"ticks\":\"\"}}}],\"histogram\":[{\"marker\":{\"pattern\":{\"fillmode\":\"overlay\",\"size\":10,\"solidity\":0.2}},\"type\":\"histogram\"}],\"scattergl\":[{\"type\":\"scattergl\",\"marker\":{\"colorbar\":{\"outlinewidth\":0,\"ticks\":\"\"}}}],\"scatter3d\":[{\"type\":\"scatter3d\",\"line\":{\"colorbar\":{\"outlinewidth\":0,\"ticks\":\"\"}},\"marker\":{\"colorbar\":{\"outlinewidth\":0,\"ticks\":\"\"}}}],\"scattermapbox\":[{\"type\":\"scattermapbox\",\"marker\":{\"colorbar\":{\"outlinewidth\":0,\"ticks\":\"\"}}}],\"scatterternary\":[{\"type\":\"scatterternary\",\"marker\":{\"colorbar\":{\"outlinewidth\":0,\"ticks\":\"\"}}}],\"scattercarpet\":[{\"type\":\"scattercarpet\",\"marker\":{\"colorbar\":{\"outlinewidth\":0,\"ticks\":\"\"}}}],\"carpet\":[{\"aaxis\":{\"endlinecolor\":\"#2a3f5f\",\"gridcolor\":\"white\",\"linecolor\":\"white\",\"minorgridcolor\":\"white\",\"startlinecolor\":\"#2a3f5f\"},\"baxis\":{\"endlinecolor\":\"#2a3f5f\",\"gridcolor\":\"white\",\"linecolor\":\"white\",\"minorgridcolor\":\"white\",\"startlinecolor\":\"#2a3f5f\"},\"type\":\"carpet\"}],\"table\":[{\"cells\":{\"fill\":{\"color\":\"#EBF0F8\"},\"line\":{\"color\":\"white\"}},\"header\":{\"fill\":{\"color\":\"#C8D4E3\"},\"line\":{\"color\":\"white\"}},\"type\":\"table\"}],\"barpolar\":[{\"marker\":{\"line\":{\"color\":\"#E5ECF6\",\"width\":0.5},\"pattern\":{\"fillmode\":\"overlay\",\"size\":10,\"solidity\":0.2}},\"type\":\"barpolar\"}],\"pie\":[{\"automargin\":true,\"type\":\"pie\"}]},\"layout\":{\"autotypenumbers\":\"strict\",\"colorway\":[\"#636efa\",\"#EF553B\",\"#00cc96\",\"#ab63fa\",\"#FFA15A\",\"#19d3f3\",\"#FF6692\",\"#B6E880\",\"#FF97FF\",\"#FECB52\"],\"font\":{\"color\":\"#2a3f5f\"},\"hovermode\":\"closest\",\"hoverlabel\":{\"align\":\"left\"},\"paper_bgcolor\":\"white\",\"plot_bgcolor\":\"#E5ECF6\",\"polar\":{\"bgcolor\":\"#E5ECF6\",\"angularaxis\":{\"gridcolor\":\"white\",\"linecolor\":\"white\",\"ticks\":\"\"},\"radialaxis\":{\"gridcolor\":\"white\",\"linecolor\":\"white\",\"ticks\":\"\"}},\"ternary\":{\"bgcolor\":\"#E5ECF6\",\"aaxis\":{\"gridcolor\":\"white\",\"linecolor\":\"white\",\"ticks\":\"\"},\"baxis\":{\"gridcolor\":\"white\",\"linecolor\":\"white\",\"ticks\":\"\"},\"caxis\":{\"gridcolor\":\"white\",\"linecolor\":\"white\",\"ticks\":\"\"}},\"coloraxis\":{\"colorbar\":{\"outlinewidth\":0,\"ticks\":\"\"}},\"colorscale\":{\"sequential\":[[0.0,\"#0d0887\"],[0.1111111111111111,\"#46039f\"],[0.2222222222222222,\"#7201a8\"],[0.3333333333333333,\"#9c179e\"],[0.4444444444444444,\"#bd3786\"],[0.5555555555555556,\"#d8576b\"],[0.6666666666666666,\"#ed7953\"],[0.7777777777777778,\"#fb9f3a\"],[0.8888888888888888,\"#fdca26\"],[1.0,\"#f0f921\"]],\"sequentialminus\":[[0.0,\"#0d0887\"],[0.1111111111111111,\"#46039f\"],[0.2222222222222222,\"#7201a8\"],[0.3333333333333333,\"#9c179e\"],[0.4444444444444444,\"#bd3786\"],[0.5555555555555556,\"#d8576b\"],[0.6666666666666666,\"#ed7953\"],[0.7777777777777778,\"#fb9f3a\"],[0.8888888888888888,\"#fdca26\"],[1.0,\"#f0f921\"]],\"diverging\":[[0,\"#8e0152\"],[0.1,\"#c51b7d\"],[0.2,\"#de77ae\"],[0.3,\"#f1b6da\"],[0.4,\"#fde0ef\"],[0.5,\"#f7f7f7\"],[0.6,\"#e6f5d0\"],[0.7,\"#b8e186\"],[0.8,\"#7fbc41\"],[0.9,\"#4d9221\"],[1,\"#276419\"]]},\"xaxis\":{\"gridcolor\":\"white\",\"linecolor\":\"white\",\"ticks\":\"\",\"title\":{\"standoff\":15},\"zerolinecolor\":\"white\",\"automargin\":true,\"zerolinewidth\":2},\"yaxis\":{\"gridcolor\":\"white\",\"linecolor\":\"white\",\"ticks\":\"\",\"title\":{\"standoff\":15},\"zerolinecolor\":\"white\",\"automargin\":true,\"zerolinewidth\":2},\"scene\":{\"xaxis\":{\"backgroundcolor\":\"#E5ECF6\",\"gridcolor\":\"white\",\"linecolor\":\"white\",\"showbackground\":true,\"ticks\":\"\",\"zerolinecolor\":\"white\",\"gridwidth\":2},\"yaxis\":{\"backgroundcolor\":\"#E5ECF6\",\"gridcolor\":\"white\",\"linecolor\":\"white\",\"showbackground\":true,\"ticks\":\"\",\"zerolinecolor\":\"white\",\"gridwidth\":2},\"zaxis\":{\"backgroundcolor\":\"#E5ECF6\",\"gridcolor\":\"white\",\"linecolor\":\"white\",\"showbackground\":true,\"ticks\":\"\",\"zerolinecolor\":\"white\",\"gridwidth\":2}},\"shapedefaults\":{\"line\":{\"color\":\"#2a3f5f\"}},\"annotationdefaults\":{\"arrowcolor\":\"#2a3f5f\",\"arrowhead\":0,\"arrowwidth\":1},\"geo\":{\"bgcolor\":\"white\",\"landcolor\":\"#E5ECF6\",\"subunitcolor\":\"white\",\"showland\":true,\"showlakes\":true,\"lakecolor\":\"white\"},\"title\":{\"x\":0.05},\"mapbox\":{\"style\":\"light\"}}},\"xaxis\":{\"anchor\":\"y\",\"domain\":[0.0,1.0]},\"yaxis\":{\"anchor\":\"x\",\"domain\":[0.875,1.0]},\"xaxis2\":{\"anchor\":\"y2\",\"domain\":[0.0,1.0]},\"yaxis2\":{\"anchor\":\"x2\",\"domain\":[0.7,0.825]},\"xaxis3\":{\"anchor\":\"y3\",\"domain\":[0.0,1.0]},\"yaxis3\":{\"anchor\":\"x3\",\"domain\":[0.525,0.65]},\"xaxis4\":{\"anchor\":\"y4\",\"domain\":[0.0,1.0]},\"yaxis4\":{\"anchor\":\"x4\",\"domain\":[0.35,0.475]},\"xaxis5\":{\"anchor\":\"y5\",\"domain\":[0.0,1.0]},\"yaxis5\":{\"anchor\":\"x5\",\"domain\":[0.175,0.3]},\"xaxis6\":{\"anchor\":\"y6\",\"domain\":[0.0,1.0]},\"yaxis6\":{\"anchor\":\"x6\",\"domain\":[0.0,0.125]},\"title\":{\"text\":\"Distribution of Coffee Quality Scores\"},\"height\":1200,\"width\":800},                        {\"responsive\": true}                    ).then(function(){\n",
       "                            \n",
       "var gd = document.getElementById('640a0e1d-e927-49a2-b7f5-8728a3f07d29');\n",
       "var x = new MutationObserver(function (mutations, observer) {{\n",
       "        var display = window.getComputedStyle(gd).display;\n",
       "        if (!display || display === 'none') {{\n",
       "            console.log([gd, 'removed!']);\n",
       "            Plotly.purge(gd);\n",
       "            observer.disconnect();\n",
       "        }}\n",
       "}});\n",
       "\n",
       "// Listen for the removal of the full notebook cells\n",
       "var notebookContainer = gd.closest('#notebook-container');\n",
       "if (notebookContainer) {{\n",
       "    x.observe(notebookContainer, {childList: true});\n",
       "}}\n",
       "\n",
       "// Listen for the clearing of the current output cell\n",
       "var outputEl = gd.closest('.output');\n",
       "if (outputEl) {{\n",
       "    x.observe(outputEl, {childList: true});\n",
       "}}\n",
       "\n",
       "                        })                };                });            </script>        </div>"
      ]
     },
     "metadata": {},
     "output_type": "display_data"
    }
   ],
   "source": [
    "# List of coffee quality scores\n",
    "quality_scores = ['Aroma', 'Flavor', 'Aftertaste', 'Acidity', 'Body', 'Balance']\n",
    "\n",
    "# Create a subplot for each attribute\n",
    "fig = make_subplots(rows=len(quality_scores), cols=1)\n",
    "\n",
    "# Create box plots in the subplot for each attribute\n",
    "for i, attribute in enumerate(coffee_flavors):\n",
    "    fig.add_trace(go.Box(y=df[attribute], name=attribute, boxpoints='all'), row=i+1, col=1)\n",
    "\n",
    "fig.update_layout(height=200*len(coffee_flavors), width=800, title_text=\"Distribution of Coffee Quality Scores\")\n",
    "fig.show()\n"
   ]
  },
  {
   "cell_type": "markdown",
   "metadata": {},
   "source": [
    "Next, we use a choropleth map to visualize the number of coffee beans by country of origin, allowing us to see which countries produce more coffee beans."
   ]
  },
  {
   "cell_type": "code",
   "execution_count": 20,
   "metadata": {},
   "outputs": [
    {
     "data": {
      "application/vnd.plotly.v1+json": {
       "config": {
        "plotlyServerURL": "https://plot.ly"
       },
       "data": [
        {
         "coloraxis": "coloraxis",
         "geo": "geo",
         "hovertemplate": "<b>%{hovertext}</b><br><br>Country of Origin=%{location}<br>Number of Coffee Beans=%{z}<extra></extra>",
         "hovertext": [
          "Brazil",
          "Colombia",
          "Costa Rica",
          "El Salvador",
          "Ethiopia",
          "Guatemala",
          "Honduras",
          "Indonesia",
          "Kenya",
          "Laos",
          "Madagascar",
          "Mexico",
          "Myanmar",
          "Nicaragua",
          "Panama",
          "Peru",
          "Taiwan",
          "Tanzania, United Republic Of",
          "Thailand",
          "Uganda",
          "United States (Hawaii)",
          "Vietnam"
         ],
         "locationmode": "country names",
         "locations": [
          "Brazil",
          "Colombia",
          "Costa Rica",
          "El Salvador",
          "Ethiopia",
          "Guatemala",
          "Honduras",
          "Indonesia",
          "Kenya",
          "Laos",
          "Madagascar",
          "Mexico",
          "Myanmar",
          "Nicaragua",
          "Panama",
          "Peru",
          "Taiwan",
          "Tanzania, United Republic Of",
          "Thailand",
          "Uganda",
          "United States (Hawaii)",
          "Vietnam"
         ],
         "name": "",
         "type": "choropleth",
         "z": [
          10,
          19,
          8,
          7,
          11,
          21,
          13,
          3,
          2,
          3,
          1,
          4,
          1,
          7,
          2,
          4,
          61,
          6,
          12,
          3,
          5,
          4
         ]
        }
       ],
       "layout": {
        "coloraxis": {
         "colorbar": {
          "title": {
           "text": "Number of Coffee Beans"
          }
         },
         "colorscale": [
          [
           0,
           "rgb(0, 128, 128)"
          ],
          [
           0.16666666666666666,
           "rgb(112, 164, 148)"
          ],
          [
           0.3333333333333333,
           "rgb(180, 200, 168)"
          ],
          [
           0.5,
           "rgb(246, 237, 189)"
          ],
          [
           0.6666666666666666,
           "rgb(237, 187, 138)"
          ],
          [
           0.8333333333333334,
           "rgb(222, 138, 90)"
          ],
          [
           1,
           "rgb(202, 86, 44)"
          ]
         ]
        },
        "geo": {
         "center": {},
         "domain": {
          "x": [
           0,
           1
          ],
          "y": [
           0,
           1
          ]
         }
        },
        "legend": {
         "tracegroupgap": 0
        },
        "template": {
         "data": {
          "bar": [
           {
            "error_x": {
             "color": "#2a3f5f"
            },
            "error_y": {
             "color": "#2a3f5f"
            },
            "marker": {
             "line": {
              "color": "#E5ECF6",
              "width": 0.5
             },
             "pattern": {
              "fillmode": "overlay",
              "size": 10,
              "solidity": 0.2
             }
            },
            "type": "bar"
           }
          ],
          "barpolar": [
           {
            "marker": {
             "line": {
              "color": "#E5ECF6",
              "width": 0.5
             },
             "pattern": {
              "fillmode": "overlay",
              "size": 10,
              "solidity": 0.2
             }
            },
            "type": "barpolar"
           }
          ],
          "carpet": [
           {
            "aaxis": {
             "endlinecolor": "#2a3f5f",
             "gridcolor": "white",
             "linecolor": "white",
             "minorgridcolor": "white",
             "startlinecolor": "#2a3f5f"
            },
            "baxis": {
             "endlinecolor": "#2a3f5f",
             "gridcolor": "white",
             "linecolor": "white",
             "minorgridcolor": "white",
             "startlinecolor": "#2a3f5f"
            },
            "type": "carpet"
           }
          ],
          "choropleth": [
           {
            "colorbar": {
             "outlinewidth": 0,
             "ticks": ""
            },
            "type": "choropleth"
           }
          ],
          "contour": [
           {
            "colorbar": {
             "outlinewidth": 0,
             "ticks": ""
            },
            "colorscale": [
             [
              0,
              "#0d0887"
             ],
             [
              0.1111111111111111,
              "#46039f"
             ],
             [
              0.2222222222222222,
              "#7201a8"
             ],
             [
              0.3333333333333333,
              "#9c179e"
             ],
             [
              0.4444444444444444,
              "#bd3786"
             ],
             [
              0.5555555555555556,
              "#d8576b"
             ],
             [
              0.6666666666666666,
              "#ed7953"
             ],
             [
              0.7777777777777778,
              "#fb9f3a"
             ],
             [
              0.8888888888888888,
              "#fdca26"
             ],
             [
              1,
              "#f0f921"
             ]
            ],
            "type": "contour"
           }
          ],
          "contourcarpet": [
           {
            "colorbar": {
             "outlinewidth": 0,
             "ticks": ""
            },
            "type": "contourcarpet"
           }
          ],
          "heatmap": [
           {
            "colorbar": {
             "outlinewidth": 0,
             "ticks": ""
            },
            "colorscale": [
             [
              0,
              "#0d0887"
             ],
             [
              0.1111111111111111,
              "#46039f"
             ],
             [
              0.2222222222222222,
              "#7201a8"
             ],
             [
              0.3333333333333333,
              "#9c179e"
             ],
             [
              0.4444444444444444,
              "#bd3786"
             ],
             [
              0.5555555555555556,
              "#d8576b"
             ],
             [
              0.6666666666666666,
              "#ed7953"
             ],
             [
              0.7777777777777778,
              "#fb9f3a"
             ],
             [
              0.8888888888888888,
              "#fdca26"
             ],
             [
              1,
              "#f0f921"
             ]
            ],
            "type": "heatmap"
           }
          ],
          "heatmapgl": [
           {
            "colorbar": {
             "outlinewidth": 0,
             "ticks": ""
            },
            "colorscale": [
             [
              0,
              "#0d0887"
             ],
             [
              0.1111111111111111,
              "#46039f"
             ],
             [
              0.2222222222222222,
              "#7201a8"
             ],
             [
              0.3333333333333333,
              "#9c179e"
             ],
             [
              0.4444444444444444,
              "#bd3786"
             ],
             [
              0.5555555555555556,
              "#d8576b"
             ],
             [
              0.6666666666666666,
              "#ed7953"
             ],
             [
              0.7777777777777778,
              "#fb9f3a"
             ],
             [
              0.8888888888888888,
              "#fdca26"
             ],
             [
              1,
              "#f0f921"
             ]
            ],
            "type": "heatmapgl"
           }
          ],
          "histogram": [
           {
            "marker": {
             "pattern": {
              "fillmode": "overlay",
              "size": 10,
              "solidity": 0.2
             }
            },
            "type": "histogram"
           }
          ],
          "histogram2d": [
           {
            "colorbar": {
             "outlinewidth": 0,
             "ticks": ""
            },
            "colorscale": [
             [
              0,
              "#0d0887"
             ],
             [
              0.1111111111111111,
              "#46039f"
             ],
             [
              0.2222222222222222,
              "#7201a8"
             ],
             [
              0.3333333333333333,
              "#9c179e"
             ],
             [
              0.4444444444444444,
              "#bd3786"
             ],
             [
              0.5555555555555556,
              "#d8576b"
             ],
             [
              0.6666666666666666,
              "#ed7953"
             ],
             [
              0.7777777777777778,
              "#fb9f3a"
             ],
             [
              0.8888888888888888,
              "#fdca26"
             ],
             [
              1,
              "#f0f921"
             ]
            ],
            "type": "histogram2d"
           }
          ],
          "histogram2dcontour": [
           {
            "colorbar": {
             "outlinewidth": 0,
             "ticks": ""
            },
            "colorscale": [
             [
              0,
              "#0d0887"
             ],
             [
              0.1111111111111111,
              "#46039f"
             ],
             [
              0.2222222222222222,
              "#7201a8"
             ],
             [
              0.3333333333333333,
              "#9c179e"
             ],
             [
              0.4444444444444444,
              "#bd3786"
             ],
             [
              0.5555555555555556,
              "#d8576b"
             ],
             [
              0.6666666666666666,
              "#ed7953"
             ],
             [
              0.7777777777777778,
              "#fb9f3a"
             ],
             [
              0.8888888888888888,
              "#fdca26"
             ],
             [
              1,
              "#f0f921"
             ]
            ],
            "type": "histogram2dcontour"
           }
          ],
          "mesh3d": [
           {
            "colorbar": {
             "outlinewidth": 0,
             "ticks": ""
            },
            "type": "mesh3d"
           }
          ],
          "parcoords": [
           {
            "line": {
             "colorbar": {
              "outlinewidth": 0,
              "ticks": ""
             }
            },
            "type": "parcoords"
           }
          ],
          "pie": [
           {
            "automargin": true,
            "type": "pie"
           }
          ],
          "scatter": [
           {
            "fillpattern": {
             "fillmode": "overlay",
             "size": 10,
             "solidity": 0.2
            },
            "type": "scatter"
           }
          ],
          "scatter3d": [
           {
            "line": {
             "colorbar": {
              "outlinewidth": 0,
              "ticks": ""
             }
            },
            "marker": {
             "colorbar": {
              "outlinewidth": 0,
              "ticks": ""
             }
            },
            "type": "scatter3d"
           }
          ],
          "scattercarpet": [
           {
            "marker": {
             "colorbar": {
              "outlinewidth": 0,
              "ticks": ""
             }
            },
            "type": "scattercarpet"
           }
          ],
          "scattergeo": [
           {
            "marker": {
             "colorbar": {
              "outlinewidth": 0,
              "ticks": ""
             }
            },
            "type": "scattergeo"
           }
          ],
          "scattergl": [
           {
            "marker": {
             "colorbar": {
              "outlinewidth": 0,
              "ticks": ""
             }
            },
            "type": "scattergl"
           }
          ],
          "scattermapbox": [
           {
            "marker": {
             "colorbar": {
              "outlinewidth": 0,
              "ticks": ""
             }
            },
            "type": "scattermapbox"
           }
          ],
          "scatterpolar": [
           {
            "marker": {
             "colorbar": {
              "outlinewidth": 0,
              "ticks": ""
             }
            },
            "type": "scatterpolar"
           }
          ],
          "scatterpolargl": [
           {
            "marker": {
             "colorbar": {
              "outlinewidth": 0,
              "ticks": ""
             }
            },
            "type": "scatterpolargl"
           }
          ],
          "scatterternary": [
           {
            "marker": {
             "colorbar": {
              "outlinewidth": 0,
              "ticks": ""
             }
            },
            "type": "scatterternary"
           }
          ],
          "surface": [
           {
            "colorbar": {
             "outlinewidth": 0,
             "ticks": ""
            },
            "colorscale": [
             [
              0,
              "#0d0887"
             ],
             [
              0.1111111111111111,
              "#46039f"
             ],
             [
              0.2222222222222222,
              "#7201a8"
             ],
             [
              0.3333333333333333,
              "#9c179e"
             ],
             [
              0.4444444444444444,
              "#bd3786"
             ],
             [
              0.5555555555555556,
              "#d8576b"
             ],
             [
              0.6666666666666666,
              "#ed7953"
             ],
             [
              0.7777777777777778,
              "#fb9f3a"
             ],
             [
              0.8888888888888888,
              "#fdca26"
             ],
             [
              1,
              "#f0f921"
             ]
            ],
            "type": "surface"
           }
          ],
          "table": [
           {
            "cells": {
             "fill": {
              "color": "#EBF0F8"
             },
             "line": {
              "color": "white"
             }
            },
            "header": {
             "fill": {
              "color": "#C8D4E3"
             },
             "line": {
              "color": "white"
             }
            },
            "type": "table"
           }
          ]
         },
         "layout": {
          "annotationdefaults": {
           "arrowcolor": "#2a3f5f",
           "arrowhead": 0,
           "arrowwidth": 1
          },
          "autotypenumbers": "strict",
          "coloraxis": {
           "colorbar": {
            "outlinewidth": 0,
            "ticks": ""
           }
          },
          "colorscale": {
           "diverging": [
            [
             0,
             "#8e0152"
            ],
            [
             0.1,
             "#c51b7d"
            ],
            [
             0.2,
             "#de77ae"
            ],
            [
             0.3,
             "#f1b6da"
            ],
            [
             0.4,
             "#fde0ef"
            ],
            [
             0.5,
             "#f7f7f7"
            ],
            [
             0.6,
             "#e6f5d0"
            ],
            [
             0.7,
             "#b8e186"
            ],
            [
             0.8,
             "#7fbc41"
            ],
            [
             0.9,
             "#4d9221"
            ],
            [
             1,
             "#276419"
            ]
           ],
           "sequential": [
            [
             0,
             "#0d0887"
            ],
            [
             0.1111111111111111,
             "#46039f"
            ],
            [
             0.2222222222222222,
             "#7201a8"
            ],
            [
             0.3333333333333333,
             "#9c179e"
            ],
            [
             0.4444444444444444,
             "#bd3786"
            ],
            [
             0.5555555555555556,
             "#d8576b"
            ],
            [
             0.6666666666666666,
             "#ed7953"
            ],
            [
             0.7777777777777778,
             "#fb9f3a"
            ],
            [
             0.8888888888888888,
             "#fdca26"
            ],
            [
             1,
             "#f0f921"
            ]
           ],
           "sequentialminus": [
            [
             0,
             "#0d0887"
            ],
            [
             0.1111111111111111,
             "#46039f"
            ],
            [
             0.2222222222222222,
             "#7201a8"
            ],
            [
             0.3333333333333333,
             "#9c179e"
            ],
            [
             0.4444444444444444,
             "#bd3786"
            ],
            [
             0.5555555555555556,
             "#d8576b"
            ],
            [
             0.6666666666666666,
             "#ed7953"
            ],
            [
             0.7777777777777778,
             "#fb9f3a"
            ],
            [
             0.8888888888888888,
             "#fdca26"
            ],
            [
             1,
             "#f0f921"
            ]
           ]
          },
          "colorway": [
           "#636efa",
           "#EF553B",
           "#00cc96",
           "#ab63fa",
           "#FFA15A",
           "#19d3f3",
           "#FF6692",
           "#B6E880",
           "#FF97FF",
           "#FECB52"
          ],
          "font": {
           "color": "#2a3f5f"
          },
          "geo": {
           "bgcolor": "white",
           "lakecolor": "white",
           "landcolor": "#E5ECF6",
           "showlakes": true,
           "showland": true,
           "subunitcolor": "white"
          },
          "hoverlabel": {
           "align": "left"
          },
          "hovermode": "closest",
          "mapbox": {
           "style": "light"
          },
          "paper_bgcolor": "white",
          "plot_bgcolor": "#E5ECF6",
          "polar": {
           "angularaxis": {
            "gridcolor": "white",
            "linecolor": "white",
            "ticks": ""
           },
           "bgcolor": "#E5ECF6",
           "radialaxis": {
            "gridcolor": "white",
            "linecolor": "white",
            "ticks": ""
           }
          },
          "scene": {
           "xaxis": {
            "backgroundcolor": "#E5ECF6",
            "gridcolor": "white",
            "gridwidth": 2,
            "linecolor": "white",
            "showbackground": true,
            "ticks": "",
            "zerolinecolor": "white"
           },
           "yaxis": {
            "backgroundcolor": "#E5ECF6",
            "gridcolor": "white",
            "gridwidth": 2,
            "linecolor": "white",
            "showbackground": true,
            "ticks": "",
            "zerolinecolor": "white"
           },
           "zaxis": {
            "backgroundcolor": "#E5ECF6",
            "gridcolor": "white",
            "gridwidth": 2,
            "linecolor": "white",
            "showbackground": true,
            "ticks": "",
            "zerolinecolor": "white"
           }
          },
          "shapedefaults": {
           "line": {
            "color": "#2a3f5f"
           }
          },
          "ternary": {
           "aaxis": {
            "gridcolor": "white",
            "linecolor": "white",
            "ticks": ""
           },
           "baxis": {
            "gridcolor": "white",
            "linecolor": "white",
            "ticks": ""
           },
           "bgcolor": "#E5ECF6",
           "caxis": {
            "gridcolor": "white",
            "linecolor": "white",
            "ticks": ""
           }
          },
          "title": {
           "x": 0.05
          },
          "xaxis": {
           "automargin": true,
           "gridcolor": "white",
           "linecolor": "white",
           "ticks": "",
           "title": {
            "standoff": 15
           },
           "zerolinecolor": "white",
           "zerolinewidth": 2
          },
          "yaxis": {
           "automargin": true,
           "gridcolor": "white",
           "linecolor": "white",
           "ticks": "",
           "title": {
            "standoff": 15
           },
           "zerolinecolor": "white",
           "zerolinewidth": 2
          }
         }
        },
        "title": {
         "text": "Number of Coffee Beans by Country"
        }
       }
      },
      "text/html": [
       "<div>                            <div id=\"596d4d90-f257-4856-b1fe-1f952a98a02c\" class=\"plotly-graph-div\" style=\"height:525px; width:100%;\"></div>            <script type=\"text/javascript\">                require([\"plotly\"], function(Plotly) {                    window.PLOTLYENV=window.PLOTLYENV || {};                                    if (document.getElementById(\"596d4d90-f257-4856-b1fe-1f952a98a02c\")) {                    Plotly.newPlot(                        \"596d4d90-f257-4856-b1fe-1f952a98a02c\",                        [{\"coloraxis\":\"coloraxis\",\"geo\":\"geo\",\"hovertemplate\":\"<b>%{hovertext}</b><br><br>Country of Origin=%{location}<br>Number of Coffee Beans=%{z}<extra></extra>\",\"hovertext\":[\"Brazil\",\"Colombia\",\"Costa Rica\",\"El Salvador\",\"Ethiopia\",\"Guatemala\",\"Honduras\",\"Indonesia\",\"Kenya\",\"Laos\",\"Madagascar\",\"Mexico\",\"Myanmar\",\"Nicaragua\",\"Panama\",\"Peru\",\"Taiwan\",\"Tanzania, United Republic Of\",\"Thailand\",\"Uganda\",\"United States (Hawaii)\",\"Vietnam\"],\"locationmode\":\"country names\",\"locations\":[\"Brazil\",\"Colombia\",\"Costa Rica\",\"El Salvador\",\"Ethiopia\",\"Guatemala\",\"Honduras\",\"Indonesia\",\"Kenya\",\"Laos\",\"Madagascar\",\"Mexico\",\"Myanmar\",\"Nicaragua\",\"Panama\",\"Peru\",\"Taiwan\",\"Tanzania, United Republic Of\",\"Thailand\",\"Uganda\",\"United States (Hawaii)\",\"Vietnam\"],\"name\":\"\",\"z\":[10,19,8,7,11,21,13,3,2,3,1,4,1,7,2,4,61,6,12,3,5,4],\"type\":\"choropleth\"}],                        {\"template\":{\"data\":{\"histogram2dcontour\":[{\"type\":\"histogram2dcontour\",\"colorbar\":{\"outlinewidth\":0,\"ticks\":\"\"},\"colorscale\":[[0.0,\"#0d0887\"],[0.1111111111111111,\"#46039f\"],[0.2222222222222222,\"#7201a8\"],[0.3333333333333333,\"#9c179e\"],[0.4444444444444444,\"#bd3786\"],[0.5555555555555556,\"#d8576b\"],[0.6666666666666666,\"#ed7953\"],[0.7777777777777778,\"#fb9f3a\"],[0.8888888888888888,\"#fdca26\"],[1.0,\"#f0f921\"]]}],\"choropleth\":[{\"type\":\"choropleth\",\"colorbar\":{\"outlinewidth\":0,\"ticks\":\"\"}}],\"histogram2d\":[{\"type\":\"histogram2d\",\"colorbar\":{\"outlinewidth\":0,\"ticks\":\"\"},\"colorscale\":[[0.0,\"#0d0887\"],[0.1111111111111111,\"#46039f\"],[0.2222222222222222,\"#7201a8\"],[0.3333333333333333,\"#9c179e\"],[0.4444444444444444,\"#bd3786\"],[0.5555555555555556,\"#d8576b\"],[0.6666666666666666,\"#ed7953\"],[0.7777777777777778,\"#fb9f3a\"],[0.8888888888888888,\"#fdca26\"],[1.0,\"#f0f921\"]]}],\"heatmap\":[{\"type\":\"heatmap\",\"colorbar\":{\"outlinewidth\":0,\"ticks\":\"\"},\"colorscale\":[[0.0,\"#0d0887\"],[0.1111111111111111,\"#46039f\"],[0.2222222222222222,\"#7201a8\"],[0.3333333333333333,\"#9c179e\"],[0.4444444444444444,\"#bd3786\"],[0.5555555555555556,\"#d8576b\"],[0.6666666666666666,\"#ed7953\"],[0.7777777777777778,\"#fb9f3a\"],[0.8888888888888888,\"#fdca26\"],[1.0,\"#f0f921\"]]}],\"heatmapgl\":[{\"type\":\"heatmapgl\",\"colorbar\":{\"outlinewidth\":0,\"ticks\":\"\"},\"colorscale\":[[0.0,\"#0d0887\"],[0.1111111111111111,\"#46039f\"],[0.2222222222222222,\"#7201a8\"],[0.3333333333333333,\"#9c179e\"],[0.4444444444444444,\"#bd3786\"],[0.5555555555555556,\"#d8576b\"],[0.6666666666666666,\"#ed7953\"],[0.7777777777777778,\"#fb9f3a\"],[0.8888888888888888,\"#fdca26\"],[1.0,\"#f0f921\"]]}],\"contourcarpet\":[{\"type\":\"contourcarpet\",\"colorbar\":{\"outlinewidth\":0,\"ticks\":\"\"}}],\"contour\":[{\"type\":\"contour\",\"colorbar\":{\"outlinewidth\":0,\"ticks\":\"\"},\"colorscale\":[[0.0,\"#0d0887\"],[0.1111111111111111,\"#46039f\"],[0.2222222222222222,\"#7201a8\"],[0.3333333333333333,\"#9c179e\"],[0.4444444444444444,\"#bd3786\"],[0.5555555555555556,\"#d8576b\"],[0.6666666666666666,\"#ed7953\"],[0.7777777777777778,\"#fb9f3a\"],[0.8888888888888888,\"#fdca26\"],[1.0,\"#f0f921\"]]}],\"surface\":[{\"type\":\"surface\",\"colorbar\":{\"outlinewidth\":0,\"ticks\":\"\"},\"colorscale\":[[0.0,\"#0d0887\"],[0.1111111111111111,\"#46039f\"],[0.2222222222222222,\"#7201a8\"],[0.3333333333333333,\"#9c179e\"],[0.4444444444444444,\"#bd3786\"],[0.5555555555555556,\"#d8576b\"],[0.6666666666666666,\"#ed7953\"],[0.7777777777777778,\"#fb9f3a\"],[0.8888888888888888,\"#fdca26\"],[1.0,\"#f0f921\"]]}],\"mesh3d\":[{\"type\":\"mesh3d\",\"colorbar\":{\"outlinewidth\":0,\"ticks\":\"\"}}],\"scatter\":[{\"fillpattern\":{\"fillmode\":\"overlay\",\"size\":10,\"solidity\":0.2},\"type\":\"scatter\"}],\"parcoords\":[{\"type\":\"parcoords\",\"line\":{\"colorbar\":{\"outlinewidth\":0,\"ticks\":\"\"}}}],\"scatterpolargl\":[{\"type\":\"scatterpolargl\",\"marker\":{\"colorbar\":{\"outlinewidth\":0,\"ticks\":\"\"}}}],\"bar\":[{\"error_x\":{\"color\":\"#2a3f5f\"},\"error_y\":{\"color\":\"#2a3f5f\"},\"marker\":{\"line\":{\"color\":\"#E5ECF6\",\"width\":0.5},\"pattern\":{\"fillmode\":\"overlay\",\"size\":10,\"solidity\":0.2}},\"type\":\"bar\"}],\"scattergeo\":[{\"type\":\"scattergeo\",\"marker\":{\"colorbar\":{\"outlinewidth\":0,\"ticks\":\"\"}}}],\"scatterpolar\":[{\"type\":\"scatterpolar\",\"marker\":{\"colorbar\":{\"outlinewidth\":0,\"ticks\":\"\"}}}],\"histogram\":[{\"marker\":{\"pattern\":{\"fillmode\":\"overlay\",\"size\":10,\"solidity\":0.2}},\"type\":\"histogram\"}],\"scattergl\":[{\"type\":\"scattergl\",\"marker\":{\"colorbar\":{\"outlinewidth\":0,\"ticks\":\"\"}}}],\"scatter3d\":[{\"type\":\"scatter3d\",\"line\":{\"colorbar\":{\"outlinewidth\":0,\"ticks\":\"\"}},\"marker\":{\"colorbar\":{\"outlinewidth\":0,\"ticks\":\"\"}}}],\"scattermapbox\":[{\"type\":\"scattermapbox\",\"marker\":{\"colorbar\":{\"outlinewidth\":0,\"ticks\":\"\"}}}],\"scatterternary\":[{\"type\":\"scatterternary\",\"marker\":{\"colorbar\":{\"outlinewidth\":0,\"ticks\":\"\"}}}],\"scattercarpet\":[{\"type\":\"scattercarpet\",\"marker\":{\"colorbar\":{\"outlinewidth\":0,\"ticks\":\"\"}}}],\"carpet\":[{\"aaxis\":{\"endlinecolor\":\"#2a3f5f\",\"gridcolor\":\"white\",\"linecolor\":\"white\",\"minorgridcolor\":\"white\",\"startlinecolor\":\"#2a3f5f\"},\"baxis\":{\"endlinecolor\":\"#2a3f5f\",\"gridcolor\":\"white\",\"linecolor\":\"white\",\"minorgridcolor\":\"white\",\"startlinecolor\":\"#2a3f5f\"},\"type\":\"carpet\"}],\"table\":[{\"cells\":{\"fill\":{\"color\":\"#EBF0F8\"},\"line\":{\"color\":\"white\"}},\"header\":{\"fill\":{\"color\":\"#C8D4E3\"},\"line\":{\"color\":\"white\"}},\"type\":\"table\"}],\"barpolar\":[{\"marker\":{\"line\":{\"color\":\"#E5ECF6\",\"width\":0.5},\"pattern\":{\"fillmode\":\"overlay\",\"size\":10,\"solidity\":0.2}},\"type\":\"barpolar\"}],\"pie\":[{\"automargin\":true,\"type\":\"pie\"}]},\"layout\":{\"autotypenumbers\":\"strict\",\"colorway\":[\"#636efa\",\"#EF553B\",\"#00cc96\",\"#ab63fa\",\"#FFA15A\",\"#19d3f3\",\"#FF6692\",\"#B6E880\",\"#FF97FF\",\"#FECB52\"],\"font\":{\"color\":\"#2a3f5f\"},\"hovermode\":\"closest\",\"hoverlabel\":{\"align\":\"left\"},\"paper_bgcolor\":\"white\",\"plot_bgcolor\":\"#E5ECF6\",\"polar\":{\"bgcolor\":\"#E5ECF6\",\"angularaxis\":{\"gridcolor\":\"white\",\"linecolor\":\"white\",\"ticks\":\"\"},\"radialaxis\":{\"gridcolor\":\"white\",\"linecolor\":\"white\",\"ticks\":\"\"}},\"ternary\":{\"bgcolor\":\"#E5ECF6\",\"aaxis\":{\"gridcolor\":\"white\",\"linecolor\":\"white\",\"ticks\":\"\"},\"baxis\":{\"gridcolor\":\"white\",\"linecolor\":\"white\",\"ticks\":\"\"},\"caxis\":{\"gridcolor\":\"white\",\"linecolor\":\"white\",\"ticks\":\"\"}},\"coloraxis\":{\"colorbar\":{\"outlinewidth\":0,\"ticks\":\"\"}},\"colorscale\":{\"sequential\":[[0.0,\"#0d0887\"],[0.1111111111111111,\"#46039f\"],[0.2222222222222222,\"#7201a8\"],[0.3333333333333333,\"#9c179e\"],[0.4444444444444444,\"#bd3786\"],[0.5555555555555556,\"#d8576b\"],[0.6666666666666666,\"#ed7953\"],[0.7777777777777778,\"#fb9f3a\"],[0.8888888888888888,\"#fdca26\"],[1.0,\"#f0f921\"]],\"sequentialminus\":[[0.0,\"#0d0887\"],[0.1111111111111111,\"#46039f\"],[0.2222222222222222,\"#7201a8\"],[0.3333333333333333,\"#9c179e\"],[0.4444444444444444,\"#bd3786\"],[0.5555555555555556,\"#d8576b\"],[0.6666666666666666,\"#ed7953\"],[0.7777777777777778,\"#fb9f3a\"],[0.8888888888888888,\"#fdca26\"],[1.0,\"#f0f921\"]],\"diverging\":[[0,\"#8e0152\"],[0.1,\"#c51b7d\"],[0.2,\"#de77ae\"],[0.3,\"#f1b6da\"],[0.4,\"#fde0ef\"],[0.5,\"#f7f7f7\"],[0.6,\"#e6f5d0\"],[0.7,\"#b8e186\"],[0.8,\"#7fbc41\"],[0.9,\"#4d9221\"],[1,\"#276419\"]]},\"xaxis\":{\"gridcolor\":\"white\",\"linecolor\":\"white\",\"ticks\":\"\",\"title\":{\"standoff\":15},\"zerolinecolor\":\"white\",\"automargin\":true,\"zerolinewidth\":2},\"yaxis\":{\"gridcolor\":\"white\",\"linecolor\":\"white\",\"ticks\":\"\",\"title\":{\"standoff\":15},\"zerolinecolor\":\"white\",\"automargin\":true,\"zerolinewidth\":2},\"scene\":{\"xaxis\":{\"backgroundcolor\":\"#E5ECF6\",\"gridcolor\":\"white\",\"linecolor\":\"white\",\"showbackground\":true,\"ticks\":\"\",\"zerolinecolor\":\"white\",\"gridwidth\":2},\"yaxis\":{\"backgroundcolor\":\"#E5ECF6\",\"gridcolor\":\"white\",\"linecolor\":\"white\",\"showbackground\":true,\"ticks\":\"\",\"zerolinecolor\":\"white\",\"gridwidth\":2},\"zaxis\":{\"backgroundcolor\":\"#E5ECF6\",\"gridcolor\":\"white\",\"linecolor\":\"white\",\"showbackground\":true,\"ticks\":\"\",\"zerolinecolor\":\"white\",\"gridwidth\":2}},\"shapedefaults\":{\"line\":{\"color\":\"#2a3f5f\"}},\"annotationdefaults\":{\"arrowcolor\":\"#2a3f5f\",\"arrowhead\":0,\"arrowwidth\":1},\"geo\":{\"bgcolor\":\"white\",\"landcolor\":\"#E5ECF6\",\"subunitcolor\":\"white\",\"showland\":true,\"showlakes\":true,\"lakecolor\":\"white\"},\"title\":{\"x\":0.05},\"mapbox\":{\"style\":\"light\"}}},\"geo\":{\"domain\":{\"x\":[0.0,1.0],\"y\":[0.0,1.0]},\"center\":{}},\"coloraxis\":{\"colorbar\":{\"title\":{\"text\":\"Number of Coffee Beans\"}},\"colorscale\":[[0.0,\"rgb(0, 128, 128)\"],[0.16666666666666666,\"rgb(112, 164, 148)\"],[0.3333333333333333,\"rgb(180, 200, 168)\"],[0.5,\"rgb(246, 237, 189)\"],[0.6666666666666666,\"rgb(237, 187, 138)\"],[0.8333333333333334,\"rgb(222, 138, 90)\"],[1.0,\"rgb(202, 86, 44)\"]]},\"legend\":{\"tracegroupgap\":0},\"title\":{\"text\":\"Number of Coffee Beans by Country\"}},                        {\"responsive\": true}                    ).then(function(){\n",
       "                            \n",
       "var gd = document.getElementById('596d4d90-f257-4856-b1fe-1f952a98a02c');\n",
       "var x = new MutationObserver(function (mutations, observer) {{\n",
       "        var display = window.getComputedStyle(gd).display;\n",
       "        if (!display || display === 'none') {{\n",
       "            console.log([gd, 'removed!']);\n",
       "            Plotly.purge(gd);\n",
       "            observer.disconnect();\n",
       "        }}\n",
       "}});\n",
       "\n",
       "// Listen for the removal of the full notebook cells\n",
       "var notebookContainer = gd.closest('#notebook-container');\n",
       "if (notebookContainer) {{\n",
       "    x.observe(notebookContainer, {childList: true});\n",
       "}}\n",
       "\n",
       "// Listen for the clearing of the current output cell\n",
       "var outputEl = gd.closest('.output');\n",
       "if (outputEl) {{\n",
       "    x.observe(outputEl, {childList: true});\n",
       "}}\n",
       "\n",
       "                        })                };                });            </script>        </div>"
      ]
     },
     "metadata": {},
     "output_type": "display_data"
    }
   ],
   "source": [
    "# Count the number of coffee beans by country\n",
    "df_grouped = df.groupby('Country of Origin').size().reset_index(name='Number of Coffee Beans')\n",
    "\n",
    "# Create a Choropleth map\n",
    "fig = px.choropleth(df_grouped, \n",
    "                    locations='Country of Origin', \n",
    "                    locationmode='country names',\n",
    "                    color='Number of Coffee Beans',\n",
    "                    hover_name='Country of Origin',\n",
    "                    color_continuous_scale=px.colors.diverging.Geyser,  # Changed to a diverging color scale\n",
    "                    title='Number of Coffee Beans by Country')\n",
    "\n",
    "fig.show()"
   ]
  },
  {
   "cell_type": "markdown",
   "metadata": {},
   "source": [
    "We can also check the average altitude at which the coffee beans are grown in each country."
   ]
  },
  {
   "cell_type": "code",
   "execution_count": 21,
   "metadata": {},
   "outputs": [
    {
     "data": {
      "application/vnd.plotly.v1+json": {
       "config": {
        "plotlyServerURL": "https://plot.ly"
       },
       "data": [
        {
         "coloraxis": "coloraxis",
         "geo": "geo",
         "hovertemplate": "<b>%{hovertext}</b><br><br>Country of Origin=%{location}<br>Altitude=%{z}<extra></extra>",
         "hovertext": [
          "Brazil",
          "Colombia",
          "Costa Rica",
          "El Salvador",
          "Ethiopia",
          "Guatemala",
          "Honduras",
          "Indonesia",
          "Kenya",
          "Laos",
          "Madagascar",
          "Mexico",
          "Myanmar",
          "Nicaragua",
          "Panama",
          "Peru",
          "Taiwan",
          "Tanzania, United Republic Of",
          "Thailand",
          "Uganda",
          "United States (Hawaii)",
          "Vietnam"
         ],
         "locationmode": "country names",
         "locations": [
          "Brazil",
          "Colombia",
          "Costa Rica",
          "El Salvador",
          "Ethiopia",
          "Guatemala",
          "Honduras",
          "Indonesia",
          "Kenya",
          "Laos",
          "Madagascar",
          "Mexico",
          "Myanmar",
          "Nicaragua",
          "Panama",
          "Peru",
          "Taiwan",
          "Tanzania, United Republic Of",
          "Thailand",
          "Uganda",
          "United States (Hawaii)",
          "Vietnam"
         ],
         "name": "",
         "type": "choropleth",
         "z": [
          1067.5,
          1629.7368421052631,
          1687.5,
          1285.7142857142858,
          1968.5454545454545,
          2073.2619047619046,
          1437.6923076923076,
          1283.3333333333333,
          1737.5,
          1283.3333333333333,
          1500,
          1272.5,
          1400,
          1210.7142857142858,
          1200,
          1637.5,
          729.0491803278688,
          1594,
          1306.6666666666667,
          1820,
          848,
          1997.5
         ]
        }
       ],
       "layout": {
        "coloraxis": {
         "colorbar": {
          "title": {
           "text": "Altitude"
          }
         },
         "colorscale": [
          [
           0,
           "rgb(0, 128, 128)"
          ],
          [
           0.16666666666666666,
           "rgb(112, 164, 148)"
          ],
          [
           0.3333333333333333,
           "rgb(180, 200, 168)"
          ],
          [
           0.5,
           "rgb(246, 237, 189)"
          ],
          [
           0.6666666666666666,
           "rgb(237, 187, 138)"
          ],
          [
           0.8333333333333334,
           "rgb(222, 138, 90)"
          ],
          [
           1,
           "rgb(202, 86, 44)"
          ]
         ]
        },
        "geo": {
         "center": {},
         "domain": {
          "x": [
           0,
           1
          ],
          "y": [
           0,
           1
          ]
         }
        },
        "legend": {
         "tracegroupgap": 0
        },
        "template": {
         "data": {
          "bar": [
           {
            "error_x": {
             "color": "#2a3f5f"
            },
            "error_y": {
             "color": "#2a3f5f"
            },
            "marker": {
             "line": {
              "color": "#E5ECF6",
              "width": 0.5
             },
             "pattern": {
              "fillmode": "overlay",
              "size": 10,
              "solidity": 0.2
             }
            },
            "type": "bar"
           }
          ],
          "barpolar": [
           {
            "marker": {
             "line": {
              "color": "#E5ECF6",
              "width": 0.5
             },
             "pattern": {
              "fillmode": "overlay",
              "size": 10,
              "solidity": 0.2
             }
            },
            "type": "barpolar"
           }
          ],
          "carpet": [
           {
            "aaxis": {
             "endlinecolor": "#2a3f5f",
             "gridcolor": "white",
             "linecolor": "white",
             "minorgridcolor": "white",
             "startlinecolor": "#2a3f5f"
            },
            "baxis": {
             "endlinecolor": "#2a3f5f",
             "gridcolor": "white",
             "linecolor": "white",
             "minorgridcolor": "white",
             "startlinecolor": "#2a3f5f"
            },
            "type": "carpet"
           }
          ],
          "choropleth": [
           {
            "colorbar": {
             "outlinewidth": 0,
             "ticks": ""
            },
            "type": "choropleth"
           }
          ],
          "contour": [
           {
            "colorbar": {
             "outlinewidth": 0,
             "ticks": ""
            },
            "colorscale": [
             [
              0,
              "#0d0887"
             ],
             [
              0.1111111111111111,
              "#46039f"
             ],
             [
              0.2222222222222222,
              "#7201a8"
             ],
             [
              0.3333333333333333,
              "#9c179e"
             ],
             [
              0.4444444444444444,
              "#bd3786"
             ],
             [
              0.5555555555555556,
              "#d8576b"
             ],
             [
              0.6666666666666666,
              "#ed7953"
             ],
             [
              0.7777777777777778,
              "#fb9f3a"
             ],
             [
              0.8888888888888888,
              "#fdca26"
             ],
             [
              1,
              "#f0f921"
             ]
            ],
            "type": "contour"
           }
          ],
          "contourcarpet": [
           {
            "colorbar": {
             "outlinewidth": 0,
             "ticks": ""
            },
            "type": "contourcarpet"
           }
          ],
          "heatmap": [
           {
            "colorbar": {
             "outlinewidth": 0,
             "ticks": ""
            },
            "colorscale": [
             [
              0,
              "#0d0887"
             ],
             [
              0.1111111111111111,
              "#46039f"
             ],
             [
              0.2222222222222222,
              "#7201a8"
             ],
             [
              0.3333333333333333,
              "#9c179e"
             ],
             [
              0.4444444444444444,
              "#bd3786"
             ],
             [
              0.5555555555555556,
              "#d8576b"
             ],
             [
              0.6666666666666666,
              "#ed7953"
             ],
             [
              0.7777777777777778,
              "#fb9f3a"
             ],
             [
              0.8888888888888888,
              "#fdca26"
             ],
             [
              1,
              "#f0f921"
             ]
            ],
            "type": "heatmap"
           }
          ],
          "heatmapgl": [
           {
            "colorbar": {
             "outlinewidth": 0,
             "ticks": ""
            },
            "colorscale": [
             [
              0,
              "#0d0887"
             ],
             [
              0.1111111111111111,
              "#46039f"
             ],
             [
              0.2222222222222222,
              "#7201a8"
             ],
             [
              0.3333333333333333,
              "#9c179e"
             ],
             [
              0.4444444444444444,
              "#bd3786"
             ],
             [
              0.5555555555555556,
              "#d8576b"
             ],
             [
              0.6666666666666666,
              "#ed7953"
             ],
             [
              0.7777777777777778,
              "#fb9f3a"
             ],
             [
              0.8888888888888888,
              "#fdca26"
             ],
             [
              1,
              "#f0f921"
             ]
            ],
            "type": "heatmapgl"
           }
          ],
          "histogram": [
           {
            "marker": {
             "pattern": {
              "fillmode": "overlay",
              "size": 10,
              "solidity": 0.2
             }
            },
            "type": "histogram"
           }
          ],
          "histogram2d": [
           {
            "colorbar": {
             "outlinewidth": 0,
             "ticks": ""
            },
            "colorscale": [
             [
              0,
              "#0d0887"
             ],
             [
              0.1111111111111111,
              "#46039f"
             ],
             [
              0.2222222222222222,
              "#7201a8"
             ],
             [
              0.3333333333333333,
              "#9c179e"
             ],
             [
              0.4444444444444444,
              "#bd3786"
             ],
             [
              0.5555555555555556,
              "#d8576b"
             ],
             [
              0.6666666666666666,
              "#ed7953"
             ],
             [
              0.7777777777777778,
              "#fb9f3a"
             ],
             [
              0.8888888888888888,
              "#fdca26"
             ],
             [
              1,
              "#f0f921"
             ]
            ],
            "type": "histogram2d"
           }
          ],
          "histogram2dcontour": [
           {
            "colorbar": {
             "outlinewidth": 0,
             "ticks": ""
            },
            "colorscale": [
             [
              0,
              "#0d0887"
             ],
             [
              0.1111111111111111,
              "#46039f"
             ],
             [
              0.2222222222222222,
              "#7201a8"
             ],
             [
              0.3333333333333333,
              "#9c179e"
             ],
             [
              0.4444444444444444,
              "#bd3786"
             ],
             [
              0.5555555555555556,
              "#d8576b"
             ],
             [
              0.6666666666666666,
              "#ed7953"
             ],
             [
              0.7777777777777778,
              "#fb9f3a"
             ],
             [
              0.8888888888888888,
              "#fdca26"
             ],
             [
              1,
              "#f0f921"
             ]
            ],
            "type": "histogram2dcontour"
           }
          ],
          "mesh3d": [
           {
            "colorbar": {
             "outlinewidth": 0,
             "ticks": ""
            },
            "type": "mesh3d"
           }
          ],
          "parcoords": [
           {
            "line": {
             "colorbar": {
              "outlinewidth": 0,
              "ticks": ""
             }
            },
            "type": "parcoords"
           }
          ],
          "pie": [
           {
            "automargin": true,
            "type": "pie"
           }
          ],
          "scatter": [
           {
            "fillpattern": {
             "fillmode": "overlay",
             "size": 10,
             "solidity": 0.2
            },
            "type": "scatter"
           }
          ],
          "scatter3d": [
           {
            "line": {
             "colorbar": {
              "outlinewidth": 0,
              "ticks": ""
             }
            },
            "marker": {
             "colorbar": {
              "outlinewidth": 0,
              "ticks": ""
             }
            },
            "type": "scatter3d"
           }
          ],
          "scattercarpet": [
           {
            "marker": {
             "colorbar": {
              "outlinewidth": 0,
              "ticks": ""
             }
            },
            "type": "scattercarpet"
           }
          ],
          "scattergeo": [
           {
            "marker": {
             "colorbar": {
              "outlinewidth": 0,
              "ticks": ""
             }
            },
            "type": "scattergeo"
           }
          ],
          "scattergl": [
           {
            "marker": {
             "colorbar": {
              "outlinewidth": 0,
              "ticks": ""
             }
            },
            "type": "scattergl"
           }
          ],
          "scattermapbox": [
           {
            "marker": {
             "colorbar": {
              "outlinewidth": 0,
              "ticks": ""
             }
            },
            "type": "scattermapbox"
           }
          ],
          "scatterpolar": [
           {
            "marker": {
             "colorbar": {
              "outlinewidth": 0,
              "ticks": ""
             }
            },
            "type": "scatterpolar"
           }
          ],
          "scatterpolargl": [
           {
            "marker": {
             "colorbar": {
              "outlinewidth": 0,
              "ticks": ""
             }
            },
            "type": "scatterpolargl"
           }
          ],
          "scatterternary": [
           {
            "marker": {
             "colorbar": {
              "outlinewidth": 0,
              "ticks": ""
             }
            },
            "type": "scatterternary"
           }
          ],
          "surface": [
           {
            "colorbar": {
             "outlinewidth": 0,
             "ticks": ""
            },
            "colorscale": [
             [
              0,
              "#0d0887"
             ],
             [
              0.1111111111111111,
              "#46039f"
             ],
             [
              0.2222222222222222,
              "#7201a8"
             ],
             [
              0.3333333333333333,
              "#9c179e"
             ],
             [
              0.4444444444444444,
              "#bd3786"
             ],
             [
              0.5555555555555556,
              "#d8576b"
             ],
             [
              0.6666666666666666,
              "#ed7953"
             ],
             [
              0.7777777777777778,
              "#fb9f3a"
             ],
             [
              0.8888888888888888,
              "#fdca26"
             ],
             [
              1,
              "#f0f921"
             ]
            ],
            "type": "surface"
           }
          ],
          "table": [
           {
            "cells": {
             "fill": {
              "color": "#EBF0F8"
             },
             "line": {
              "color": "white"
             }
            },
            "header": {
             "fill": {
              "color": "#C8D4E3"
             },
             "line": {
              "color": "white"
             }
            },
            "type": "table"
           }
          ]
         },
         "layout": {
          "annotationdefaults": {
           "arrowcolor": "#2a3f5f",
           "arrowhead": 0,
           "arrowwidth": 1
          },
          "autotypenumbers": "strict",
          "coloraxis": {
           "colorbar": {
            "outlinewidth": 0,
            "ticks": ""
           }
          },
          "colorscale": {
           "diverging": [
            [
             0,
             "#8e0152"
            ],
            [
             0.1,
             "#c51b7d"
            ],
            [
             0.2,
             "#de77ae"
            ],
            [
             0.3,
             "#f1b6da"
            ],
            [
             0.4,
             "#fde0ef"
            ],
            [
             0.5,
             "#f7f7f7"
            ],
            [
             0.6,
             "#e6f5d0"
            ],
            [
             0.7,
             "#b8e186"
            ],
            [
             0.8,
             "#7fbc41"
            ],
            [
             0.9,
             "#4d9221"
            ],
            [
             1,
             "#276419"
            ]
           ],
           "sequential": [
            [
             0,
             "#0d0887"
            ],
            [
             0.1111111111111111,
             "#46039f"
            ],
            [
             0.2222222222222222,
             "#7201a8"
            ],
            [
             0.3333333333333333,
             "#9c179e"
            ],
            [
             0.4444444444444444,
             "#bd3786"
            ],
            [
             0.5555555555555556,
             "#d8576b"
            ],
            [
             0.6666666666666666,
             "#ed7953"
            ],
            [
             0.7777777777777778,
             "#fb9f3a"
            ],
            [
             0.8888888888888888,
             "#fdca26"
            ],
            [
             1,
             "#f0f921"
            ]
           ],
           "sequentialminus": [
            [
             0,
             "#0d0887"
            ],
            [
             0.1111111111111111,
             "#46039f"
            ],
            [
             0.2222222222222222,
             "#7201a8"
            ],
            [
             0.3333333333333333,
             "#9c179e"
            ],
            [
             0.4444444444444444,
             "#bd3786"
            ],
            [
             0.5555555555555556,
             "#d8576b"
            ],
            [
             0.6666666666666666,
             "#ed7953"
            ],
            [
             0.7777777777777778,
             "#fb9f3a"
            ],
            [
             0.8888888888888888,
             "#fdca26"
            ],
            [
             1,
             "#f0f921"
            ]
           ]
          },
          "colorway": [
           "#636efa",
           "#EF553B",
           "#00cc96",
           "#ab63fa",
           "#FFA15A",
           "#19d3f3",
           "#FF6692",
           "#B6E880",
           "#FF97FF",
           "#FECB52"
          ],
          "font": {
           "color": "#2a3f5f"
          },
          "geo": {
           "bgcolor": "white",
           "lakecolor": "white",
           "landcolor": "#E5ECF6",
           "showlakes": true,
           "showland": true,
           "subunitcolor": "white"
          },
          "hoverlabel": {
           "align": "left"
          },
          "hovermode": "closest",
          "mapbox": {
           "style": "light"
          },
          "paper_bgcolor": "white",
          "plot_bgcolor": "#E5ECF6",
          "polar": {
           "angularaxis": {
            "gridcolor": "white",
            "linecolor": "white",
            "ticks": ""
           },
           "bgcolor": "#E5ECF6",
           "radialaxis": {
            "gridcolor": "white",
            "linecolor": "white",
            "ticks": ""
           }
          },
          "scene": {
           "xaxis": {
            "backgroundcolor": "#E5ECF6",
            "gridcolor": "white",
            "gridwidth": 2,
            "linecolor": "white",
            "showbackground": true,
            "ticks": "",
            "zerolinecolor": "white"
           },
           "yaxis": {
            "backgroundcolor": "#E5ECF6",
            "gridcolor": "white",
            "gridwidth": 2,
            "linecolor": "white",
            "showbackground": true,
            "ticks": "",
            "zerolinecolor": "white"
           },
           "zaxis": {
            "backgroundcolor": "#E5ECF6",
            "gridcolor": "white",
            "gridwidth": 2,
            "linecolor": "white",
            "showbackground": true,
            "ticks": "",
            "zerolinecolor": "white"
           }
          },
          "shapedefaults": {
           "line": {
            "color": "#2a3f5f"
           }
          },
          "ternary": {
           "aaxis": {
            "gridcolor": "white",
            "linecolor": "white",
            "ticks": ""
           },
           "baxis": {
            "gridcolor": "white",
            "linecolor": "white",
            "ticks": ""
           },
           "bgcolor": "#E5ECF6",
           "caxis": {
            "gridcolor": "white",
            "linecolor": "white",
            "ticks": ""
           }
          },
          "title": {
           "x": 0.05
          },
          "xaxis": {
           "automargin": true,
           "gridcolor": "white",
           "linecolor": "white",
           "ticks": "",
           "title": {
            "standoff": 15
           },
           "zerolinecolor": "white",
           "zerolinewidth": 2
          },
          "yaxis": {
           "automargin": true,
           "gridcolor": "white",
           "linecolor": "white",
           "ticks": "",
           "title": {
            "standoff": 15
           },
           "zerolinecolor": "white",
           "zerolinewidth": 2
          }
         }
        },
        "title": {
         "text": "Average Altitude by Country"
        }
       }
      },
      "text/html": [
       "<div>                            <div id=\"9319befe-0a41-4c65-9e96-a48e68e73291\" class=\"plotly-graph-div\" style=\"height:525px; width:100%;\"></div>            <script type=\"text/javascript\">                require([\"plotly\"], function(Plotly) {                    window.PLOTLYENV=window.PLOTLYENV || {};                                    if (document.getElementById(\"9319befe-0a41-4c65-9e96-a48e68e73291\")) {                    Plotly.newPlot(                        \"9319befe-0a41-4c65-9e96-a48e68e73291\",                        [{\"coloraxis\":\"coloraxis\",\"geo\":\"geo\",\"hovertemplate\":\"<b>%{hovertext}</b><br><br>Country of Origin=%{location}<br>Altitude=%{z}<extra></extra>\",\"hovertext\":[\"Brazil\",\"Colombia\",\"Costa Rica\",\"El Salvador\",\"Ethiopia\",\"Guatemala\",\"Honduras\",\"Indonesia\",\"Kenya\",\"Laos\",\"Madagascar\",\"Mexico\",\"Myanmar\",\"Nicaragua\",\"Panama\",\"Peru\",\"Taiwan\",\"Tanzania, United Republic Of\",\"Thailand\",\"Uganda\",\"United States (Hawaii)\",\"Vietnam\"],\"locationmode\":\"country names\",\"locations\":[\"Brazil\",\"Colombia\",\"Costa Rica\",\"El Salvador\",\"Ethiopia\",\"Guatemala\",\"Honduras\",\"Indonesia\",\"Kenya\",\"Laos\",\"Madagascar\",\"Mexico\",\"Myanmar\",\"Nicaragua\",\"Panama\",\"Peru\",\"Taiwan\",\"Tanzania, United Republic Of\",\"Thailand\",\"Uganda\",\"United States (Hawaii)\",\"Vietnam\"],\"name\":\"\",\"z\":[1067.5,1629.7368421052631,1687.5,1285.7142857142858,1968.5454545454545,2073.2619047619046,1437.6923076923076,1283.3333333333333,1737.5,1283.3333333333333,1500.0,1272.5,1400.0,1210.7142857142858,1200.0,1637.5,729.0491803278688,1594.0,1306.6666666666667,1820.0,848.0,1997.5],\"type\":\"choropleth\"}],                        {\"template\":{\"data\":{\"histogram2dcontour\":[{\"type\":\"histogram2dcontour\",\"colorbar\":{\"outlinewidth\":0,\"ticks\":\"\"},\"colorscale\":[[0.0,\"#0d0887\"],[0.1111111111111111,\"#46039f\"],[0.2222222222222222,\"#7201a8\"],[0.3333333333333333,\"#9c179e\"],[0.4444444444444444,\"#bd3786\"],[0.5555555555555556,\"#d8576b\"],[0.6666666666666666,\"#ed7953\"],[0.7777777777777778,\"#fb9f3a\"],[0.8888888888888888,\"#fdca26\"],[1.0,\"#f0f921\"]]}],\"choropleth\":[{\"type\":\"choropleth\",\"colorbar\":{\"outlinewidth\":0,\"ticks\":\"\"}}],\"histogram2d\":[{\"type\":\"histogram2d\",\"colorbar\":{\"outlinewidth\":0,\"ticks\":\"\"},\"colorscale\":[[0.0,\"#0d0887\"],[0.1111111111111111,\"#46039f\"],[0.2222222222222222,\"#7201a8\"],[0.3333333333333333,\"#9c179e\"],[0.4444444444444444,\"#bd3786\"],[0.5555555555555556,\"#d8576b\"],[0.6666666666666666,\"#ed7953\"],[0.7777777777777778,\"#fb9f3a\"],[0.8888888888888888,\"#fdca26\"],[1.0,\"#f0f921\"]]}],\"heatmap\":[{\"type\":\"heatmap\",\"colorbar\":{\"outlinewidth\":0,\"ticks\":\"\"},\"colorscale\":[[0.0,\"#0d0887\"],[0.1111111111111111,\"#46039f\"],[0.2222222222222222,\"#7201a8\"],[0.3333333333333333,\"#9c179e\"],[0.4444444444444444,\"#bd3786\"],[0.5555555555555556,\"#d8576b\"],[0.6666666666666666,\"#ed7953\"],[0.7777777777777778,\"#fb9f3a\"],[0.8888888888888888,\"#fdca26\"],[1.0,\"#f0f921\"]]}],\"heatmapgl\":[{\"type\":\"heatmapgl\",\"colorbar\":{\"outlinewidth\":0,\"ticks\":\"\"},\"colorscale\":[[0.0,\"#0d0887\"],[0.1111111111111111,\"#46039f\"],[0.2222222222222222,\"#7201a8\"],[0.3333333333333333,\"#9c179e\"],[0.4444444444444444,\"#bd3786\"],[0.5555555555555556,\"#d8576b\"],[0.6666666666666666,\"#ed7953\"],[0.7777777777777778,\"#fb9f3a\"],[0.8888888888888888,\"#fdca26\"],[1.0,\"#f0f921\"]]}],\"contourcarpet\":[{\"type\":\"contourcarpet\",\"colorbar\":{\"outlinewidth\":0,\"ticks\":\"\"}}],\"contour\":[{\"type\":\"contour\",\"colorbar\":{\"outlinewidth\":0,\"ticks\":\"\"},\"colorscale\":[[0.0,\"#0d0887\"],[0.1111111111111111,\"#46039f\"],[0.2222222222222222,\"#7201a8\"],[0.3333333333333333,\"#9c179e\"],[0.4444444444444444,\"#bd3786\"],[0.5555555555555556,\"#d8576b\"],[0.6666666666666666,\"#ed7953\"],[0.7777777777777778,\"#fb9f3a\"],[0.8888888888888888,\"#fdca26\"],[1.0,\"#f0f921\"]]}],\"surface\":[{\"type\":\"surface\",\"colorbar\":{\"outlinewidth\":0,\"ticks\":\"\"},\"colorscale\":[[0.0,\"#0d0887\"],[0.1111111111111111,\"#46039f\"],[0.2222222222222222,\"#7201a8\"],[0.3333333333333333,\"#9c179e\"],[0.4444444444444444,\"#bd3786\"],[0.5555555555555556,\"#d8576b\"],[0.6666666666666666,\"#ed7953\"],[0.7777777777777778,\"#fb9f3a\"],[0.8888888888888888,\"#fdca26\"],[1.0,\"#f0f921\"]]}],\"mesh3d\":[{\"type\":\"mesh3d\",\"colorbar\":{\"outlinewidth\":0,\"ticks\":\"\"}}],\"scatter\":[{\"fillpattern\":{\"fillmode\":\"overlay\",\"size\":10,\"solidity\":0.2},\"type\":\"scatter\"}],\"parcoords\":[{\"type\":\"parcoords\",\"line\":{\"colorbar\":{\"outlinewidth\":0,\"ticks\":\"\"}}}],\"scatterpolargl\":[{\"type\":\"scatterpolargl\",\"marker\":{\"colorbar\":{\"outlinewidth\":0,\"ticks\":\"\"}}}],\"bar\":[{\"error_x\":{\"color\":\"#2a3f5f\"},\"error_y\":{\"color\":\"#2a3f5f\"},\"marker\":{\"line\":{\"color\":\"#E5ECF6\",\"width\":0.5},\"pattern\":{\"fillmode\":\"overlay\",\"size\":10,\"solidity\":0.2}},\"type\":\"bar\"}],\"scattergeo\":[{\"type\":\"scattergeo\",\"marker\":{\"colorbar\":{\"outlinewidth\":0,\"ticks\":\"\"}}}],\"scatterpolar\":[{\"type\":\"scatterpolar\",\"marker\":{\"colorbar\":{\"outlinewidth\":0,\"ticks\":\"\"}}}],\"histogram\":[{\"marker\":{\"pattern\":{\"fillmode\":\"overlay\",\"size\":10,\"solidity\":0.2}},\"type\":\"histogram\"}],\"scattergl\":[{\"type\":\"scattergl\",\"marker\":{\"colorbar\":{\"outlinewidth\":0,\"ticks\":\"\"}}}],\"scatter3d\":[{\"type\":\"scatter3d\",\"line\":{\"colorbar\":{\"outlinewidth\":0,\"ticks\":\"\"}},\"marker\":{\"colorbar\":{\"outlinewidth\":0,\"ticks\":\"\"}}}],\"scattermapbox\":[{\"type\":\"scattermapbox\",\"marker\":{\"colorbar\":{\"outlinewidth\":0,\"ticks\":\"\"}}}],\"scatterternary\":[{\"type\":\"scatterternary\",\"marker\":{\"colorbar\":{\"outlinewidth\":0,\"ticks\":\"\"}}}],\"scattercarpet\":[{\"type\":\"scattercarpet\",\"marker\":{\"colorbar\":{\"outlinewidth\":0,\"ticks\":\"\"}}}],\"carpet\":[{\"aaxis\":{\"endlinecolor\":\"#2a3f5f\",\"gridcolor\":\"white\",\"linecolor\":\"white\",\"minorgridcolor\":\"white\",\"startlinecolor\":\"#2a3f5f\"},\"baxis\":{\"endlinecolor\":\"#2a3f5f\",\"gridcolor\":\"white\",\"linecolor\":\"white\",\"minorgridcolor\":\"white\",\"startlinecolor\":\"#2a3f5f\"},\"type\":\"carpet\"}],\"table\":[{\"cells\":{\"fill\":{\"color\":\"#EBF0F8\"},\"line\":{\"color\":\"white\"}},\"header\":{\"fill\":{\"color\":\"#C8D4E3\"},\"line\":{\"color\":\"white\"}},\"type\":\"table\"}],\"barpolar\":[{\"marker\":{\"line\":{\"color\":\"#E5ECF6\",\"width\":0.5},\"pattern\":{\"fillmode\":\"overlay\",\"size\":10,\"solidity\":0.2}},\"type\":\"barpolar\"}],\"pie\":[{\"automargin\":true,\"type\":\"pie\"}]},\"layout\":{\"autotypenumbers\":\"strict\",\"colorway\":[\"#636efa\",\"#EF553B\",\"#00cc96\",\"#ab63fa\",\"#FFA15A\",\"#19d3f3\",\"#FF6692\",\"#B6E880\",\"#FF97FF\",\"#FECB52\"],\"font\":{\"color\":\"#2a3f5f\"},\"hovermode\":\"closest\",\"hoverlabel\":{\"align\":\"left\"},\"paper_bgcolor\":\"white\",\"plot_bgcolor\":\"#E5ECF6\",\"polar\":{\"bgcolor\":\"#E5ECF6\",\"angularaxis\":{\"gridcolor\":\"white\",\"linecolor\":\"white\",\"ticks\":\"\"},\"radialaxis\":{\"gridcolor\":\"white\",\"linecolor\":\"white\",\"ticks\":\"\"}},\"ternary\":{\"bgcolor\":\"#E5ECF6\",\"aaxis\":{\"gridcolor\":\"white\",\"linecolor\":\"white\",\"ticks\":\"\"},\"baxis\":{\"gridcolor\":\"white\",\"linecolor\":\"white\",\"ticks\":\"\"},\"caxis\":{\"gridcolor\":\"white\",\"linecolor\":\"white\",\"ticks\":\"\"}},\"coloraxis\":{\"colorbar\":{\"outlinewidth\":0,\"ticks\":\"\"}},\"colorscale\":{\"sequential\":[[0.0,\"#0d0887\"],[0.1111111111111111,\"#46039f\"],[0.2222222222222222,\"#7201a8\"],[0.3333333333333333,\"#9c179e\"],[0.4444444444444444,\"#bd3786\"],[0.5555555555555556,\"#d8576b\"],[0.6666666666666666,\"#ed7953\"],[0.7777777777777778,\"#fb9f3a\"],[0.8888888888888888,\"#fdca26\"],[1.0,\"#f0f921\"]],\"sequentialminus\":[[0.0,\"#0d0887\"],[0.1111111111111111,\"#46039f\"],[0.2222222222222222,\"#7201a8\"],[0.3333333333333333,\"#9c179e\"],[0.4444444444444444,\"#bd3786\"],[0.5555555555555556,\"#d8576b\"],[0.6666666666666666,\"#ed7953\"],[0.7777777777777778,\"#fb9f3a\"],[0.8888888888888888,\"#fdca26\"],[1.0,\"#f0f921\"]],\"diverging\":[[0,\"#8e0152\"],[0.1,\"#c51b7d\"],[0.2,\"#de77ae\"],[0.3,\"#f1b6da\"],[0.4,\"#fde0ef\"],[0.5,\"#f7f7f7\"],[0.6,\"#e6f5d0\"],[0.7,\"#b8e186\"],[0.8,\"#7fbc41\"],[0.9,\"#4d9221\"],[1,\"#276419\"]]},\"xaxis\":{\"gridcolor\":\"white\",\"linecolor\":\"white\",\"ticks\":\"\",\"title\":{\"standoff\":15},\"zerolinecolor\":\"white\",\"automargin\":true,\"zerolinewidth\":2},\"yaxis\":{\"gridcolor\":\"white\",\"linecolor\":\"white\",\"ticks\":\"\",\"title\":{\"standoff\":15},\"zerolinecolor\":\"white\",\"automargin\":true,\"zerolinewidth\":2},\"scene\":{\"xaxis\":{\"backgroundcolor\":\"#E5ECF6\",\"gridcolor\":\"white\",\"linecolor\":\"white\",\"showbackground\":true,\"ticks\":\"\",\"zerolinecolor\":\"white\",\"gridwidth\":2},\"yaxis\":{\"backgroundcolor\":\"#E5ECF6\",\"gridcolor\":\"white\",\"linecolor\":\"white\",\"showbackground\":true,\"ticks\":\"\",\"zerolinecolor\":\"white\",\"gridwidth\":2},\"zaxis\":{\"backgroundcolor\":\"#E5ECF6\",\"gridcolor\":\"white\",\"linecolor\":\"white\",\"showbackground\":true,\"ticks\":\"\",\"zerolinecolor\":\"white\",\"gridwidth\":2}},\"shapedefaults\":{\"line\":{\"color\":\"#2a3f5f\"}},\"annotationdefaults\":{\"arrowcolor\":\"#2a3f5f\",\"arrowhead\":0,\"arrowwidth\":1},\"geo\":{\"bgcolor\":\"white\",\"landcolor\":\"#E5ECF6\",\"subunitcolor\":\"white\",\"showland\":true,\"showlakes\":true,\"lakecolor\":\"white\"},\"title\":{\"x\":0.05},\"mapbox\":{\"style\":\"light\"}}},\"geo\":{\"domain\":{\"x\":[0.0,1.0],\"y\":[0.0,1.0]},\"center\":{}},\"coloraxis\":{\"colorbar\":{\"title\":{\"text\":\"Altitude\"}},\"colorscale\":[[0.0,\"rgb(0, 128, 128)\"],[0.16666666666666666,\"rgb(112, 164, 148)\"],[0.3333333333333333,\"rgb(180, 200, 168)\"],[0.5,\"rgb(246, 237, 189)\"],[0.6666666666666666,\"rgb(237, 187, 138)\"],[0.8333333333333334,\"rgb(222, 138, 90)\"],[1.0,\"rgb(202, 86, 44)\"]]},\"legend\":{\"tracegroupgap\":0},\"title\":{\"text\":\"Average Altitude by Country\"}},                        {\"responsive\": true}                    ).then(function(){\n",
       "                            \n",
       "var gd = document.getElementById('9319befe-0a41-4c65-9e96-a48e68e73291');\n",
       "var x = new MutationObserver(function (mutations, observer) {{\n",
       "        var display = window.getComputedStyle(gd).display;\n",
       "        if (!display || display === 'none') {{\n",
       "            console.log([gd, 'removed!']);\n",
       "            Plotly.purge(gd);\n",
       "            observer.disconnect();\n",
       "        }}\n",
       "}});\n",
       "\n",
       "// Listen for the removal of the full notebook cells\n",
       "var notebookContainer = gd.closest('#notebook-container');\n",
       "if (notebookContainer) {{\n",
       "    x.observe(notebookContainer, {childList: true});\n",
       "}}\n",
       "\n",
       "// Listen for the clearing of the current output cell\n",
       "var outputEl = gd.closest('.output');\n",
       "if (outputEl) {{\n",
       "    x.observe(outputEl, {childList: true});\n",
       "}}\n",
       "\n",
       "                        })                };                });            </script>        </div>"
      ]
     },
     "metadata": {},
     "output_type": "display_data"
    }
   ],
   "source": [
    "# Calculate the mean of altitude of coffee beans\n",
    "df_grouped = df.groupby('Country of Origin')['Altitude'].mean().reset_index()\n",
    "\n",
    "fig = px.choropleth(df_grouped, \n",
    "                    locations='Country of Origin', \n",
    "                    locationmode='country names',\n",
    "                    color='Altitude',\n",
    "                    hover_name='Country of Origin',\n",
    "                    color_continuous_scale=px.colors.diverging.Geyser,\n",
    "                    title='Average Altitude by Country')\n",
    "\n",
    "fig.show()"
   ]
  },
  {
   "cell_type": "markdown",
   "metadata": {},
   "source": [
    "Finally, and most importantly, let's examine the correlation matrix of different attributes. Here, we aim to identify attributes that have high correlations with `Total Cup Points`, as these are potentially important for model fitting later on."
   ]
  },
  {
   "cell_type": "code",
   "execution_count": 22,
   "metadata": {},
   "outputs": [
    {
     "data": {
      "image/png": "[encoded data removed]",
      "text/plain": [
       "<Figure size 1000x800 with 2 Axes>"
      ]
     },
     "metadata": {},
     "output_type": "display_data"
    },
    {
     "data": {
      "image/png": "[encoded data removed]",
      "text/plain": [
       "<Figure size 1000x600 with 1 Axes>"
      ]
     },
     "metadata": {},
     "output_type": "display_data"
    }
   ],
   "source": [
    "# Create a copy of the DataFrame\n",
    "data = df.copy()\n",
    "\n",
    "# Define the columns of interest\n",
    "numerical_columns = ['Altitude', 'Aroma', 'Flavor', 'Aftertaste', 'Acidity', 'Body', 'Balance', 'Overall','Total Cup Points', 'Moisture Percentage', 'Coffee Age']\n",
    "\n",
    "# Scale the numerical columns\n",
    "scaler = StandardScaler()\n",
    "data[numerical_columns] = scaler.fit_transform(data[numerical_columns])\n",
    "\n",
    "# Compute the correlation matrix\n",
    "correlation_matrix = data[numerical_columns].corr()\n",
    "\n",
    "# Graph I: Correlation matrix heatmap\n",
    "plt.figure(figsize=(10, 8))\n",
    "sns.heatmap(correlation_matrix, annot=True, cmap='coolwarm', linewidths=0.5, fmt='.2f')\n",
    "plt.title(\"Correlation Matrix Heatmap\")\n",
    "plt.show()\n",
    "\n",
    "# Get correlations with Total Cup Points\n",
    "target_corr = correlation_matrix['Total Cup Points'].drop('Total Cup Points')\n",
    "\n",
    "# Sort the correlations in descending order\n",
    "target_corr_sorted = target_corr.sort_values(ascending=False)\n",
    "\n",
    "# Graph II: Bar chart of correlations with Total Cup Points\n",
    "plt.figure(figsize=(10, 6))\n",
    "colors = sns.color_palette('coolwarm', len(target_corr_sorted))\n",
    "sns.barplot(x=target_corr_sorted.values, y=target_corr_sorted.index, palette=colors)\n",
    "plt.xlabel('Correlation with Total Cup Points')\n",
    "plt.title('Correlation with Total Cup Points')\n",
    "plt.grid(True, axis='x', linestyle='--', alpha=0.6)\n",
    "\n",
    "# Annotate the bars with exact correlation values\n",
    "for index, value in enumerate(target_corr_sorted):\n",
    "    plt.text(value, index, f'{value:.2f}', va='center', ha='right', color='black', fontsize=10)\n",
    "\n",
    "plt.show()"
   ]
  },
  {
   "cell_type": "markdown",
   "metadata": {},
   "source": [
    "## Conclusion\n",
    "\n",
    "Here are the top three and bottom three factors based on the correlation matrix analysis provided above:\n",
    "\n",
    "***Top 3 Correlations***\n",
    "\n",
    "- Overall: 0.95 – This represents the strongest positive correlation observed, indicating a significant positive association between the overall score and the total cup points.\n",
    "\n",
    "- Flavor: 0.94 – This high positive correlation suggests that superior flavor evaluations are strongly linked to higher total cup points.\n",
    "\n",
    "- Aftertaste and Balance: 0.93 – These attributes also exhibit a strong positive correlation, suggesting that enhanced aftertaste and balance scores are associated with increased total cup points.\n",
    "\n",
    "Additionally, other attributes such as Acidity, Aroma, and Body also display relatively high positive correlations, with values of 0.90, 0.87, and 0.85, respectively.\n",
    "\n",
    "***Bottom 3 Correlations***\n",
    "\n",
    "- Moisture Percentage: -0.05 – This very weak negative correlation indicates a negligible impact of moisture percentage on total cup points. It also shows generally weak correlations with other attributes, with the most notable negative correlation being with Coffee Age (-0.26).\n",
    "\n",
    "- Altitude: 0.12 – Exhibits a weak positive correlation, suggesting only a minor positive influence of altitude on total cup points.\n",
    "\n",
    "- Coffee Age: 0.12 – Similarly, this weak positive correlation indicates a minor positive impact of coffee age on total cup points.\n",
    "\n",
    "In summary, the analysis indicates that flavor qualities and overall scores have a robust positive correlation with total cup points. Conversely, factors such as altitude, coffee age, and moisture percentage exhibit very weak correlations with total cup points, which were unexpected outcomes."
   ]
  },
  {
   "cell_type": "markdown",
   "metadata": {},
   "source": [
    "# Clustering Analysis (Unsupervised)\n",
    "\n",
    "We will now progress to the model training phase, adopting an unsupervised learning approach through clustering analysis. Given that our dataset comprises both numerical and categorical variables, preprocessing will be necessary. Specifically, label encoding will be applied to the categorical features, where each category is assigned a unique numerical label. After that, we will utilize t-SNE visualization, colored by Total Cup Points, for the extraction of insightful observations. Finally, we will use the elbow method in K-means clustering to confirm whether the optimal cluster size is two."
   ]
  },
  {
   "cell_type": "code",
   "execution_count": 35,
   "metadata": {
    "scrolled": true
   },
   "outputs": [
    {
     "data": {
      "image/png": "[encoded data removed]",
      "text/plain": [
       "<Figure size 1000x800 with 2 Axes>"
      ]
     },
     "metadata": {},
     "output_type": "display_data"
    }
   ],
   "source": [
    "# Preprocessing\n",
    "le = LabelEncoder()\n",
    "mm = MinMaxScaler()\n",
    "features_numerical = ['Altitude', 'Aroma', 'Flavor', 'Aftertaste', 'Acidity', 'Body', 'Balance', 'Overall', 'Moisture Percentage', 'Category One Defects', 'Quakers', 'Category Two Defects']\n",
    "features_categorical = ['Country of Origin', 'Processing Method', 'Color']\n",
    "\n",
    "for feature in features_categorical:\n",
    "    df[feature] = le.fit_transform(df[feature])\n",
    "\n",
    "df[features_numerical] = mm.fit_transform(df[features_numerical])\n",
    "\n",
    "# t-SNE Visualization\n",
    "tsne = TSNE(n_components=2, random_state=42, perplexity=50, learning_rate=200)\n",
    "tsne_results = tsne.fit_transform(df[features_numerical + features_categorical])\n",
    "\n",
    "plt.figure(figsize=(10, 8))\n",
    "scatter = plt.scatter(tsne_results[:, 0], tsne_results[:, 1], c=df['Total Cup Points'], cmap='viridis')\n",
    "plt.colorbar(scatter)\n",
    "plt.title('t-SNE Visualization Colored by Total Cup Points')\n",
    "plt.xlabel('Dimension 1')\n",
    "plt.ylabel('Dimension 2')\n",
    "plt.show()\n"
   ]
  },
  {
   "cell_type": "markdown",
   "metadata": {},
   "source": [
    "The t-SNE visualization above, colored by `Total Cup Points`, presents several clusters that show how coffee samples are grouped based on their characteristics:\n",
    "\n",
    "- **Cluster Formation**: The data points are grouped into distinct clusters, which suggest that there are subgroups of coffee samples sharing similar traits. For instance, there are two primary clusters visible in the plot. Each cluster represents a different subset of data points with potentially different underlying properties.\n",
    "\n",
    "- **Color Gradient and Coffee Quality**: The color gradient represents Total Cup Points, which indicate the quality of the coffee samples. This visualization shows a clear pattern where the color intensity varies within each cluster, suggesting that even within groups of similarly characterized coffees, there are variations in quality. For example, in the top-left cluster, the color varies from deep purple to lighter shades, indicating a range of quality scores from high to moderate within the same cluster.\n",
    "\n",
    "- **Outliers and Consistency**: The absence of clear outliers in the plot suggests a relatively uniform distribution of characteristics among the coffee samples. All the samples fall within closely knit clusters with minimal deviation, indicating that the coffee samples are quite homogeneous in terms of the features considered in the t-SNE analysis.\n"
   ]
  },
  {
   "cell_type": "markdown",
   "metadata": {},
   "source": [
    "Next, we will use the elbow method in K-means clustering to confirm whether the optimal cluster size is two."
   ]
  },
  {
   "cell_type": "code",
   "execution_count": 36,
   "metadata": {},
   "outputs": [
    {
     "data": {
      "image/png": "[encoded data removed]",
      "text/plain": [
       "<Figure size 1000x600 with 1 Axes>"
      ]
     },
     "metadata": {},
     "output_type": "display_data"
    }
   ],
   "source": [
    "import warnings\n",
    "warnings.filterwarnings('ignore')\n",
    "\n",
    "# Prepare the dataset\n",
    "data = df[features_numerical + features_categorical]  # Features\n",
    "labels = df['Total Cup Points']  # Target variable if you're using supervised methods later\n",
    "\n",
    "\n",
    "# Calculate SSD for a range of number of clusters\n",
    "ssd = []\n",
    "for num_clusters in range(1, 11):\n",
    "    kmeans = KMeans(n_clusters=num_clusters, random_state=42)\n",
    "    kmeans.fit(data)\n",
    "    ssd.append(kmeans.inertia_)\n",
    "\n",
    "# Plot SSDs for each number of clusters\n",
    "plt.figure(figsize=(10, 6))\n",
    "plt.plot(range(1, 11), ssd, marker='o')\n",
    "plt.title('Elbow Method For Optimal k')\n",
    "plt.xlabel('Number of Clusters')\n",
    "plt.ylabel('Sum of Squared Distances')\n",
    "plt.grid(True)\n",
    "plt.show()"
   ]
  },
  {
   "cell_type": "markdown",
   "metadata": {},
   "source": [
    "Indeed, the elbow method indicates that 2 is the optimal number of clusters for this dataset."
   ]
  },
  {
   "cell_type": "code",
   "execution_count": 39,
   "metadata": {},
   "outputs": [
    {
     "name": "stdout",
     "output_type": "stream",
     "text": [
      "Cluster\n",
      "1    110\n",
      "0     97\n",
      "Name: count, dtype: int64\n"
     ]
    }
   ],
   "source": [
    "# Number of clusters\n",
    "k = 2 \n",
    "\n",
    "# Initialize the KMeans model\n",
    "kmeans = KMeans(n_clusters=k, random_state=42)\n",
    "\n",
    "# Fit the model on the data\n",
    "df['Cluster'] = kmeans.fit_predict(df[features_numerical + features_categorical])\n",
    "\n",
    "# Check the count of data points in each cluster\n",
    "print(df['Cluster'].value_counts())"
   ]
  },
  {
   "cell_type": "markdown",
   "metadata": {},
   "source": [
    "# Random Foreset Regressor (Supervised)"
   ]
  },
  {
   "cell_type": "markdown",
   "metadata": {},
   "source": [
    "Among the various supervised learning algorithms available, the Random Forest regressor stands out as a robust and versatile method suitable for tackling complex regression tasks. This technique leverages the power of ensemble learning, where multiple decision trees are constructed during the training process, and their predictions are averaged to produce a more accurate and stable model.\n",
    "\n",
    "In this section, we will use the `Random Forest Regressor` to build a predictive model for forecasting the `Total Cup Points`."
   ]
  },
  {
   "cell_type": "code",
   "execution_count": 42,
   "metadata": {},
   "outputs": [],
   "source": [
    "categorical_columns = ['Processing Method','Country of Origin', 'Color']\n",
    "numerical_columns = ['Altitude', 'Aroma', 'Flavor', 'Aftertaste', 'Acidity', 'Body', 'Balance', 'Overall', 'Total Cup Points', 'Moisture Percentage', 'Category One Defects', 'Quakers', 'Category Two Defects', 'Coffee Age']\n",
    "\n",
    "# Define preprocessor\n",
    "preprocessor = ColumnTransformer(\n",
    "    transformers=[\n",
    "        ('num', MinMaxScaler(), [col for col in numerical_columns if col != 'Total Cup Points']),\n",
    "        ('cat', OneHotEncoder(), categorical_columns)])\n",
    "\n",
    "# Append classifier to preprocessing pipeline.\n",
    "clf = Pipeline(steps=[('preprocessor', preprocessor),\n",
    "                      ('classifier', RandomForestRegressor(n_estimators=100, random_state=42))])\n",
    "\n",
    "# Split the data into train and test sets\n",
    "X = df.drop('Total Cup Points', axis=1)\n",
    "y = df['Total Cup Points']\n",
    "X_train, X_test, y_train, y_test = train_test_split(X, y, test_size=0.2, random_state=42)"
   ]
  },
  {
   "cell_type": "code",
   "execution_count": 44,
   "metadata": {},
   "outputs": [
    {
     "name": "stdout",
     "output_type": "stream",
     "text": [
      "Training RMSE: 0.13\n",
      "Test RMSE: 0.36\n",
      "Training R2 Score: 0.99\n",
      "Test R2 Score: 0.95\n"
     ]
    }
   ],
   "source": [
    "from sklearn.metrics import mean_squared_error, r2_score\n",
    "\n",
    "# Fit the model to the training data\n",
    "clf.fit(X_train, y_train)\n",
    "\n",
    "# Predict on the training data and the test data\n",
    "train_predictions = clf.predict(X_train)\n",
    "test_predictions = clf.predict(X_test)\n",
    "\n",
    "# Evaluate the model performance\n",
    "train_rmse = mean_squared_error(y_train, train_predictions, squared=False)\n",
    "test_rmse = mean_squared_error(y_test, test_predictions, squared=False)\n",
    "train_r2 = r2_score(y_train, train_predictions)\n",
    "test_r2 = r2_score(y_test, test_predictions)\n",
    "\n",
    "print(f\"Training RMSE: {train_rmse:.2f}\")\n",
    "print(f\"Test RMSE: {test_rmse:.2f}\")\n",
    "print(f\"Training R2 Score: {train_r2:.2f}\")\n",
    "print(f\"Test R2 Score: {test_r2:.2f}\")"
   ]
  },
  {
   "cell_type": "markdown",
   "metadata": {},
   "source": [
    "Our model performs quite well, as evidenced by the high R2 score on the test dataset. Next, we'd like to examine the feature importance, as this could provide insights into which factors are most important for the `Total Cup Points`."
   ]
  },
  {
   "cell_type": "code",
   "execution_count": 55,
   "metadata": {},
   "outputs": [
    {
     "data": {
      "image/png": "[encoded data removed]",
      "text/plain": [
       "<Figure size 1200x800 with 1 Axes>"
      ]
     },
     "metadata": {},
     "output_type": "display_data"
    }
   ],
   "source": [
    "# Feature importance\n",
    "feature_names = X_train.columns.tolist()\n",
    "for cat in clf.named_steps['preprocessor'].transformers_[1][1].categories_:\n",
    "    feature_names.extend(cat.tolist())\n",
    "importances = clf.named_steps['classifier'].feature_importances_\n",
    "sorted_indices = np.argsort(importances)[::-1]\n",
    "\n",
    "# Feature Importance Plot\n",
    "plt.figure(figsize=(12, 8))\n",
    "sorted_indices = np.argsort(importances)[::-1][:5]\n",
    "plt.title('Feature Importances (Top 5)')\n",
    "bars = sns.barplot(y=np.array(feature_names)[sorted_indices], x=importances[sorted_indices])\n",
    "for bar in bars.patches:\n",
    "    plt.text(bar.get_width(),  # x-coordinate position for text\n",
    "             bar.get_y() + bar.get_height() / 2,  # y-coordinate position for text\n",
    "             f'{bar.get_width():.3f}',  # text to display\n",
    "             va='center')  # vertical alignment\n",
    "plt.show()\n"
   ]
  },
  {
   "cell_type": "markdown",
   "metadata": {},
   "source": [
    "Here are some observations about the result:\n",
    "\n",
    "**Body (0.699)**: This attribute has the highest importance score, suggesting that the thickness or viscosity of the coffee in the mouth (its body) is the most critical factor in determining the overall quality of coffee as measured by 'Total Cup Points'. This could imply that the sensory perception of the coffee's texture is a significant determinant of its perceived quality.\n",
    "\n",
    "**Aroma (0.131)**: The second most influential factor is the aroma, which accounts for about 13.1% of the importance in the model. This indicates that the scent or fragrance of the coffee also plays a substantial role in its quality assessment. The aroma is often the first characteristic experienced by consumers and can heavily influence their overall impression.\n",
    "\n",
    "**Acidity (0.061)**: Acidity, which refers to the brightness or tartness of the coffee, is the third most important feature. It contributes to the lively and sharp taste that can enhance the coffee's flavor profile. While less critical than body and aroma, its importance shows that the taste profile, particularly how vivid or muted the coffee feels, is a notable factor in quality ratings.\n",
    "\n",
    "**Processing Method** and **Altitude**, contributing 5.2% and 1.6% respectively, have lesser influence on the model compared to other factors. The Processing Method affects the coffee beans' attributes post-harvest, impacting the overall sensory qualities of the coffee. Although Altitude plays a role in shaping flavor complexity and acidity, its impact is relatively minor within this dataset. Together, these factors suggest that while certain cultivation and processing techniques do affect coffee quality, their influence is less pronounced than sensory properties like body and aroma.\n",
    "\n",
    "Overall, these importances highlight that both physical properties (like body and aroma) and some aspects of cultivation and processing (like acidity and method) significantly determine coffee quality as perceived through `Total Cup Points`. This insight can guide both coffee producers and marketers in focusing on these key attributes to enhance product quality and consumer satisfaction."
   ]
  },
  {
   "cell_type": "code",
   "execution_count": 51,
   "metadata": {},
   "outputs": [
    {
     "data": {
      "image/png": "[encoded data removed]",
      "text/plain": [
       "<Figure size 1000x600 with 1 Axes>"
      ]
     },
     "metadata": {},
     "output_type": "display_data"
    },
    {
     "data": {
      "image/png": "[encoded data removed]",
      "text/plain": [
       "<Figure size 1000x600 with 1 Axes>"
      ]
     },
     "metadata": {},
     "output_type": "display_data"
    }
   ],
   "source": [
    "# Prediction Error Plot\n",
    "plt.figure(figsize=(10, 6))\n",
    "plt.scatter(y_test, test_predictions, alpha=0.5)\n",
    "plt.plot([y.min(), y.max()], [y.min(), y.max()], 'k--', lw=4)  # Diagonal line for reference\n",
    "plt.xlabel('Measured')\n",
    "plt.ylabel('Predicted')\n",
    "plt.title('Prediction Error Plot')\n",
    "plt.show()\n",
    "\n",
    "# Residuals Plot\n",
    "residuals = y_test - test_predictions\n",
    "plt.figure(figsize=(10, 6))\n",
    "plt.scatter(test_predictions, residuals, alpha=0.5)\n",
    "plt.hlines(y=0, xmin=test_predictions.min(), xmax=test_predictions.max(), colors='red', linestyles='--')\n",
    "plt.title('Residuals Plot')\n",
    "plt.xlabel('Predicted')\n",
    "plt.ylabel('Residuals')\n",
    "plt.show()"
   ]
  },
  {
   "cell_type": "markdown",
   "metadata": {},
   "source": [
    "Here are some observations about the result:\n",
    "\n",
    "**Prediction Error Plot**: This plot compares the actual `Total Cup Points` (Measured) against the predicted values (Predicted). The points are generally aligned closely with the dashed diagonal line, which indicates that the predictions closely match the actual values across the range. This alignment suggests that the model has a strong predictive accuracy, with most predictions falling within a close range of the actual scores.\n",
    "\n",
    "**Residuals Plot**: This plot shows the residuals (the differences between the actual and predicted values) versus the predicted values. Ideally, residuals should be randomly distributed around the horizontal line at zero, indicating that the model does not systematically overestimate or underestimate the scores. In this plot, while most residuals cluster around zero, indicating good model performance, there is a slight spread, suggesting some variance in the accuracy of predictions across different values. The presence of one notable outlier suggests an instance where the model significantly underestimated the score, which might warrant further investigation.\n",
    "\n",
    "Together, these plots demonstrate that the model performs well with high accuracy and reliability, though there might be room for improvement, especially in handling outliers or certain ranges where the residuals are higher."
   ]
  },
  {
   "cell_type": "code",
   "execution_count": null,
   "metadata": {},
   "outputs": [],
   "source": []
  }
 ],
 "metadata": {
  "kernelspec": {
   "display_name": "Python 3 (ipykernel)",
   "language": "python",
   "name": "python3"
  },
  "language_info": {
   "codemirror_mode": {
    "name": "ipython",
    "version": 3
   },
   "file_extension": ".py",
   "mimetype": "text/x-python",
   "name": "python",
   "nbconvert_exporter": "python",
   "pygments_lexer": "ipython3",
   "version": "3.11.5"
  }
 },
 "nbformat": 4,
 "nbformat_minor": 2
}
